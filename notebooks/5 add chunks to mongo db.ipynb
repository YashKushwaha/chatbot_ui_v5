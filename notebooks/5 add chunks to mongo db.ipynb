{
 "cells": [
  {
   "cell_type": "code",
   "execution_count": 1,
   "id": "8c849d8a-8b0d-4a2e-badb-7cf88407a3d0",
   "metadata": {},
   "outputs": [],
   "source": [
    "from pathlib import Path\n",
    "import os"
   ]
  },
  {
   "cell_type": "code",
   "execution_count": 2,
   "id": "24de42c7-6c90-4822-855d-6c9f1c188014",
   "metadata": {},
   "outputs": [
    {
     "data": {
      "text/plain": [
       "['2412.17149v1.pdf']"
      ]
     },
     "execution_count": 2,
     "metadata": {},
     "output_type": "execute_result"
    }
   ],
   "source": [
    "PROJECT_ROOT = Path(os.getcwd()).resolve().parents[0]\n",
    "paper_folder = os.path.join(PROJECT_ROOT, 'docs')\n",
    "\n",
    "files = [i for i in os.listdir(paper_folder) if i.endswith('.pdf')]\n",
    "files"
   ]
  },
  {
   "cell_type": "code",
   "execution_count": 3,
   "id": "98666dca-133e-43eb-93bf-b77e9dc4d669",
   "metadata": {},
   "outputs": [],
   "source": [
    "from marker.converters.pdf import PdfConverter\n",
    "from marker.models import create_model_dict\n",
    "from marker.output import text_from_rendered"
   ]
  },
  {
   "cell_type": "code",
   "execution_count": 4,
   "id": "37590d19-fb82-4c32-9063-3aee524481ed",
   "metadata": {},
   "outputs": [
    {
     "name": "stderr",
     "output_type": "stream",
     "text": [
      "Recognizing layout: 100%|███████████████████████████████████████████████████████████████| 1/1 [00:01<00:00,  1.55s/it]\n",
      "Running OCR Error Detection: 100%|██████████████████████████████████████████████████████| 1/1 [00:00<00:00, 25.17it/s]\n",
      "Detecting bboxes: 0it [00:00, ?it/s]\n",
      "Recognizing Text: 100%|█████████████████████████████████████████████████████████████████| 3/3 [00:00<00:00,  5.55it/s]\n",
      "Detecting bboxes: 0it [00:00, ?it/s]\n",
      "Recognizing tables: 100%|███████████████████████████████████████████████████████████████| 1/1 [00:00<00:00,  7.50it/s]\n"
     ]
    }
   ],
   "source": [
    "# Load PDF and render\n",
    "pdf_file = os.path.join(paper_folder, files[0])\n",
    "\n",
    "converter = PdfConverter(artifact_dict=create_model_dict())\n",
    "rendered = converter(pdf_file)  # replace with your PDF path"
   ]
  },
  {
   "cell_type": "code",
   "execution_count": 5,
   "id": "3986a601-5f51-42c6-aa64-6585c8f3c0e4",
   "metadata": {},
   "outputs": [],
   "source": [
    "from dataclasses import dataclass\n",
    "\n",
    "@dataclass\n",
    "class MarkdownChunk:\n",
    "    content: str\n",
    "    type: str\n",
    "    page: int\n",
    "    metadata: dict\n"
   ]
  },
  {
   "cell_type": "code",
   "execution_count": 6,
   "id": "ea1963bd-650c-48bf-b388-8dffb7f477ea",
   "metadata": {},
   "outputs": [
    {
     "name": "stderr",
     "output_type": "stream",
     "text": [
      "Recognizing layout: 100%|███████████████████████████████████████████████████████████████| 1/1 [00:01<00:00,  1.39s/it]\n",
      "Running OCR Error Detection: 100%|██████████████████████████████████████████████████████| 1/1 [00:00<00:00, 24.68it/s]\n",
      "Detecting bboxes: 0it [00:00, ?it/s]\n",
      "Recognizing Text: 100%|█████████████████████████████████████████████████████████████████| 3/3 [00:00<00:00,  6.40it/s]\n",
      "Detecting bboxes: 0it [00:00, ?it/s]\n",
      "Recognizing tables: 100%|███████████████████████████████████████████████████████████████| 1/1 [00:00<00:00,  9.61it/s]\n"
     ]
    }
   ],
   "source": [
    "doc = converter.build_document(pdf_file)  # Use .render()"
   ]
  },
  {
   "cell_type": "markdown",
   "id": "f87a76e7-dec6-49a9-a30f-550c90c9dfc3",
   "metadata": {},
   "source": [
    "chunks = []\n",
    "current_section = None\n",
    "for page in doc.pages:\n",
    "    for block in page.contained_blocks(doc):\n",
    "        if str(block.block_type) == \"SectionHeader\":\n",
    "            current_section = block.raw_text(doc).strip()\n",
    "    \n",
    "        if str(block.block_type) == \"Text\":\n",
    "            content = block.raw_text(doc)\n",
    "            bbox = block.polygon.bbox if block.polygon else None\n",
    "            chunks.append({\n",
    "                \"content\": content,\n",
    "                \"section\": current_section,\n",
    "                \"page\": page.page_id,\n",
    "                \"bbox\": bbox \n",
    "            })\n"
   ]
  },
  {
   "cell_type": "code",
   "execution_count": 7,
   "id": "74a1ffa9-4b93-4284-95bf-5726c15a72ff",
   "metadata": {},
   "outputs": [],
   "source": [
    "chunks = []\n",
    "current_section = None\n",
    "target_types = {\"Text\", \"Title\", \"List\", \"Table\", \"Caption\", \"Equation\"}\n",
    "image_types = {\"Image\", \"Figure\"}  # Adjust based on your PDF library\n",
    "fallback_types = {\n",
    "    \"Reference\", \"TextInlineMath\", \"ListItem\", \"TableCell\",\n",
    "     \"PageHeader\", \"PageFooter\"\n",
    "}\n",
    "\n",
    "# \"Span\" \"Line\", \n",
    "all_types = []\n",
    "for page in doc.pages:\n",
    "    for block in page.contained_blocks(doc):\n",
    "        block_type = str(block.block_type)\n",
    "        all_types.append(block_type)\n",
    "        if block_type == \"SectionHeader\":\n",
    "            current_section = block.raw_text(doc).strip()\n",
    "\n",
    "        if block_type in target_types:\n",
    "            content = block.raw_text(doc).strip()\n",
    "            bbox = block.polygon.bbox if block.polygon else None\n",
    "\n",
    "            chunks.append({\n",
    "                \"content\": content,\n",
    "                \"section\": current_section,\n",
    "                \"page\": page.page_id,\n",
    "                \"bbox\": bbox,\n",
    "                \"block_type\": block_type\n",
    "            })\n",
    "        \n",
    "            # Extract images (only metadata here; content comes later)\n",
    "        elif block_type in image_types:\n",
    "            bbox = block.polygon.bbox if block.polygon else None\n",
    "\n",
    "            chunks.append({\n",
    "                \"content\": '',  # You can add a filename or a base64 if you extract it\n",
    "                \"section\": current_section,\n",
    "                \"page\": page.page_id,\n",
    "                \"bbox\": bbox,\n",
    "                \"block_type\": block_type\n",
    "            })\n",
    "\n",
    "                # Already useful content\n",
    "        if block_type in fallback_types:\n",
    "            content = block.raw_text(doc).strip()\n",
    "            bbox = block.polygon.bbox if block.polygon else None\n",
    "\n",
    "            chunks.append({\n",
    "                \"content\": content,\n",
    "                \"section\": current_section,\n",
    "                \"page\": page.page_id,\n",
    "                \"bbox\": bbox,\n",
    "                \"block_type\": block_type,\n",
    "                \"include_in_index\": block_type in target_types  # helpful flag\n",
    "            })"
   ]
  },
  {
   "cell_type": "code",
   "execution_count": 8,
   "id": "b38c4370-cbd6-4e32-b7e9-50529c932b75",
   "metadata": {},
   "outputs": [],
   "source": [
    "all_types_set = set(all_types)"
   ]
  },
  {
   "cell_type": "code",
   "execution_count": 9,
   "id": "03022555-5910-4166-95b2-410f4d636ea6",
   "metadata": {},
   "outputs": [
    {
     "data": {
      "text/plain": [
       "{'Caption',\n",
       " 'Equation',\n",
       " 'Figure',\n",
       " 'FigureGroup',\n",
       " 'Line',\n",
       " 'ListGroup',\n",
       " 'ListItem',\n",
       " 'PageFooter',\n",
       " 'PageHeader',\n",
       " 'Reference',\n",
       " 'SectionHeader',\n",
       " 'Span',\n",
       " 'Table',\n",
       " 'TableCell',\n",
       " 'Text',\n",
       " 'TextInlineMath'}"
      ]
     },
     "execution_count": 9,
     "metadata": {},
     "output_type": "execute_result"
    }
   ],
   "source": [
    "all_types_set"
   ]
  },
  {
   "cell_type": "code",
   "execution_count": 10,
   "id": "695018bd-248b-469c-a4f6-26e9e33cdce0",
   "metadata": {},
   "outputs": [
    {
     "data": {
      "text/plain": [
       "['FigureGroup',\n",
       " 'Line',\n",
       " 'Span',\n",
       " 'PageHeader',\n",
       " 'ListItem',\n",
       " 'TableCell',\n",
       " 'ListGroup',\n",
       " 'SectionHeader',\n",
       " 'PageFooter',\n",
       " 'Reference',\n",
       " 'TextInlineMath']"
      ]
     },
     "execution_count": 10,
     "metadata": {},
     "output_type": "execute_result"
    }
   ],
   "source": [
    "[i for i in all_types_set if i not in {*target_types,*image_types}]"
   ]
  },
  {
   "cell_type": "code",
   "execution_count": 11,
   "id": "16e9c8bd-7335-4770-b421-af7b68f8b8e5",
   "metadata": {},
   "outputs": [
    {
     "data": {
      "text/plain": [
       "213"
      ]
     },
     "execution_count": 11,
     "metadata": {},
     "output_type": "execute_result"
    }
   ],
   "source": [
    "len(chunks)"
   ]
  },
  {
   "cell_type": "code",
   "execution_count": 12,
   "id": "91fa2731-0c68-4578-aa85-26d86eb43118",
   "metadata": {},
   "outputs": [
    {
     "data": {
      "text/plain": [
       "{'content': 'arXiv:2412.17149v1 [cs.CL] 22 Dec 2024',\n",
       " 'section': None,\n",
       " 'page': 0,\n",
       " 'bbox': [18.34000015258789, 249.146484375, 36.5224609375, 609.2599945068359],\n",
       " 'block_type': 'PageHeader',\n",
       " 'include_in_index': False}"
      ]
     },
     "execution_count": 12,
     "metadata": {},
     "output_type": "execute_result"
    }
   ],
   "source": [
    "chunks[1]"
   ]
  },
  {
   "cell_type": "code",
   "execution_count": 13,
   "id": "daa11633-bd2f-4103-a515-5a9da154a091",
   "metadata": {},
   "outputs": [],
   "source": [
    "def get_batches_from_iterator(iterator, batch_size=100):\n",
    "    batch = []    \n",
    "    for doc in iterator:\n",
    "        batch.append(doc)\n",
    "        if len(batch) == batch_size:\n",
    "            yield batch\n",
    "            batch = []\n",
    "    if batch:\n",
    "        yield batch  # Yield any remaining documents"
   ]
  },
  {
   "cell_type": "code",
   "execution_count": 14,
   "id": "d969c456-4342-4381-bd24-f24c7d5aed3d",
   "metadata": {},
   "outputs": [],
   "source": [
    "from pymongo import MongoClient, ASCENDING, UpdateOne"
   ]
  },
  {
   "cell_type": "code",
   "execution_count": 15,
   "id": "5fad413a-090f-4259-ad94-247780e3ef8e",
   "metadata": {},
   "outputs": [],
   "source": [
    "def get_mongo_db_client():\n",
    "    client = MongoClient(\"mongodb://localhost:27017/\")\n",
    "    assert client.admin.command(\"ping\") == {'ok': 1.0}\n",
    "    return client"
   ]
  },
  {
   "cell_type": "code",
   "execution_count": 16,
   "id": "0e3b6b85-6f55-4a48-863f-c382c07ad280",
   "metadata": {},
   "outputs": [],
   "source": [
    "mongo_db_client = get_mongo_db_client()\n",
    "database = mongo_db_client['chatbot_ui_v5']  "
   ]
  },
  {
   "cell_type": "code",
   "execution_count": 17,
   "id": "2b3e62e8-cadd-4001-9709-fc8b1fb3189f",
   "metadata": {},
   "outputs": [],
   "source": [
    "database['test'].drop()\n",
    "collection = database['test']"
   ]
  },
  {
   "cell_type": "code",
   "execution_count": 18,
   "id": "44a7c1c0-4379-4026-8fd2-c2d9e121f3da",
   "metadata": {},
   "outputs": [],
   "source": [
    "for batch in get_batches_from_iterator(chunks, batch_size = 32):\n",
    "    result = collection.insert_many(batch)"
   ]
  },
  {
   "cell_type": "code",
   "execution_count": 19,
   "id": "3b4ffb47-f161-4de0-922f-05fc812cc68c",
   "metadata": {
    "scrolled": true
   },
   "outputs": [
    {
     "data": {
      "text/plain": [
       "213"
      ]
     },
     "execution_count": 19,
     "metadata": {},
     "output_type": "execute_result"
    }
   ],
   "source": [
    "collection.count_documents({})"
   ]
  },
  {
   "cell_type": "code",
   "execution_count": 26,
   "id": "f0b64d22-1bf7-463f-8fa3-7db867753caa",
   "metadata": {},
   "outputs": [],
   "source": [
    "import json"
   ]
  },
  {
   "cell_type": "code",
   "execution_count": 29,
   "id": "2af80d99-9666-4e1e-848e-512b7b58d5b1",
   "metadata": {},
   "outputs": [
    {
     "name": "stdout",
     "output_type": "stream",
     "text": [
      "Help on function dumps in module json:\n",
      "\n",
      "dumps(obj, *, skipkeys=False, ensure_ascii=True, check_circular=True, allow_nan=True, cls=None, indent=None, separators=None, default=None, sort_keys=False, **kw)\n",
      "    Serialize ``obj`` to a JSON formatted ``str``.\n",
      "    \n",
      "    If ``skipkeys`` is true then ``dict`` keys that are not basic types\n",
      "    (``str``, ``int``, ``float``, ``bool``, ``None``) will be skipped\n",
      "    instead of raising a ``TypeError``.\n",
      "    \n",
      "    If ``ensure_ascii`` is false, then the return value can contain non-ASCII\n",
      "    characters if they appear in strings contained in ``obj``. Otherwise, all\n",
      "    such characters are escaped in JSON strings.\n",
      "    \n",
      "    If ``check_circular`` is false, then the circular reference check\n",
      "    for container types will be skipped and a circular reference will\n",
      "    result in an ``RecursionError`` (or worse).\n",
      "    \n",
      "    If ``allow_nan`` is false, then it will be a ``ValueError`` to\n",
      "    serialize out of range ``float`` values (``nan``, ``inf``, ``-inf``) in\n",
      "    strict compliance of the JSON specification, instead of using the\n",
      "    JavaScript equivalents (``NaN``, ``Infinity``, ``-Infinity``).\n",
      "    \n",
      "    If ``indent`` is a non-negative integer, then JSON array elements and\n",
      "    object members will be pretty-printed with that indent level. An indent\n",
      "    level of 0 will only insert newlines. ``None`` is the most compact\n",
      "    representation.\n",
      "    \n",
      "    If specified, ``separators`` should be an ``(item_separator, key_separator)``\n",
      "    tuple.  The default is ``(', ', ': ')`` if *indent* is ``None`` and\n",
      "    ``(',', ': ')`` otherwise.  To get the most compact JSON representation,\n",
      "    you should specify ``(',', ':')`` to eliminate whitespace.\n",
      "    \n",
      "    ``default(obj)`` is a function that should return a serializable version\n",
      "    of obj or raise TypeError. The default simply raises TypeError.\n",
      "    \n",
      "    If *sort_keys* is true (default: ``False``), then the output of\n",
      "    dictionaries will be sorted by key.\n",
      "    \n",
      "    To use a custom ``JSONEncoder`` subclass (e.g. one that overrides the\n",
      "    ``.default()`` method to serialize additional types), specify it with\n",
      "    the ``cls`` kwarg; otherwise ``JSONEncoder`` is used.\n",
      "\n"
     ]
    }
   ],
   "source": [
    "help(json.dumps)"
   ]
  },
  {
   "cell_type": "code",
   "execution_count": 32,
   "id": "4db57745-c7d3-4a9e-a386-ede9b200dad9",
   "metadata": {},
   "outputs": [
    {
     "name": "stdout",
     "output_type": "stream",
     "text": [
      "{\n",
      "    \"content\": \"\",\n",
      "    \"section\": null,\n",
      "    \"page\": 0,\n",
      "    \"bbox\": [\n",
      "        282.7216796875,\n",
      "        791.841796875,\n",
      "        288.5419921875,\n",
      "        804.998046875\n",
      "    ],\n",
      "    \"block_type\": \"PageHeader\",\n",
      "    \"include_in_index\": false\n",
      "}\n",
      "-----\n",
      "{\n",
      "    \"content\": \"arXiv:2412.17149v1 [cs.CL] 22 Dec 2024\",\n",
      "    \"section\": null,\n",
      "    \"page\": 0,\n",
      "    \"bbox\": [\n",
      "        18.34000015258789,\n",
      "        249.146484375,\n",
      "        36.5224609375,\n",
      "        609.2599945068359\n",
      "    ],\n",
      "    \"block_type\": \"PageHeader\",\n",
      "    \"include_in_index\": false\n",
      "}\n",
      "-----\n",
      "{\n",
      "    \"content\": \"Kamer Ali Yuksel and Hassan Sawaf\",\n",
      "    \"section\": \"A Multi-AI Agent System for Autonomous Optimization of Agentic AI\\nSolutions via Iterative Refinement and LLM-Driven Feedback Loops\",\n",
      "    \"page\": 0,\n",
      "    \"bbox\": [\n",
      "        199.0546875,\n",
      "        135.43719482421875,\n",
      "        394.56561279296875,\n",
      "        148.316162109375\n",
      "    ],\n",
      "    \"block_type\": \"Text\"\n",
      "}\n",
      "-----\n",
      "{\n",
      "    \"content\": \"aiXplain Inc., San Jose, CA, USA\\n{kamer, hassan}@aixplain.com\",\n",
      "    \"section\": \"A Multi-AI Agent System for Autonomous Optimization of Agentic AI\\nSolutions via Iterative Refinement and LLM-Driven Feedback Loops\",\n",
      "    \"page\": 0,\n",
      "    \"bbox\": [\n",
      "        211.568359375,\n",
      "        149.49334716796875,\n",
      "        386.177734375,\n",
      "        175.245361328125\n",
      "    ],\n",
      "    \"block_type\": \"Text\"\n",
      "}\n",
      "-----\n",
      "{\n",
      "    \"content\": \"Agentic AI systems use specialized agents to\\nhandle tasks within complex workflows, en-\\nabling automation and efficiency. However,\\noptimizing these systems often requires labor-\\nintensive, manual adjustments to refine roles,\\ntasks, and interactions. This paper introduces a\\nframework for autonomously optimizing Agen-\\ntic AI solutions across industries, such as NLP-\\ndriven enterprise applications. The system em-\\nploys agents for Refinement, Execution, Evalu-\\nation, Modification, and Documentation, lever-\\naging iterative feedback loops powered by an\\nLLM (Llama 3.2-3B). The framework achieves\\noptimal performance without human input by\\nautonomously generating and testing hypothe-\\nses to improve system configurations. This\\napproach enhances scalability and adaptability,\\noffering a robust solution for real-world appli-\\ncations in dynamic environments. Case studies\\nacross diverse domains illustrate the transfor-\\nmative impact of this framework, showcasing\\nsignificant improvements in output quality, rel-\\nevance, and actionability. All data for these\\ncase studies, including original and evolved\\nagent codes, along with their outputs, are here:\\nanonymous.4open.science/r/evolver-1D11/\",\n",
      "    \"section\": \"Abstract\",\n",
      "    \"page\": 0,\n",
      "    \"bbox\": [\n",
      "        85.92236328125,\n",
      "        244.41845703125,\n",
      "        275.009765625,\n",
      "        554.2560729980469\n",
      "    ],\n",
      "    \"block_type\": \"Text\"\n",
      "}\n",
      "-----\n",
      "{\n",
      "    \"content\": \"Agentic AI systems, composed of specialized\\nagents working collaboratively to achieve com-\\nplex objectives, have transformed industries such\\nas market research, business process optimization,\\nand product recommendation. These systems excel\\nin automating decision-making and streamlining\\nworkflows. However, their optimization remains\\nchallenging due to the complexity of agent interac-\\ntions and reliance on manual configurations.\",\n",
      "    \"section\": \"1 Introduction\",\n",
      "    \"page\": 0,\n",
      "    \"bbox\": [\n",
      "        69.26171875,\n",
      "        588.3491973876953,\n",
      "        290.9458923339844,\n",
      "        707.8177642822266\n",
      "    ],\n",
      "    \"block_type\": \"Text\"\n",
      "}\n",
      "-----\n",
      "{\n",
      "    \"content\": \"Recent advancements in large language mod-\\nels (LLMs) provide a solution by enabling auto-\\nmated refinement of Agentic AI systems. LLMs\\ncan autonomously generate and evaluate complex\\nhypotheses, facilitating iterative improvements in\",\n",
      "    \"section\": \"1 Introduction\",\n",
      "    \"page\": 0,\n",
      "    \"bbox\": [\n",
      "        69.552734375,\n",
      "        710.3091888427734,\n",
      "        290.94561767578125,\n",
      "        775.6192932128906\n",
      "    ],\n",
      "    \"block_type\": \"Text\"\n",
      "}\n",
      "-----\n",
      "{\n",
      "    \"content\": \"agent roles and workflows with minimal human\\noversight. Case studies conducted demonstrate how\\nthese advancements address domain-specific chal-\\nlenges. These examples highlight the framework's\\nscalability and adaptability, making it particularly\\neffective for dynamic, evolving environments.\",\n",
      "    \"section\": \"1 Introduction\",\n",
      "    \"page\": 0,\n",
      "    \"bbox\": [\n",
      "        306.14202880859375,\n",
      "        222.53717041015625,\n",
      "        526.2152709960938,\n",
      "        301.35772705078125\n",
      "    ],\n",
      "    \"block_type\": \"Text\"\n",
      "}\n",
      "-----\n"
     ]
    }
   ],
   "source": [
    "for i in collection.find({}, {'_id':0}).limit(8):\n",
    "    j = json.dumps(i, indent=4)\n",
    "    print(j)\n",
    "    print(5*'-')"
   ]
  }
 ],
 "metadata": {
  "kernelspec": {
   "display_name": "Python 3 (ipykernel)",
   "language": "python",
   "name": "python3"
  },
  "language_info": {
   "codemirror_mode": {
    "name": "ipython",
    "version": 3
   },
   "file_extension": ".py",
   "mimetype": "text/x-python",
   "name": "python",
   "nbconvert_exporter": "python",
   "pygments_lexer": "ipython3",
   "version": "3.10.12"
  }
 },
 "nbformat": 4,
 "nbformat_minor": 5
}
