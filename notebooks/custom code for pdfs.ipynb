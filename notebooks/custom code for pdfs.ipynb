{
 "cells": [
  {
   "cell_type": "code",
   "execution_count": null,
   "id": "b496dd63-2280-4fee-ac88-181a64d533da",
   "metadata": {},
   "outputs": [],
   "source": []
  },
  {
   "cell_type": "code",
   "execution_count": null,
   "id": "a7cb1ca4-0e21-46fb-ab1f-22f9995df630",
   "metadata": {},
   "outputs": [],
   "source": []
  },
  {
   "cell_type": "code",
   "execution_count": 2,
   "id": "e81d0d7a-2260-4a09-b275-28ff46dc05ec",
   "metadata": {},
   "outputs": [],
   "source": [
    "from fastapi import FastAPI, Query\n",
    "from fastapi.responses import StreamingResponse\n",
    "from pypdf import PdfReader, PdfWriter\n",
    "from io import BytesIO\n",
    "import os\n",
    "\n",
    "app = FastAPI()\n",
    "\n",
    "PDF_DIR = \"/mnt/f/chatbot_ui_v5/docs\"  # base folder\n",
    "\n",
    "def extract_pdf_pages(pdf_path: str, pages: list[int]) -> PdfWriter:\n",
    "    reader = PdfReader(pdf_path)\n",
    "    writer = PdfWriter()\n",
    "\n",
    "    for page_num in pages:\n",
    "        if 0 <= page_num < len(reader.pages):\n",
    "            writer.add_page(reader.pages[page_num])\n",
    "    return writer\n",
    "\n",
    "def merge_pdf_parts(pdf_specs: list[tuple[str, list[int]]]) -> BytesIO:\n",
    "    final_writer = PdfWriter()\n",
    "\n",
    "    for pdf_name, pages in pdf_specs:\n",
    "        path = os.path.join(PDF_DIR, pdf_name)\n",
    "        writer = extract_pdf_pages(path, pages)\n",
    "        for page in writer.pages:\n",
    "            final_writer.add_page(page)\n",
    "\n",
    "    output_stream = BytesIO()\n",
    "    final_writer.write(output_stream)\n",
    "    output_stream.seek(0)\n",
    "    return output_stream\n"
   ]
  },
  {
   "cell_type": "code",
   "execution_count": null,
   "id": "87b82564-c622-4338-b212-ff955e07ed06",
   "metadata": {},
   "outputs": [],
   "source": []
  },
  {
   "cell_type": "code",
   "execution_count": 3,
   "id": "ff951144-9ef1-42a4-98b0-2b23f0848f63",
   "metadata": {},
   "outputs": [],
   "source": [
    "@app.get(\"/custom-pdf\")\n",
    "def get_custom_pdf(\n",
    "    pdfs: list[str] = Query(..., description=\"List of PDF filenames\"),\n",
    "    page_ranges: list[str] = Query(..., description=\"Comma-separated page indices per file (0-based)\")\n",
    "):\n",
    "    \"\"\"\n",
    "    Example:\n",
    "    /custom-pdf?pdfs=doc1.pdf&pdfs=doc2.pdf&page_ranges=0,1&page_ranges=2\n",
    "    Will take pages 0,1 from doc1.pdf and page 2 from doc2.pdf\n",
    "    \"\"\"\n",
    "\n",
    "    specs = []\n",
    "    for name, range_str in zip(pdfs, page_ranges):\n",
    "        page_nums = [int(p.strip()) for p in range_str.split(\",\")]\n",
    "        specs.append((name, page_nums))\n",
    "\n",
    "    output = merge_pdf_parts(specs)\n",
    "    return StreamingResponse(output, media_type=\"application/pdf\", headers={\"Content-Disposition\": \"inline; filename=custom.pdf\"})\n"
   ]
  },
  {
   "cell_type": "code",
   "execution_count": null,
   "id": "71d31822-0b1a-43cf-8093-20430371642d",
   "metadata": {},
   "outputs": [],
   "source": [
    "#GET /custom-pdf?pdfs=2412.17149v1.pdf&page_ranges=0,1,2\n",
    "#GET /custom-pdf?pdfs=a.pdf&pdfs=b.pdf&page_ranges=0,1&page_ranges=2,3"
   ]
  },
  {
   "cell_type": "code",
   "execution_count": null,
   "id": "c51f0a90-3874-43b3-8810-51394b8bd2f8",
   "metadata": {},
   "outputs": [],
   "source": []
  }
 ],
 "metadata": {
  "kernelspec": {
   "display_name": "Python 3 (ipykernel)",
   "language": "python",
   "name": "python3"
  },
  "language_info": {
   "codemirror_mode": {
    "name": "ipython",
    "version": 3
   },
   "file_extension": ".py",
   "mimetype": "text/x-python",
   "name": "python",
   "nbconvert_exporter": "python",
   "pygments_lexer": "ipython3",
   "version": "3.10.12"
  }
 },
 "nbformat": 4,
 "nbformat_minor": 5
}
