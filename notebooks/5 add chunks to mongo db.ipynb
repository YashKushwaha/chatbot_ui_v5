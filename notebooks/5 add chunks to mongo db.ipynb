{
 "cells": [
  {
   "cell_type": "code",
   "execution_count": 1,
   "id": "8c849d8a-8b0d-4a2e-badb-7cf88407a3d0",
   "metadata": {},
   "outputs": [],
   "source": [
    "from pathlib import Path\n",
    "import os"
   ]
  },
  {
   "cell_type": "code",
   "execution_count": 2,
   "id": "24de42c7-6c90-4822-855d-6c9f1c188014",
   "metadata": {},
   "outputs": [
    {
     "data": {
      "text/plain": [
       "['2412.17149v1.pdf']"
      ]
     },
     "execution_count": 2,
     "metadata": {},
     "output_type": "execute_result"
    }
   ],
   "source": [
    "PROJECT_ROOT = Path(os.getcwd()).resolve().parents[0]\n",
    "paper_folder = os.path.join(PROJECT_ROOT, 'docs')\n",
    "\n",
    "files = [i for i in os.listdir(paper_folder) if i.endswith('.pdf')]\n",
    "files"
   ]
  },
  {
   "cell_type": "code",
   "execution_count": 3,
   "id": "98666dca-133e-43eb-93bf-b77e9dc4d669",
   "metadata": {},
   "outputs": [],
   "source": [
    "from marker.converters.pdf import PdfConverter\n",
    "from marker.models import create_model_dict\n",
    "from marker.output import text_from_rendered"
   ]
  },
  {
   "cell_type": "code",
   "execution_count": 4,
   "id": "37590d19-fb82-4c32-9063-3aee524481ed",
   "metadata": {},
   "outputs": [
    {
     "name": "stderr",
     "output_type": "stream",
     "text": [
      "Recognizing layout: 100%|███████████████████████████████████████████████████████████████| 1/1 [00:01<00:00,  1.37s/it]\n",
      "Running OCR Error Detection: 100%|██████████████████████████████████████████████████████| 1/1 [00:00<00:00, 24.47it/s]\n",
      "Detecting bboxes: 0it [00:00, ?it/s]\n",
      "Recognizing Text: 100%|█████████████████████████████████████████████████████████████████| 3/3 [00:00<00:00,  5.55it/s]\n",
      "Detecting bboxes: 0it [00:00, ?it/s]\n",
      "Recognizing tables: 100%|███████████████████████████████████████████████████████████████| 1/1 [00:00<00:00,  7.90it/s]\n"
     ]
    }
   ],
   "source": [
    "# Load PDF and render\n",
    "pdf_file = os.path.join(paper_folder, files[0])\n",
    "\n",
    "converter = PdfConverter(artifact_dict=create_model_dict())\n",
    "rendered = converter(pdf_file)  # replace with your PDF path"
   ]
  },
  {
   "cell_type": "code",
   "execution_count": 5,
   "id": "3986a601-5f51-42c6-aa64-6585c8f3c0e4",
   "metadata": {},
   "outputs": [],
   "source": [
    "from dataclasses import dataclass\n",
    "\n",
    "@dataclass\n",
    "class MarkdownChunk:\n",
    "    content: str\n",
    "    type: str\n",
    "    page: int\n",
    "    metadata: dict\n"
   ]
  },
  {
   "cell_type": "code",
   "execution_count": 6,
   "id": "ea1963bd-650c-48bf-b388-8dffb7f477ea",
   "metadata": {},
   "outputs": [
    {
     "name": "stderr",
     "output_type": "stream",
     "text": [
      "Recognizing layout: 100%|███████████████████████████████████████████████████████████████| 1/1 [00:01<00:00,  1.48s/it]\n",
      "Running OCR Error Detection: 100%|██████████████████████████████████████████████████████| 1/1 [00:00<00:00, 24.51it/s]\n",
      "Detecting bboxes: 0it [00:00, ?it/s]\n",
      "Recognizing Text: 100%|█████████████████████████████████████████████████████████████████| 3/3 [00:00<00:00,  6.63it/s]\n",
      "Detecting bboxes: 0it [00:00, ?it/s]\n",
      "Recognizing tables: 100%|███████████████████████████████████████████████████████████████| 1/1 [00:00<00:00,  9.80it/s]\n"
     ]
    }
   ],
   "source": [
    "doc = converter.build_document(pdf_file)  # Use .render()"
   ]
  },
  {
   "cell_type": "markdown",
   "id": "f87a76e7-dec6-49a9-a30f-550c90c9dfc3",
   "metadata": {},
   "source": [
    "chunks = []\n",
    "current_section = None\n",
    "for page in doc.pages:\n",
    "    for block in page.contained_blocks(doc):\n",
    "        if str(block.block_type) == \"SectionHeader\":\n",
    "            current_section = block.raw_text(doc).strip()\n",
    "    \n",
    "        if str(block.block_type) == \"Text\":\n",
    "            content = block.raw_text(doc)\n",
    "            bbox = block.polygon.bbox if block.polygon else None\n",
    "            chunks.append({\n",
    "                \"content\": content,\n",
    "                \"section\": current_section,\n",
    "                \"page\": page.page_id,\n",
    "                \"bbox\": bbox \n",
    "            })\n"
   ]
  },
  {
   "cell_type": "code",
   "execution_count": 7,
   "id": "74a1ffa9-4b93-4284-95bf-5726c15a72ff",
   "metadata": {},
   "outputs": [],
   "source": [
    "chunks = []\n",
    "current_section = None\n",
    "target_types = {\"Text\", \"Title\", \"List\", \"Table\", \"Caption\", \"Equation\"}\n",
    "\n",
    "for page in doc.pages:\n",
    "    for block in page.contained_blocks(doc):\n",
    "        block_type = str(block.block_type)\n",
    "\n",
    "        if block_type == \"SectionHeader\":\n",
    "            current_section = block.raw_text(doc).strip()\n",
    "\n",
    "        if block_type in target_types:\n",
    "            content = block.raw_text(doc).strip()\n",
    "            bbox = block.polygon.bbox if block.polygon else None\n",
    "\n",
    "            chunks.append({\n",
    "                \"content\": content,\n",
    "                \"section\": current_section,\n",
    "                \"page\": page.page_id,\n",
    "                \"bbox\": bbox,\n",
    "                \"block_type\": block_type\n",
    "            })\n"
   ]
  },
  {
   "cell_type": "code",
   "execution_count": 8,
   "id": "16e9c8bd-7335-4770-b421-af7b68f8b8e5",
   "metadata": {},
   "outputs": [
    {
     "data": {
      "text/plain": [
       "66"
      ]
     },
     "execution_count": 8,
     "metadata": {},
     "output_type": "execute_result"
    }
   ],
   "source": [
    "len(chunks)"
   ]
  },
  {
   "cell_type": "code",
   "execution_count": 9,
   "id": "91fa2731-0c68-4578-aa85-26d86eb43118",
   "metadata": {},
   "outputs": [
    {
     "data": {
      "text/plain": [
       "{'content': 'aiXplain Inc., San Jose, CA, USA\\n{kamer, hassan}@aixplain.com',\n",
       " 'section': 'A Multi-AI Agent System for Autonomous Optimization of Agentic AI\\nSolutions via Iterative Refinement and LLM-Driven Feedback Loops',\n",
       " 'page': 0,\n",
       " 'bbox': [211.568359375, 149.49334716796875, 386.177734375, 175.245361328125],\n",
       " 'block_type': 'Text'}"
      ]
     },
     "execution_count": 9,
     "metadata": {},
     "output_type": "execute_result"
    }
   ],
   "source": [
    "chunks[1]"
   ]
  },
  {
   "cell_type": "code",
   "execution_count": 10,
   "id": "daa11633-bd2f-4103-a515-5a9da154a091",
   "metadata": {},
   "outputs": [],
   "source": [
    "def get_batches_from_iterator(iterator, batch_size=100):\n",
    "    batch = []    \n",
    "    for doc in iterator:\n",
    "        batch.append(doc)\n",
    "        if len(batch) == batch_size:\n",
    "            yield batch\n",
    "            batch = []\n",
    "    if batch:\n",
    "        yield batch  # Yield any remaining documents"
   ]
  },
  {
   "cell_type": "code",
   "execution_count": 11,
   "id": "d969c456-4342-4381-bd24-f24c7d5aed3d",
   "metadata": {},
   "outputs": [],
   "source": [
    "from pymongo import MongoClient, ASCENDING, UpdateOne"
   ]
  },
  {
   "cell_type": "code",
   "execution_count": 12,
   "id": "5fad413a-090f-4259-ad94-247780e3ef8e",
   "metadata": {},
   "outputs": [],
   "source": [
    "def get_mongo_db_client():\n",
    "    client = MongoClient(\"mongodb://localhost:27017/\")\n",
    "    assert client.admin.command(\"ping\") == {'ok': 1.0}\n",
    "    return client"
   ]
  },
  {
   "cell_type": "code",
   "execution_count": 13,
   "id": "0e3b6b85-6f55-4a48-863f-c382c07ad280",
   "metadata": {},
   "outputs": [],
   "source": [
    "mongo_db_client = get_mongo_db_client()\n",
    "database = mongo_db_client['chatbot_ui_v5']  "
   ]
  },
  {
   "cell_type": "code",
   "execution_count": 14,
   "id": "2b3e62e8-cadd-4001-9709-fc8b1fb3189f",
   "metadata": {},
   "outputs": [],
   "source": [
    "database['test'].drop()\n",
    "collection = database['test']"
   ]
  },
  {
   "cell_type": "code",
   "execution_count": 15,
   "id": "44a7c1c0-4379-4026-8fd2-c2d9e121f3da",
   "metadata": {},
   "outputs": [],
   "source": [
    "for batch in get_batches_from_iterator(chunks, batch_size = 32):\n",
    "    result = collection.insert_many(batch)"
   ]
  },
  {
   "cell_type": "code",
   "execution_count": 16,
   "id": "3b4ffb47-f161-4de0-922f-05fc812cc68c",
   "metadata": {},
   "outputs": [
    {
     "data": {
      "text/plain": [
       "66"
      ]
     },
     "execution_count": 16,
     "metadata": {},
     "output_type": "execute_result"
    }
   ],
   "source": [
    "collection.count_documents({})"
   ]
  },
  {
   "cell_type": "code",
   "execution_count": 17,
   "id": "4db57745-c7d3-4a9e-a386-ede9b200dad9",
   "metadata": {},
   "outputs": [
    {
     "name": "stdout",
     "output_type": "stream",
     "text": [
      "{'_id': ObjectId('6874924d39b4009dc474eefb'), 'content': 'Kamer Ali Yuksel and Hassan Sawaf', 'section': 'A Multi-AI Agent System for Autonomous Optimization of Agentic AI\\nSolutions via Iterative Refinement and LLM-Driven Feedback Loops', 'page': 0, 'bbox': [199.0546875, 135.43719482421875, 394.56561279296875, 148.316162109375], 'block_type': 'Text'}\n",
      "{'_id': ObjectId('6874924d39b4009dc474eefc'), 'content': 'aiXplain Inc., San Jose, CA, USA\\n{kamer, hassan}@aixplain.com', 'section': 'A Multi-AI Agent System for Autonomous Optimization of Agentic AI\\nSolutions via Iterative Refinement and LLM-Driven Feedback Loops', 'page': 0, 'bbox': [211.568359375, 149.49334716796875, 386.177734375, 175.245361328125], 'block_type': 'Text'}\n"
     ]
    }
   ],
   "source": [
    "for i in collection.find().limit(2):\n",
    "    print(i)"
   ]
  }
 ],
 "metadata": {
  "kernelspec": {
   "display_name": "Python 3 (ipykernel)",
   "language": "python",
   "name": "python3"
  },
  "language_info": {
   "codemirror_mode": {
    "name": "ipython",
    "version": 3
   },
   "file_extension": ".py",
   "mimetype": "text/x-python",
   "name": "python",
   "nbconvert_exporter": "python",
   "pygments_lexer": "ipython3",
   "version": "3.10.12"
  }
 },
 "nbformat": 4,
 "nbformat_minor": 5
}
