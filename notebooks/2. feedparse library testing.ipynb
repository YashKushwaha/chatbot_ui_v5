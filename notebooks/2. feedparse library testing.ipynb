{
 "cells": [
  {
   "cell_type": "code",
   "execution_count": 1,
   "id": "4cf2ff6d-d413-469e-9c15-03d3ff182eb9",
   "metadata": {},
   "outputs": [],
   "source": [
    "import feedparser\n",
    "from urllib.parse import quote\n",
    "import os\n",
    "import subprocess"
   ]
  },
  {
   "cell_type": "code",
   "execution_count": 2,
   "id": "9328e85e-4141-4f57-a9f1-c9b036f58b47",
   "metadata": {},
   "outputs": [],
   "source": [
    "def search_arxiv(query: str, max_results: int = 5):\n",
    "    base_url = \"http://export.arxiv.org/api/query?\"\n",
    "    encoded_query = quote(query)  # e.g. \"llama index\" -> \"llama%20index\"\n",
    "    query_url = f\"{base_url}search_query={encoded_query}&start=0&max_results={max_results}\"\n",
    "    print(query_url)\n",
    "    feed = feedparser.parse(query_url)\n",
    "    return feed"
   ]
  },
  {
   "cell_type": "code",
   "execution_count": 3,
   "id": "2ab703ca-6398-4857-b923-5c22c016bf3c",
   "metadata": {},
   "outputs": [],
   "source": [
    "query = 'agent workflows for ai powered applications'"
   ]
  },
  {
   "cell_type": "code",
   "execution_count": 4,
   "id": "66a24604-e940-494b-aff4-8e6a6b5fd533",
   "metadata": {},
   "outputs": [
    {
     "name": "stdout",
     "output_type": "stream",
     "text": [
      "http://export.arxiv.org/api/query?search_query=agent%20workflows%20for%20ai%20powered%20applications&start=0&max_results=5\n"
     ]
    }
   ],
   "source": [
    "feed = search_arxiv(query)"
   ]
  },
  {
   "cell_type": "code",
   "execution_count": 5,
   "id": "556d404e-9de6-454e-b8d3-b82e42d04051",
   "metadata": {},
   "outputs": [
    {
     "data": {
      "text/plain": [
       "feedparser.util.FeedParserDict"
      ]
     },
     "execution_count": 5,
     "metadata": {},
     "output_type": "execute_result"
    }
   ],
   "source": [
    "type(feed)"
   ]
  },
  {
   "cell_type": "code",
   "execution_count": 6,
   "id": "8ef1463c-4548-44e6-8a97-9667ad95d06f",
   "metadata": {},
   "outputs": [
    {
     "data": {
      "text/plain": [
       "{'bozo': False,\n",
       " 'entries': [{'id': 'http://arxiv.org/abs/2412.17149v1',\n",
       "   'guidislink': True,\n",
       "   'link': 'http://arxiv.org/abs/2412.17149v1',\n",
       "   'updated': '2024-12-22T20:08:04Z',\n",
       "   'updated_parsed': time.struct_time(tm_year=2024, tm_mon=12, tm_mday=22, tm_hour=20, tm_min=8, tm_sec=4, tm_wday=6, tm_yday=357, tm_isdst=0),\n",
       "   'published': '2024-12-22T20:08:04Z',\n",
       "   'published_parsed': time.struct_time(tm_year=2024, tm_mon=12, tm_mday=22, tm_hour=20, tm_min=8, tm_sec=4, tm_wday=6, tm_yday=357, tm_isdst=0),\n",
       "   'title': 'A Multi-AI Agent System for Autonomous Optimization of Agentic AI\\n  Solutions via Iterative Refinement and LLM-Driven Feedback Loops',\n",
       "   'title_detail': {'type': 'text/plain',\n",
       "    'language': None,\n",
       "    'base': 'https://export.arxiv.org/api/query?search_query=agent%20workflows%20for%20ai%20powered%20applications&start=0&max_results=5',\n",
       "    'value': 'A Multi-AI Agent System for Autonomous Optimization of Agentic AI\\n  Solutions via Iterative Refinement and LLM-Driven Feedback Loops'},\n",
       "   'summary': 'Agentic AI systems use specialized agents to handle tasks within complex\\nworkflows, enabling automation and efficiency. However, optimizing these\\nsystems often requires labor-intensive, manual adjustments to refine roles,\\ntasks, and interactions. This paper introduces a framework for autonomously\\noptimizing Agentic AI solutions across industries, such as NLP-driven\\nenterprise applications. The system employs agents for Refinement, Execution,\\nEvaluation, Modification, and Documentation, leveraging iterative feedback\\nloops powered by an LLM (Llama 3.2-3B). The framework achieves optimal\\nperformance without human input by autonomously generating and testing\\nhypotheses to improve system configurations. This approach enhances scalability\\nand adaptability, offering a robust solution for real-world applications in\\ndynamic environments. Case studies across diverse domains illustrate the\\ntransformative impact of this framework, showcasing significant improvements in\\noutput quality, relevance, and actionability. All data for these case studies,\\nincluding original and evolved agent codes, along with their outputs, are here:\\nhttps://anonymous.4open.science/r/evolver-1D11/',\n",
       "   'summary_detail': {'type': 'text/plain',\n",
       "    'language': None,\n",
       "    'base': 'https://export.arxiv.org/api/query?search_query=agent%20workflows%20for%20ai%20powered%20applications&start=0&max_results=5',\n",
       "    'value': 'Agentic AI systems use specialized agents to handle tasks within complex\\nworkflows, enabling automation and efficiency. However, optimizing these\\nsystems often requires labor-intensive, manual adjustments to refine roles,\\ntasks, and interactions. This paper introduces a framework for autonomously\\noptimizing Agentic AI solutions across industries, such as NLP-driven\\nenterprise applications. The system employs agents for Refinement, Execution,\\nEvaluation, Modification, and Documentation, leveraging iterative feedback\\nloops powered by an LLM (Llama 3.2-3B). The framework achieves optimal\\nperformance without human input by autonomously generating and testing\\nhypotheses to improve system configurations. This approach enhances scalability\\nand adaptability, offering a robust solution for real-world applications in\\ndynamic environments. Case studies across diverse domains illustrate the\\ntransformative impact of this framework, showcasing significant improvements in\\noutput quality, relevance, and actionability. All data for these case studies,\\nincluding original and evolved agent codes, along with their outputs, are here:\\nhttps://anonymous.4open.science/r/evolver-1D11/'},\n",
       "   'authors': [{'name': 'Kamer Ali Yuksel'}, {'name': 'Hassan Sawaf'}],\n",
       "   'author_detail': {'name': 'Hassan Sawaf'},\n",
       "   'author': 'Hassan Sawaf',\n",
       "   'links': [{'href': 'http://arxiv.org/abs/2412.17149v1',\n",
       "     'rel': 'alternate',\n",
       "     'type': 'text/html'},\n",
       "    {'title': 'pdf',\n",
       "     'href': 'http://arxiv.org/pdf/2412.17149v1',\n",
       "     'rel': 'related',\n",
       "     'type': 'application/pdf'}],\n",
       "   'arxiv_primary_category': {'term': 'cs.CL',\n",
       "    'scheme': 'http://arxiv.org/schemas/atom'},\n",
       "   'tags': [{'term': 'cs.CL',\n",
       "     'scheme': 'http://arxiv.org/schemas/atom',\n",
       "     'label': None},\n",
       "    {'term': 'cs.AI',\n",
       "     'scheme': 'http://arxiv.org/schemas/atom',\n",
       "     'label': None},\n",
       "    {'term': 'cs.ET',\n",
       "     'scheme': 'http://arxiv.org/schemas/atom',\n",
       "     'label': None},\n",
       "    {'term': 'cs.MA',\n",
       "     'scheme': 'http://arxiv.org/schemas/atom',\n",
       "     'label': None},\n",
       "    {'term': 'cs.NE',\n",
       "     'scheme': 'http://arxiv.org/schemas/atom',\n",
       "     'label': None}]},\n",
       "  {'id': 'http://arxiv.org/abs/2504.12891v1',\n",
       "   'guidislink': True,\n",
       "   'link': 'http://arxiv.org/abs/2504.12891v1',\n",
       "   'updated': '2025-04-17T12:32:18Z',\n",
       "   'updated_parsed': time.struct_time(tm_year=2025, tm_mon=4, tm_mday=17, tm_hour=12, tm_min=32, tm_sec=18, tm_wday=3, tm_yday=107, tm_isdst=0),\n",
       "   'published': '2025-04-17T12:32:18Z',\n",
       "   'published_parsed': time.struct_time(tm_year=2025, tm_mon=4, tm_mday=17, tm_hour=12, tm_min=32, tm_sec=18, tm_wday=3, tm_yday=107, tm_isdst=0),\n",
       "   'title': 'Are AI agents the new machine translation frontier? Challenges and\\n  opportunities of single- and multi-agent systems for multilingual digital\\n  communication',\n",
       "   'title_detail': {'type': 'text/plain',\n",
       "    'language': None,\n",
       "    'base': 'https://export.arxiv.org/api/query?search_query=agent%20workflows%20for%20ai%20powered%20applications&start=0&max_results=5',\n",
       "    'value': 'Are AI agents the new machine translation frontier? Challenges and\\n  opportunities of single- and multi-agent systems for multilingual digital\\n  communication'},\n",
       "   'summary': 'The rapid evolution of artificial intelligence (AI) has introduced AI agents\\nas a disruptive paradigm across various industries, yet their application in\\nmachine translation (MT) remains underexplored. This paper describes and\\nanalyses the potential of single- and multi-agent systems for MT, reflecting on\\nhow they could enhance multilingual digital communication. While single-agent\\nsystems are well-suited for simpler translation tasks, multi-agent systems,\\nwhich involve multiple specialized AI agents collaborating in a structured\\nmanner, may offer a promising solution for complex scenarios requiring high\\naccuracy, domain-specific knowledge, and contextual awareness. To demonstrate\\nthe feasibility of multi-agent workflows in MT, we are conducting a pilot study\\nin legal MT. The study employs a multi-agent system involving four specialized\\nAI agents for (i) translation, (ii) adequacy review, (iii) fluency review, and\\n(iv) final editing. Our findings suggest that multi-agent systems may have the\\npotential to significantly improve domain-adaptability and contextual\\nawareness, with superior translation quality to traditional MT or single-agent\\nsystems. This paper also sets the stage for future research into multi-agent\\napplications in MT, integration into professional translation workflows, and\\nshares a demo of the system analyzed in the paper.',\n",
       "   'summary_detail': {'type': 'text/plain',\n",
       "    'language': None,\n",
       "    'base': 'https://export.arxiv.org/api/query?search_query=agent%20workflows%20for%20ai%20powered%20applications&start=0&max_results=5',\n",
       "    'value': 'The rapid evolution of artificial intelligence (AI) has introduced AI agents\\nas a disruptive paradigm across various industries, yet their application in\\nmachine translation (MT) remains underexplored. This paper describes and\\nanalyses the potential of single- and multi-agent systems for MT, reflecting on\\nhow they could enhance multilingual digital communication. While single-agent\\nsystems are well-suited for simpler translation tasks, multi-agent systems,\\nwhich involve multiple specialized AI agents collaborating in a structured\\nmanner, may offer a promising solution for complex scenarios requiring high\\naccuracy, domain-specific knowledge, and contextual awareness. To demonstrate\\nthe feasibility of multi-agent workflows in MT, we are conducting a pilot study\\nin legal MT. The study employs a multi-agent system involving four specialized\\nAI agents for (i) translation, (ii) adequacy review, (iii) fluency review, and\\n(iv) final editing. Our findings suggest that multi-agent systems may have the\\npotential to significantly improve domain-adaptability and contextual\\nawareness, with superior translation quality to traditional MT or single-agent\\nsystems. This paper also sets the stage for future research into multi-agent\\napplications in MT, integration into professional translation workflows, and\\nshares a demo of the system analyzed in the paper.'},\n",
       "   'authors': [{'name': 'Vicent Briva-Iglesias'}],\n",
       "   'author_detail': {'name': 'Vicent Briva-Iglesias'},\n",
       "   'author': 'Vicent Briva-Iglesias',\n",
       "   'links': [{'href': 'http://arxiv.org/abs/2504.12891v1',\n",
       "     'rel': 'alternate',\n",
       "     'type': 'text/html'},\n",
       "    {'title': 'pdf',\n",
       "     'href': 'http://arxiv.org/pdf/2504.12891v1',\n",
       "     'rel': 'related',\n",
       "     'type': 'application/pdf'}],\n",
       "   'arxiv_primary_category': {'term': 'cs.CL',\n",
       "    'scheme': 'http://arxiv.org/schemas/atom'},\n",
       "   'tags': [{'term': 'cs.CL',\n",
       "     'scheme': 'http://arxiv.org/schemas/atom',\n",
       "     'label': None},\n",
       "    {'term': 'cs.AI',\n",
       "     'scheme': 'http://arxiv.org/schemas/atom',\n",
       "     'label': None},\n",
       "    {'term': 'cs.ET',\n",
       "     'scheme': 'http://arxiv.org/schemas/atom',\n",
       "     'label': None},\n",
       "    {'term': 'cs.HC',\n",
       "     'scheme': 'http://arxiv.org/schemas/atom',\n",
       "     'label': None}]},\n",
       "  {'id': 'http://arxiv.org/abs/2506.04301v1',\n",
       "   'guidislink': True,\n",
       "   'link': 'http://arxiv.org/abs/2506.04301v1',\n",
       "   'updated': '2025-06-04T14:37:54Z',\n",
       "   'updated_parsed': time.struct_time(tm_year=2025, tm_mon=6, tm_mday=4, tm_hour=14, tm_min=37, tm_sec=54, tm_wday=2, tm_yday=155, tm_isdst=0),\n",
       "   'published': '2025-06-04T14:37:54Z',\n",
       "   'published_parsed': time.struct_time(tm_year=2025, tm_mon=6, tm_mday=4, tm_hour=14, tm_min=37, tm_sec=54, tm_wday=2, tm_yday=155, tm_isdst=0),\n",
       "   'title': 'The Cost of Dynamic Reasoning: Demystifying AI Agents and Test-Time\\n  Scaling from an AI Infrastructure Perspective',\n",
       "   'title_detail': {'type': 'text/plain',\n",
       "    'language': None,\n",
       "    'base': 'https://export.arxiv.org/api/query?search_query=agent%20workflows%20for%20ai%20powered%20applications&start=0&max_results=5',\n",
       "    'value': 'The Cost of Dynamic Reasoning: Demystifying AI Agents and Test-Time\\n  Scaling from an AI Infrastructure Perspective'},\n",
       "   'summary': 'Large-language-model (LLM)-based AI agents have recently showcased impressive\\nversatility by employing dynamic reasoning, an adaptive, multi-step process\\nthat coordinates with external tools. This shift from static, single-turn\\ninference to agentic, multi-turn workflows broadens task generalization and\\nbehavioral flexibility, but it also introduces serious concerns about\\nsystem-level cost, efficiency, and sustainability. This paper presents the\\nfirst comprehensive system-level analysis of AI agents, quantifying their\\nresource usage, latency behavior, energy consumption, and datacenter-wide power\\nconsumption demands across diverse agent designs and test-time scaling\\nstrategies. We further characterize how AI agent design choices, such as\\nfew-shot prompting, reflection depth, and parallel reasoning, impact\\naccuracy-cost tradeoffs. Our findings reveal that while agents improve accuracy\\nwith increased compute, they suffer from rapidly diminishing returns, widening\\nlatency variance, and unsustainable infrastructure costs. Through detailed\\nevaluation of representative agents, we highlight the profound computational\\ndemands introduced by AI agent workflows, uncovering a looming sustainability\\ncrisis. These results call for a paradigm shift in agent design toward\\ncompute-efficient reasoning, balancing performance with deployability under\\nreal-world constraints.',\n",
       "   'summary_detail': {'type': 'text/plain',\n",
       "    'language': None,\n",
       "    'base': 'https://export.arxiv.org/api/query?search_query=agent%20workflows%20for%20ai%20powered%20applications&start=0&max_results=5',\n",
       "    'value': 'Large-language-model (LLM)-based AI agents have recently showcased impressive\\nversatility by employing dynamic reasoning, an adaptive, multi-step process\\nthat coordinates with external tools. This shift from static, single-turn\\ninference to agentic, multi-turn workflows broadens task generalization and\\nbehavioral flexibility, but it also introduces serious concerns about\\nsystem-level cost, efficiency, and sustainability. This paper presents the\\nfirst comprehensive system-level analysis of AI agents, quantifying their\\nresource usage, latency behavior, energy consumption, and datacenter-wide power\\nconsumption demands across diverse agent designs and test-time scaling\\nstrategies. We further characterize how AI agent design choices, such as\\nfew-shot prompting, reflection depth, and parallel reasoning, impact\\naccuracy-cost tradeoffs. Our findings reveal that while agents improve accuracy\\nwith increased compute, they suffer from rapidly diminishing returns, widening\\nlatency variance, and unsustainable infrastructure costs. Through detailed\\nevaluation of representative agents, we highlight the profound computational\\ndemands introduced by AI agent workflows, uncovering a looming sustainability\\ncrisis. These results call for a paradigm shift in agent design toward\\ncompute-efficient reasoning, balancing performance with deployability under\\nreal-world constraints.'},\n",
       "   'authors': [{'name': 'Jiin Kim'},\n",
       "    {'name': 'Byeongjun Shin'},\n",
       "    {'name': 'Jinha Chung'},\n",
       "    {'name': 'Minsoo Rhu'}],\n",
       "   'author_detail': {'name': 'Minsoo Rhu'},\n",
       "   'author': 'Minsoo Rhu',\n",
       "   'links': [{'href': 'http://arxiv.org/abs/2506.04301v1',\n",
       "     'rel': 'alternate',\n",
       "     'type': 'text/html'},\n",
       "    {'title': 'pdf',\n",
       "     'href': 'http://arxiv.org/pdf/2506.04301v1',\n",
       "     'rel': 'related',\n",
       "     'type': 'application/pdf'}],\n",
       "   'arxiv_primary_category': {'term': 'cs.LG',\n",
       "    'scheme': 'http://arxiv.org/schemas/atom'},\n",
       "   'tags': [{'term': 'cs.LG',\n",
       "     'scheme': 'http://arxiv.org/schemas/atom',\n",
       "     'label': None},\n",
       "    {'term': 'cs.AR',\n",
       "     'scheme': 'http://arxiv.org/schemas/atom',\n",
       "     'label': None}]},\n",
       "  {'id': 'http://arxiv.org/abs/2504.08148v1',\n",
       "   'guidislink': True,\n",
       "   'link': 'http://arxiv.org/abs/2504.08148v1',\n",
       "   'updated': '2025-04-10T22:19:41Z',\n",
       "   'updated_parsed': time.struct_time(tm_year=2025, tm_mon=4, tm_mday=10, tm_hour=22, tm_min=19, tm_sec=41, tm_wday=3, tm_yday=100, tm_isdst=0),\n",
       "   'published': '2025-04-10T22:19:41Z',\n",
       "   'published_parsed': time.struct_time(tm_year=2025, tm_mon=4, tm_mday=10, tm_hour=22, tm_min=19, tm_sec=41, tm_wday=3, tm_yday=100, tm_isdst=0),\n",
       "   'title': 'Orchestrating Agents and Data for Enterprise: A Blueprint Architecture\\n  for Compound AI',\n",
       "   'title_detail': {'type': 'text/plain',\n",
       "    'language': None,\n",
       "    'base': 'https://export.arxiv.org/api/query?search_query=agent%20workflows%20for%20ai%20powered%20applications&start=0&max_results=5',\n",
       "    'value': 'Orchestrating Agents and Data for Enterprise: A Blueprint Architecture\\n  for Compound AI'},\n",
       "   'summary': \"Large language models (LLMs) have gained significant interest in industry due\\nto their impressive capabilities across a wide range of tasks. However, the\\nwidespread adoption of LLMs presents several challenges, such as integration\\ninto existing applications and infrastructure, utilization of company\\nproprietary data, models, and APIs, and meeting cost, quality, responsiveness,\\nand other requirements. To address these challenges, there is a notable shift\\nfrom monolithic models to compound AI systems, with the premise of more\\npowerful, versatile, and reliable applications. However, progress thus far has\\nbeen piecemeal, with proposals for agentic workflows, programming models, and\\nextended LLM capabilities, without a clear vision of an overall architecture.\\nIn this paper, we propose a 'blueprint architecture' for compound AI systems\\nfor orchestrating agents and data for enterprise applications. In our proposed\\narchitecture the key orchestration concept is 'streams' to coordinate the flow\\nof data and instructions among agents. Existing proprietary models and APIs in\\nthe enterprise are mapped to 'agents', defined in an 'agent registry' that\\nserves agent metadata and learned representations for search and planning.\\nAgents can utilize proprietary data through a 'data registry' that similarly\\nregisters enterprise data of various modalities. Tying it all together, data\\nand task 'planners' break down, map, and optimize tasks and queries for given\\nquality of service (QoS) requirements such as cost, accuracy, and latency. We\\nillustrate an implementation of the architecture for a use-case in the HR\\ndomain and discuss opportunities and challenges for 'agentic AI' in the\\nenterprise.\",\n",
       "   'summary_detail': {'type': 'text/plain',\n",
       "    'language': None,\n",
       "    'base': 'https://export.arxiv.org/api/query?search_query=agent%20workflows%20for%20ai%20powered%20applications&start=0&max_results=5',\n",
       "    'value': \"Large language models (LLMs) have gained significant interest in industry due\\nto their impressive capabilities across a wide range of tasks. However, the\\nwidespread adoption of LLMs presents several challenges, such as integration\\ninto existing applications and infrastructure, utilization of company\\nproprietary data, models, and APIs, and meeting cost, quality, responsiveness,\\nand other requirements. To address these challenges, there is a notable shift\\nfrom monolithic models to compound AI systems, with the premise of more\\npowerful, versatile, and reliable applications. However, progress thus far has\\nbeen piecemeal, with proposals for agentic workflows, programming models, and\\nextended LLM capabilities, without a clear vision of an overall architecture.\\nIn this paper, we propose a 'blueprint architecture' for compound AI systems\\nfor orchestrating agents and data for enterprise applications. In our proposed\\narchitecture the key orchestration concept is 'streams' to coordinate the flow\\nof data and instructions among agents. Existing proprietary models and APIs in\\nthe enterprise are mapped to 'agents', defined in an 'agent registry' that\\nserves agent metadata and learned representations for search and planning.\\nAgents can utilize proprietary data through a 'data registry' that similarly\\nregisters enterprise data of various modalities. Tying it all together, data\\nand task 'planners' break down, map, and optimize tasks and queries for given\\nquality of service (QoS) requirements such as cost, accuracy, and latency. We\\nillustrate an implementation of the architecture for a use-case in the HR\\ndomain and discuss opportunities and challenges for 'agentic AI' in the\\nenterprise.\"},\n",
       "   'authors': [{'name': 'Eser Kandogan'},\n",
       "    {'name': 'Nikita Bhutani'},\n",
       "    {'name': 'Dan Zhang'},\n",
       "    {'name': 'Rafael Li Chen'},\n",
       "    {'name': 'Sairam Gurajada'},\n",
       "    {'name': 'Estevam Hruschka'}],\n",
       "   'author_detail': {'name': 'Estevam Hruschka'},\n",
       "   'author': 'Estevam Hruschka',\n",
       "   'arxiv_journal_ref': 'First Workshop on Data-AI Systems (DAIS), ICDE 2025',\n",
       "   'links': [{'href': 'http://arxiv.org/abs/2504.08148v1',\n",
       "     'rel': 'alternate',\n",
       "     'type': 'text/html'},\n",
       "    {'title': 'pdf',\n",
       "     'href': 'http://arxiv.org/pdf/2504.08148v1',\n",
       "     'rel': 'related',\n",
       "     'type': 'application/pdf'}],\n",
       "   'arxiv_primary_category': {'term': 'cs.AI',\n",
       "    'scheme': 'http://arxiv.org/schemas/atom'},\n",
       "   'tags': [{'term': 'cs.AI',\n",
       "     'scheme': 'http://arxiv.org/schemas/atom',\n",
       "     'label': None},\n",
       "    {'term': 'cs.DB',\n",
       "     'scheme': 'http://arxiv.org/schemas/atom',\n",
       "     'label': None},\n",
       "    {'term': 'cs.DC',\n",
       "     'scheme': 'http://arxiv.org/schemas/atom',\n",
       "     'label': None},\n",
       "    {'term': 'cs.LG',\n",
       "     'scheme': 'http://arxiv.org/schemas/atom',\n",
       "     'label': None}]},\n",
       "  {'id': 'http://arxiv.org/abs/2407.12821v1',\n",
       "   'guidislink': True,\n",
       "   'link': 'http://arxiv.org/abs/2407.12821v1',\n",
       "   'updated': '2024-07-01T21:05:02Z',\n",
       "   'updated_parsed': time.struct_time(tm_year=2024, tm_mon=7, tm_mday=1, tm_hour=21, tm_min=5, tm_sec=2, tm_wday=0, tm_yday=183, tm_isdst=0),\n",
       "   'published': '2024-07-01T21:05:02Z',\n",
       "   'published_parsed': time.struct_time(tm_year=2024, tm_mon=7, tm_mday=1, tm_hour=21, tm_min=5, tm_sec=2, tm_wday=0, tm_yday=183, tm_isdst=0),\n",
       "   'title': 'AutoFlow: Automated Workflow Generation for Large Language Model Agents',\n",
       "   'title_detail': {'type': 'text/plain',\n",
       "    'language': None,\n",
       "    'base': 'https://export.arxiv.org/api/query?search_query=agent%20workflows%20for%20ai%20powered%20applications&start=0&max_results=5',\n",
       "    'value': 'AutoFlow: Automated Workflow Generation for Large Language Model Agents'},\n",
       "   'summary': 'Recent advancements in Large Language Models (LLMs) have shown significant\\nprogress in understanding complex natural language. One important application\\nof LLM is LLM-based AI Agent, which leverages the ability of LLM as well as\\nexternal tools for complex-task solving. To make sure LLM Agents follow an\\neffective and reliable procedure to solve the given task, manually designed\\nworkflows are usually used to guide the working mechanism of agents. However,\\nmanually designing the workflows requires considerable efforts and domain\\nknowledge, making it difficult to develop and deploy agents on massive scales.\\nTo address these issues, we propose AutoFlow, a framework designed to\\nautomatically generate workflows for agents to solve complex tasks. AutoFlow\\ntakes natural language program as the format of agent workflow and employs a\\nworkflow optimization procedure to iteratively optimize the workflow quality.\\nBesides, this work offers two workflow generation methods: fine-tuning-based\\nand in-context-based methods, making the AutoFlow framework applicable to both\\nopen-source and closed-source LLMs. Experimental results show that our\\nframework can produce robust and reliable agent workflows. We believe that the\\nautomatic generation and interpretation of workflows in natural language\\nrepresent a promising paradigm for solving complex tasks, particularly with the\\nrapid development of LLMs. The source code of this work is available at\\nhttps://github.com/agiresearch/AutoFlow.',\n",
       "   'summary_detail': {'type': 'text/plain',\n",
       "    'language': None,\n",
       "    'base': 'https://export.arxiv.org/api/query?search_query=agent%20workflows%20for%20ai%20powered%20applications&start=0&max_results=5',\n",
       "    'value': 'Recent advancements in Large Language Models (LLMs) have shown significant\\nprogress in understanding complex natural language. One important application\\nof LLM is LLM-based AI Agent, which leverages the ability of LLM as well as\\nexternal tools for complex-task solving. To make sure LLM Agents follow an\\neffective and reliable procedure to solve the given task, manually designed\\nworkflows are usually used to guide the working mechanism of agents. However,\\nmanually designing the workflows requires considerable efforts and domain\\nknowledge, making it difficult to develop and deploy agents on massive scales.\\nTo address these issues, we propose AutoFlow, a framework designed to\\nautomatically generate workflows for agents to solve complex tasks. AutoFlow\\ntakes natural language program as the format of agent workflow and employs a\\nworkflow optimization procedure to iteratively optimize the workflow quality.\\nBesides, this work offers two workflow generation methods: fine-tuning-based\\nand in-context-based methods, making the AutoFlow framework applicable to both\\nopen-source and closed-source LLMs. Experimental results show that our\\nframework can produce robust and reliable agent workflows. We believe that the\\nautomatic generation and interpretation of workflows in natural language\\nrepresent a promising paradigm for solving complex tasks, particularly with the\\nrapid development of LLMs. The source code of this work is available at\\nhttps://github.com/agiresearch/AutoFlow.'},\n",
       "   'authors': [{'name': 'Zelong Li'},\n",
       "    {'name': 'Shuyuan Xu'},\n",
       "    {'name': 'Kai Mei'},\n",
       "    {'name': 'Wenyue Hua'},\n",
       "    {'name': 'Balaji Rama'},\n",
       "    {'name': 'Om Raheja'},\n",
       "    {'name': 'Hao Wang'},\n",
       "    {'name': 'He Zhu'},\n",
       "    {'name': 'Yongfeng Zhang'}],\n",
       "   'author_detail': {'name': 'Yongfeng Zhang'},\n",
       "   'author': 'Yongfeng Zhang',\n",
       "   'arxiv_comment': 'Open source code available at https://github.com/agiresearch/AutoFlow',\n",
       "   'links': [{'href': 'http://arxiv.org/abs/2407.12821v1',\n",
       "     'rel': 'alternate',\n",
       "     'type': 'text/html'},\n",
       "    {'title': 'pdf',\n",
       "     'href': 'http://arxiv.org/pdf/2407.12821v1',\n",
       "     'rel': 'related',\n",
       "     'type': 'application/pdf'}],\n",
       "   'arxiv_primary_category': {'term': 'cs.CL',\n",
       "    'scheme': 'http://arxiv.org/schemas/atom'},\n",
       "   'tags': [{'term': 'cs.CL',\n",
       "     'scheme': 'http://arxiv.org/schemas/atom',\n",
       "     'label': None},\n",
       "    {'term': 'cs.AI',\n",
       "     'scheme': 'http://arxiv.org/schemas/atom',\n",
       "     'label': None},\n",
       "    {'term': 'cs.LG',\n",
       "     'scheme': 'http://arxiv.org/schemas/atom',\n",
       "     'label': None}]}],\n",
       " 'feed': {'links': [{'href': 'http://arxiv.org/api/query?search_query%3Dagent%20workflows%20for%20ai%20powered%20applications%26id_list%3D%26start%3D0%26max_results%3D5',\n",
       "    'rel': 'self',\n",
       "    'type': 'application/atom+xml'}],\n",
       "  'title': 'ArXiv Query: search_query=agent workflows for ai powered applications&amp;id_list=&amp;start=0&amp;max_results=5',\n",
       "  'title_detail': {'type': 'text/html',\n",
       "   'language': None,\n",
       "   'base': 'https://export.arxiv.org/api/query?search_query=agent%20workflows%20for%20ai%20powered%20applications&start=0&max_results=5',\n",
       "   'value': 'ArXiv Query: search_query=agent workflows for ai powered applications&amp;id_list=&amp;start=0&amp;max_results=5'},\n",
       "  'id': 'http://arxiv.org/api/45GAXvvVq3C9GiI7cnmzYba0q1Y',\n",
       "  'guidislink': True,\n",
       "  'link': 'http://arxiv.org/api/45GAXvvVq3C9GiI7cnmzYba0q1Y',\n",
       "  'updated': '2025-07-14T00:00:00-04:00',\n",
       "  'updated_parsed': time.struct_time(tm_year=2025, tm_mon=7, tm_mday=14, tm_hour=4, tm_min=0, tm_sec=0, tm_wday=0, tm_yday=195, tm_isdst=0),\n",
       "  'opensearch_totalresults': '2309302',\n",
       "  'opensearch_startindex': '0',\n",
       "  'opensearch_itemsperpage': '5'},\n",
       " 'headers': {'connection': 'close',\n",
       "  'content-length': '4568',\n",
       "  'content-type': 'application/atom+xml; charset=UTF-8',\n",
       "  'via': '1.1 varnish, 1.1 varnish, 1.1 varnish',\n",
       "  'content-encoding': 'gzip',\n",
       "  'access-control-allow-origin': '*',\n",
       "  'server': 'Apache',\n",
       "  'accept-ranges': 'bytes',\n",
       "  'age': '772',\n",
       "  'date': 'Tue, 15 Jul 2025 03:51:54 GMT',\n",
       "  'x-served-by': 'cache-lga21966-LGA, cache-lga21966-LGA, cache-hyd1100026-HYD',\n",
       "  'x-cache': 'MISS, MISS, HIT',\n",
       "  'x-cache-hits': '0, 0, 0',\n",
       "  'x-timer': 'S1752551514.459988,VS0,VE1',\n",
       "  'vary': 'Accept-Encoding',\n",
       "  'strict-transport-security': 'max-age=300'},\n",
       " 'href': 'https://export.arxiv.org/api/query?search_query=agent%20workflows%20for%20ai%20powered%20applications&start=0&max_results=5',\n",
       " 'status': 301,\n",
       " 'encoding': 'UTF-8',\n",
       " 'version': 'atom10',\n",
       " 'namespaces': {'': 'http://www.w3.org/2005/Atom',\n",
       "  'opensearch': 'http://a9.com/-/spec/opensearch/1.1/',\n",
       "  'arxiv': 'http://arxiv.org/schemas/atom'}}"
      ]
     },
     "execution_count": 6,
     "metadata": {},
     "output_type": "execute_result"
    }
   ],
   "source": [
    "feed"
   ]
  },
  {
   "cell_type": "code",
   "execution_count": 7,
   "id": "156b6b78-292b-4875-a407-44ba90f22aec",
   "metadata": {},
   "outputs": [
    {
     "data": {
      "text/plain": [
       "dict_keys(['bozo', 'entries', 'feed', 'headers', 'href', 'status', 'encoding', 'version', 'namespaces'])"
      ]
     },
     "execution_count": 7,
     "metadata": {},
     "output_type": "execute_result"
    }
   ],
   "source": [
    "feed.keys()"
   ]
  },
  {
   "cell_type": "code",
   "execution_count": 8,
   "id": "9fb16202-22b0-4748-8aaf-aa390ea0d417",
   "metadata": {},
   "outputs": [
    {
     "name": "stdout",
     "output_type": "stream",
     "text": [
      "bozo\n",
      "False\n",
      "=====\n",
      "entries\n",
      "[{'id': 'http://arxiv.org/abs/2412.17149v1', 'guidislink': True, 'link': 'http://arxiv.org/abs/2412.17149v1', 'updated': '2024-12-22T20:08:04Z', 'updated_parsed': time.struct_time(tm_year=2024, tm_mon=12, tm_mday=22, tm_hour=20, tm_min=8, tm_sec=4, tm_wday=6, tm_yday=357, tm_isdst=0), 'published': '2024-12-22T20:08:04Z', 'published_parsed': time.struct_time(tm_year=2024, tm_mon=12, tm_mday=22, tm_hour=20, tm_min=8, tm_sec=4, tm_wday=6, tm_yday=357, tm_isdst=0), 'title': 'A Multi-AI Agent System for Autonomous Optimization of Agentic AI\\n  Solutions via Iterative Refinement and LLM-Driven Feedback Loops', 'title_detail': {'type': 'text/plain', 'language': None, 'base': 'https://export.arxiv.org/api/query?search_query=agent%20workflows%20for%20ai%20powered%20applications&start=0&max_results=5', 'value': 'A Multi-AI Agent System for Autonomous Optimization of Agentic AI\\n  Solutions via Iterative Refinement and LLM-Driven Feedback Loops'}, 'summary': 'Agentic AI systems use specialized agents to handle tasks within complex\\nworkflows, enabling automation and efficiency. However, optimizing these\\nsystems often requires labor-intensive, manual adjustments to refine roles,\\ntasks, and interactions. This paper introduces a framework for autonomously\\noptimizing Agentic AI solutions across industries, such as NLP-driven\\nenterprise applications. The system employs agents for Refinement, Execution,\\nEvaluation, Modification, and Documentation, leveraging iterative feedback\\nloops powered by an LLM (Llama 3.2-3B). The framework achieves optimal\\nperformance without human input by autonomously generating and testing\\nhypotheses to improve system configurations. This approach enhances scalability\\nand adaptability, offering a robust solution for real-world applications in\\ndynamic environments. Case studies across diverse domains illustrate the\\ntransformative impact of this framework, showcasing significant improvements in\\noutput quality, relevance, and actionability. All data for these case studies,\\nincluding original and evolved agent codes, along with their outputs, are here:\\nhttps://anonymous.4open.science/r/evolver-1D11/', 'summary_detail': {'type': 'text/plain', 'language': None, 'base': 'https://export.arxiv.org/api/query?search_query=agent%20workflows%20for%20ai%20powered%20applications&start=0&max_results=5', 'value': 'Agentic AI systems use specialized agents to handle tasks within complex\\nworkflows, enabling automation and efficiency. However, optimizing these\\nsystems often requires labor-intensive, manual adjustments to refine roles,\\ntasks, and interactions. This paper introduces a framework for autonomously\\noptimizing Agentic AI solutions across industries, such as NLP-driven\\nenterprise applications. The system employs agents for Refinement, Execution,\\nEvaluation, Modification, and Documentation, leveraging iterative feedback\\nloops powered by an LLM (Llama 3.2-3B). The framework achieves optimal\\nperformance without human input by autonomously generating and testing\\nhypotheses to improve system configurations. This approach enhances scalability\\nand adaptability, offering a robust solution for real-world applications in\\ndynamic environments. Case studies across diverse domains illustrate the\\ntransformative impact of this framework, showcasing significant improvements in\\noutput quality, relevance, and actionability. All data for these case studies,\\nincluding original and evolved agent codes, along with their outputs, are here:\\nhttps://anonymous.4open.science/r/evolver-1D11/'}, 'authors': [{'name': 'Kamer Ali Yuksel'}, {'name': 'Hassan Sawaf'}], 'author_detail': {'name': 'Hassan Sawaf'}, 'author': 'Hassan Sawaf', 'links': [{'href': 'http://arxiv.org/abs/2412.17149v1', 'rel': 'alternate', 'type': 'text/html'}, {'title': 'pdf', 'href': 'http://arxiv.org/pdf/2412.17149v1', 'rel': 'related', 'type': 'application/pdf'}], 'arxiv_primary_category': {'term': 'cs.CL', 'scheme': 'http://arxiv.org/schemas/atom'}, 'tags': [{'term': 'cs.CL', 'scheme': 'http://arxiv.org/schemas/atom', 'label': None}, {'term': 'cs.AI', 'scheme': 'http://arxiv.org/schemas/atom', 'label': None}, {'term': 'cs.ET', 'scheme': 'http://arxiv.org/schemas/atom', 'label': None}, {'term': 'cs.MA', 'scheme': 'http://arxiv.org/schemas/atom', 'label': None}, {'term': 'cs.NE', 'scheme': 'http://arxiv.org/schemas/atom', 'label': None}]}, {'id': 'http://arxiv.org/abs/2504.12891v1', 'guidislink': True, 'link': 'http://arxiv.org/abs/2504.12891v1', 'updated': '2025-04-17T12:32:18Z', 'updated_parsed': time.struct_time(tm_year=2025, tm_mon=4, tm_mday=17, tm_hour=12, tm_min=32, tm_sec=18, tm_wday=3, tm_yday=107, tm_isdst=0), 'published': '2025-04-17T12:32:18Z', 'published_parsed': time.struct_time(tm_year=2025, tm_mon=4, tm_mday=17, tm_hour=12, tm_min=32, tm_sec=18, tm_wday=3, tm_yday=107, tm_isdst=0), 'title': 'Are AI agents the new machine translation frontier? Challenges and\\n  opportunities of single- and multi-agent systems for multilingual digital\\n  communication', 'title_detail': {'type': 'text/plain', 'language': None, 'base': 'https://export.arxiv.org/api/query?search_query=agent%20workflows%20for%20ai%20powered%20applications&start=0&max_results=5', 'value': 'Are AI agents the new machine translation frontier? Challenges and\\n  opportunities of single- and multi-agent systems for multilingual digital\\n  communication'}, 'summary': 'The rapid evolution of artificial intelligence (AI) has introduced AI agents\\nas a disruptive paradigm across various industries, yet their application in\\nmachine translation (MT) remains underexplored. This paper describes and\\nanalyses the potential of single- and multi-agent systems for MT, reflecting on\\nhow they could enhance multilingual digital communication. While single-agent\\nsystems are well-suited for simpler translation tasks, multi-agent systems,\\nwhich involve multiple specialized AI agents collaborating in a structured\\nmanner, may offer a promising solution for complex scenarios requiring high\\naccuracy, domain-specific knowledge, and contextual awareness. To demonstrate\\nthe feasibility of multi-agent workflows in MT, we are conducting a pilot study\\nin legal MT. The study employs a multi-agent system involving four specialized\\nAI agents for (i) translation, (ii) adequacy review, (iii) fluency review, and\\n(iv) final editing. Our findings suggest that multi-agent systems may have the\\npotential to significantly improve domain-adaptability and contextual\\nawareness, with superior translation quality to traditional MT or single-agent\\nsystems. This paper also sets the stage for future research into multi-agent\\napplications in MT, integration into professional translation workflows, and\\nshares a demo of the system analyzed in the paper.', 'summary_detail': {'type': 'text/plain', 'language': None, 'base': 'https://export.arxiv.org/api/query?search_query=agent%20workflows%20for%20ai%20powered%20applications&start=0&max_results=5', 'value': 'The rapid evolution of artificial intelligence (AI) has introduced AI agents\\nas a disruptive paradigm across various industries, yet their application in\\nmachine translation (MT) remains underexplored. This paper describes and\\nanalyses the potential of single- and multi-agent systems for MT, reflecting on\\nhow they could enhance multilingual digital communication. While single-agent\\nsystems are well-suited for simpler translation tasks, multi-agent systems,\\nwhich involve multiple specialized AI agents collaborating in a structured\\nmanner, may offer a promising solution for complex scenarios requiring high\\naccuracy, domain-specific knowledge, and contextual awareness. To demonstrate\\nthe feasibility of multi-agent workflows in MT, we are conducting a pilot study\\nin legal MT. The study employs a multi-agent system involving four specialized\\nAI agents for (i) translation, (ii) adequacy review, (iii) fluency review, and\\n(iv) final editing. Our findings suggest that multi-agent systems may have the\\npotential to significantly improve domain-adaptability and contextual\\nawareness, with superior translation quality to traditional MT or single-agent\\nsystems. This paper also sets the stage for future research into multi-agent\\napplications in MT, integration into professional translation workflows, and\\nshares a demo of the system analyzed in the paper.'}, 'authors': [{'name': 'Vicent Briva-Iglesias'}], 'author_detail': {'name': 'Vicent Briva-Iglesias'}, 'author': 'Vicent Briva-Iglesias', 'links': [{'href': 'http://arxiv.org/abs/2504.12891v1', 'rel': 'alternate', 'type': 'text/html'}, {'title': 'pdf', 'href': 'http://arxiv.org/pdf/2504.12891v1', 'rel': 'related', 'type': 'application/pdf'}], 'arxiv_primary_category': {'term': 'cs.CL', 'scheme': 'http://arxiv.org/schemas/atom'}, 'tags': [{'term': 'cs.CL', 'scheme': 'http://arxiv.org/schemas/atom', 'label': None}, {'term': 'cs.AI', 'scheme': 'http://arxiv.org/schemas/atom', 'label': None}, {'term': 'cs.ET', 'scheme': 'http://arxiv.org/schemas/atom', 'label': None}, {'term': 'cs.HC', 'scheme': 'http://arxiv.org/schemas/atom', 'label': None}]}, {'id': 'http://arxiv.org/abs/2506.04301v1', 'guidislink': True, 'link': 'http://arxiv.org/abs/2506.04301v1', 'updated': '2025-06-04T14:37:54Z', 'updated_parsed': time.struct_time(tm_year=2025, tm_mon=6, tm_mday=4, tm_hour=14, tm_min=37, tm_sec=54, tm_wday=2, tm_yday=155, tm_isdst=0), 'published': '2025-06-04T14:37:54Z', 'published_parsed': time.struct_time(tm_year=2025, tm_mon=6, tm_mday=4, tm_hour=14, tm_min=37, tm_sec=54, tm_wday=2, tm_yday=155, tm_isdst=0), 'title': 'The Cost of Dynamic Reasoning: Demystifying AI Agents and Test-Time\\n  Scaling from an AI Infrastructure Perspective', 'title_detail': {'type': 'text/plain', 'language': None, 'base': 'https://export.arxiv.org/api/query?search_query=agent%20workflows%20for%20ai%20powered%20applications&start=0&max_results=5', 'value': 'The Cost of Dynamic Reasoning: Demystifying AI Agents and Test-Time\\n  Scaling from an AI Infrastructure Perspective'}, 'summary': 'Large-language-model (LLM)-based AI agents have recently showcased impressive\\nversatility by employing dynamic reasoning, an adaptive, multi-step process\\nthat coordinates with external tools. This shift from static, single-turn\\ninference to agentic, multi-turn workflows broadens task generalization and\\nbehavioral flexibility, but it also introduces serious concerns about\\nsystem-level cost, efficiency, and sustainability. This paper presents the\\nfirst comprehensive system-level analysis of AI agents, quantifying their\\nresource usage, latency behavior, energy consumption, and datacenter-wide power\\nconsumption demands across diverse agent designs and test-time scaling\\nstrategies. We further characterize how AI agent design choices, such as\\nfew-shot prompting, reflection depth, and parallel reasoning, impact\\naccuracy-cost tradeoffs. Our findings reveal that while agents improve accuracy\\nwith increased compute, they suffer from rapidly diminishing returns, widening\\nlatency variance, and unsustainable infrastructure costs. Through detailed\\nevaluation of representative agents, we highlight the profound computational\\ndemands introduced by AI agent workflows, uncovering a looming sustainability\\ncrisis. These results call for a paradigm shift in agent design toward\\ncompute-efficient reasoning, balancing performance with deployability under\\nreal-world constraints.', 'summary_detail': {'type': 'text/plain', 'language': None, 'base': 'https://export.arxiv.org/api/query?search_query=agent%20workflows%20for%20ai%20powered%20applications&start=0&max_results=5', 'value': 'Large-language-model (LLM)-based AI agents have recently showcased impressive\\nversatility by employing dynamic reasoning, an adaptive, multi-step process\\nthat coordinates with external tools. This shift from static, single-turn\\ninference to agentic, multi-turn workflows broadens task generalization and\\nbehavioral flexibility, but it also introduces serious concerns about\\nsystem-level cost, efficiency, and sustainability. This paper presents the\\nfirst comprehensive system-level analysis of AI agents, quantifying their\\nresource usage, latency behavior, energy consumption, and datacenter-wide power\\nconsumption demands across diverse agent designs and test-time scaling\\nstrategies. We further characterize how AI agent design choices, such as\\nfew-shot prompting, reflection depth, and parallel reasoning, impact\\naccuracy-cost tradeoffs. Our findings reveal that while agents improve accuracy\\nwith increased compute, they suffer from rapidly diminishing returns, widening\\nlatency variance, and unsustainable infrastructure costs. Through detailed\\nevaluation of representative agents, we highlight the profound computational\\ndemands introduced by AI agent workflows, uncovering a looming sustainability\\ncrisis. These results call for a paradigm shift in agent design toward\\ncompute-efficient reasoning, balancing performance with deployability under\\nreal-world constraints.'}, 'authors': [{'name': 'Jiin Kim'}, {'name': 'Byeongjun Shin'}, {'name': 'Jinha Chung'}, {'name': 'Minsoo Rhu'}], 'author_detail': {'name': 'Minsoo Rhu'}, 'author': 'Minsoo Rhu', 'links': [{'href': 'http://arxiv.org/abs/2506.04301v1', 'rel': 'alternate', 'type': 'text/html'}, {'title': 'pdf', 'href': 'http://arxiv.org/pdf/2506.04301v1', 'rel': 'related', 'type': 'application/pdf'}], 'arxiv_primary_category': {'term': 'cs.LG', 'scheme': 'http://arxiv.org/schemas/atom'}, 'tags': [{'term': 'cs.LG', 'scheme': 'http://arxiv.org/schemas/atom', 'label': None}, {'term': 'cs.AR', 'scheme': 'http://arxiv.org/schemas/atom', 'label': None}]}, {'id': 'http://arxiv.org/abs/2504.08148v1', 'guidislink': True, 'link': 'http://arxiv.org/abs/2504.08148v1', 'updated': '2025-04-10T22:19:41Z', 'updated_parsed': time.struct_time(tm_year=2025, tm_mon=4, tm_mday=10, tm_hour=22, tm_min=19, tm_sec=41, tm_wday=3, tm_yday=100, tm_isdst=0), 'published': '2025-04-10T22:19:41Z', 'published_parsed': time.struct_time(tm_year=2025, tm_mon=4, tm_mday=10, tm_hour=22, tm_min=19, tm_sec=41, tm_wday=3, tm_yday=100, tm_isdst=0), 'title': 'Orchestrating Agents and Data for Enterprise: A Blueprint Architecture\\n  for Compound AI', 'title_detail': {'type': 'text/plain', 'language': None, 'base': 'https://export.arxiv.org/api/query?search_query=agent%20workflows%20for%20ai%20powered%20applications&start=0&max_results=5', 'value': 'Orchestrating Agents and Data for Enterprise: A Blueprint Architecture\\n  for Compound AI'}, 'summary': \"Large language models (LLMs) have gained significant interest in industry due\\nto their impressive capabilities across a wide range of tasks. However, the\\nwidespread adoption of LLMs presents several challenges, such as integration\\ninto existing applications and infrastructure, utilization of company\\nproprietary data, models, and APIs, and meeting cost, quality, responsiveness,\\nand other requirements. To address these challenges, there is a notable shift\\nfrom monolithic models to compound AI systems, with the premise of more\\npowerful, versatile, and reliable applications. However, progress thus far has\\nbeen piecemeal, with proposals for agentic workflows, programming models, and\\nextended LLM capabilities, without a clear vision of an overall architecture.\\nIn this paper, we propose a 'blueprint architecture' for compound AI systems\\nfor orchestrating agents and data for enterprise applications. In our proposed\\narchitecture the key orchestration concept is 'streams' to coordinate the flow\\nof data and instructions among agents. Existing proprietary models and APIs in\\nthe enterprise are mapped to 'agents', defined in an 'agent registry' that\\nserves agent metadata and learned representations for search and planning.\\nAgents can utilize proprietary data through a 'data registry' that similarly\\nregisters enterprise data of various modalities. Tying it all together, data\\nand task 'planners' break down, map, and optimize tasks and queries for given\\nquality of service (QoS) requirements such as cost, accuracy, and latency. We\\nillustrate an implementation of the architecture for a use-case in the HR\\ndomain and discuss opportunities and challenges for 'agentic AI' in the\\nenterprise.\", 'summary_detail': {'type': 'text/plain', 'language': None, 'base': 'https://export.arxiv.org/api/query?search_query=agent%20workflows%20for%20ai%20powered%20applications&start=0&max_results=5', 'value': \"Large language models (LLMs) have gained significant interest in industry due\\nto their impressive capabilities across a wide range of tasks. However, the\\nwidespread adoption of LLMs presents several challenges, such as integration\\ninto existing applications and infrastructure, utilization of company\\nproprietary data, models, and APIs, and meeting cost, quality, responsiveness,\\nand other requirements. To address these challenges, there is a notable shift\\nfrom monolithic models to compound AI systems, with the premise of more\\npowerful, versatile, and reliable applications. However, progress thus far has\\nbeen piecemeal, with proposals for agentic workflows, programming models, and\\nextended LLM capabilities, without a clear vision of an overall architecture.\\nIn this paper, we propose a 'blueprint architecture' for compound AI systems\\nfor orchestrating agents and data for enterprise applications. In our proposed\\narchitecture the key orchestration concept is 'streams' to coordinate the flow\\nof data and instructions among agents. Existing proprietary models and APIs in\\nthe enterprise are mapped to 'agents', defined in an 'agent registry' that\\nserves agent metadata and learned representations for search and planning.\\nAgents can utilize proprietary data through a 'data registry' that similarly\\nregisters enterprise data of various modalities. Tying it all together, data\\nand task 'planners' break down, map, and optimize tasks and queries for given\\nquality of service (QoS) requirements such as cost, accuracy, and latency. We\\nillustrate an implementation of the architecture for a use-case in the HR\\ndomain and discuss opportunities and challenges for 'agentic AI' in the\\nenterprise.\"}, 'authors': [{'name': 'Eser Kandogan'}, {'name': 'Nikita Bhutani'}, {'name': 'Dan Zhang'}, {'name': 'Rafael Li Chen'}, {'name': 'Sairam Gurajada'}, {'name': 'Estevam Hruschka'}], 'author_detail': {'name': 'Estevam Hruschka'}, 'author': 'Estevam Hruschka', 'arxiv_journal_ref': 'First Workshop on Data-AI Systems (DAIS), ICDE 2025', 'links': [{'href': 'http://arxiv.org/abs/2504.08148v1', 'rel': 'alternate', 'type': 'text/html'}, {'title': 'pdf', 'href': 'http://arxiv.org/pdf/2504.08148v1', 'rel': 'related', 'type': 'application/pdf'}], 'arxiv_primary_category': {'term': 'cs.AI', 'scheme': 'http://arxiv.org/schemas/atom'}, 'tags': [{'term': 'cs.AI', 'scheme': 'http://arxiv.org/schemas/atom', 'label': None}, {'term': 'cs.DB', 'scheme': 'http://arxiv.org/schemas/atom', 'label': None}, {'term': 'cs.DC', 'scheme': 'http://arxiv.org/schemas/atom', 'label': None}, {'term': 'cs.LG', 'scheme': 'http://arxiv.org/schemas/atom', 'label': None}]}, {'id': 'http://arxiv.org/abs/2407.12821v1', 'guidislink': True, 'link': 'http://arxiv.org/abs/2407.12821v1', 'updated': '2024-07-01T21:05:02Z', 'updated_parsed': time.struct_time(tm_year=2024, tm_mon=7, tm_mday=1, tm_hour=21, tm_min=5, tm_sec=2, tm_wday=0, tm_yday=183, tm_isdst=0), 'published': '2024-07-01T21:05:02Z', 'published_parsed': time.struct_time(tm_year=2024, tm_mon=7, tm_mday=1, tm_hour=21, tm_min=5, tm_sec=2, tm_wday=0, tm_yday=183, tm_isdst=0), 'title': 'AutoFlow: Automated Workflow Generation for Large Language Model Agents', 'title_detail': {'type': 'text/plain', 'language': None, 'base': 'https://export.arxiv.org/api/query?search_query=agent%20workflows%20for%20ai%20powered%20applications&start=0&max_results=5', 'value': 'AutoFlow: Automated Workflow Generation for Large Language Model Agents'}, 'summary': 'Recent advancements in Large Language Models (LLMs) have shown significant\\nprogress in understanding complex natural language. One important application\\nof LLM is LLM-based AI Agent, which leverages the ability of LLM as well as\\nexternal tools for complex-task solving. To make sure LLM Agents follow an\\neffective and reliable procedure to solve the given task, manually designed\\nworkflows are usually used to guide the working mechanism of agents. However,\\nmanually designing the workflows requires considerable efforts and domain\\nknowledge, making it difficult to develop and deploy agents on massive scales.\\nTo address these issues, we propose AutoFlow, a framework designed to\\nautomatically generate workflows for agents to solve complex tasks. AutoFlow\\ntakes natural language program as the format of agent workflow and employs a\\nworkflow optimization procedure to iteratively optimize the workflow quality.\\nBesides, this work offers two workflow generation methods: fine-tuning-based\\nand in-context-based methods, making the AutoFlow framework applicable to both\\nopen-source and closed-source LLMs. Experimental results show that our\\nframework can produce robust and reliable agent workflows. We believe that the\\nautomatic generation and interpretation of workflows in natural language\\nrepresent a promising paradigm for solving complex tasks, particularly with the\\nrapid development of LLMs. The source code of this work is available at\\nhttps://github.com/agiresearch/AutoFlow.', 'summary_detail': {'type': 'text/plain', 'language': None, 'base': 'https://export.arxiv.org/api/query?search_query=agent%20workflows%20for%20ai%20powered%20applications&start=0&max_results=5', 'value': 'Recent advancements in Large Language Models (LLMs) have shown significant\\nprogress in understanding complex natural language. One important application\\nof LLM is LLM-based AI Agent, which leverages the ability of LLM as well as\\nexternal tools for complex-task solving. To make sure LLM Agents follow an\\neffective and reliable procedure to solve the given task, manually designed\\nworkflows are usually used to guide the working mechanism of agents. However,\\nmanually designing the workflows requires considerable efforts and domain\\nknowledge, making it difficult to develop and deploy agents on massive scales.\\nTo address these issues, we propose AutoFlow, a framework designed to\\nautomatically generate workflows for agents to solve complex tasks. AutoFlow\\ntakes natural language program as the format of agent workflow and employs a\\nworkflow optimization procedure to iteratively optimize the workflow quality.\\nBesides, this work offers two workflow generation methods: fine-tuning-based\\nand in-context-based methods, making the AutoFlow framework applicable to both\\nopen-source and closed-source LLMs. Experimental results show that our\\nframework can produce robust and reliable agent workflows. We believe that the\\nautomatic generation and interpretation of workflows in natural language\\nrepresent a promising paradigm for solving complex tasks, particularly with the\\nrapid development of LLMs. The source code of this work is available at\\nhttps://github.com/agiresearch/AutoFlow.'}, 'authors': [{'name': 'Zelong Li'}, {'name': 'Shuyuan Xu'}, {'name': 'Kai Mei'}, {'name': 'Wenyue Hua'}, {'name': 'Balaji Rama'}, {'name': 'Om Raheja'}, {'name': 'Hao Wang'}, {'name': 'He Zhu'}, {'name': 'Yongfeng Zhang'}], 'author_detail': {'name': 'Yongfeng Zhang'}, 'author': 'Yongfeng Zhang', 'arxiv_comment': 'Open source code available at https://github.com/agiresearch/AutoFlow', 'links': [{'href': 'http://arxiv.org/abs/2407.12821v1', 'rel': 'alternate', 'type': 'text/html'}, {'title': 'pdf', 'href': 'http://arxiv.org/pdf/2407.12821v1', 'rel': 'related', 'type': 'application/pdf'}], 'arxiv_primary_category': {'term': 'cs.CL', 'scheme': 'http://arxiv.org/schemas/atom'}, 'tags': [{'term': 'cs.CL', 'scheme': 'http://arxiv.org/schemas/atom', 'label': None}, {'term': 'cs.AI', 'scheme': 'http://arxiv.org/schemas/atom', 'label': None}, {'term': 'cs.LG', 'scheme': 'http://arxiv.org/schemas/atom', 'label': None}]}]\n",
      "=====\n",
      "feed\n",
      "{'links': [{'href': 'http://arxiv.org/api/query?search_query%3Dagent%20workflows%20for%20ai%20powered%20applications%26id_list%3D%26start%3D0%26max_results%3D5', 'rel': 'self', 'type': 'application/atom+xml'}], 'title': 'ArXiv Query: search_query=agent workflows for ai powered applications&amp;id_list=&amp;start=0&amp;max_results=5', 'title_detail': {'type': 'text/html', 'language': None, 'base': 'https://export.arxiv.org/api/query?search_query=agent%20workflows%20for%20ai%20powered%20applications&start=0&max_results=5', 'value': 'ArXiv Query: search_query=agent workflows for ai powered applications&amp;id_list=&amp;start=0&amp;max_results=5'}, 'id': 'http://arxiv.org/api/45GAXvvVq3C9GiI7cnmzYba0q1Y', 'guidislink': True, 'link': 'http://arxiv.org/api/45GAXvvVq3C9GiI7cnmzYba0q1Y', 'updated': '2025-07-14T00:00:00-04:00', 'updated_parsed': time.struct_time(tm_year=2025, tm_mon=7, tm_mday=14, tm_hour=4, tm_min=0, tm_sec=0, tm_wday=0, tm_yday=195, tm_isdst=0), 'opensearch_totalresults': '2309302', 'opensearch_startindex': '0', 'opensearch_itemsperpage': '5'}\n",
      "=====\n",
      "headers\n",
      "{'connection': 'close', 'content-length': '4568', 'content-type': 'application/atom+xml; charset=UTF-8', 'via': '1.1 varnish, 1.1 varnish, 1.1 varnish', 'content-encoding': 'gzip', 'access-control-allow-origin': '*', 'server': 'Apache', 'accept-ranges': 'bytes', 'age': '772', 'date': 'Tue, 15 Jul 2025 03:51:54 GMT', 'x-served-by': 'cache-lga21966-LGA, cache-lga21966-LGA, cache-hyd1100026-HYD', 'x-cache': 'MISS, MISS, HIT', 'x-cache-hits': '0, 0, 0', 'x-timer': 'S1752551514.459988,VS0,VE1', 'vary': 'Accept-Encoding', 'strict-transport-security': 'max-age=300'}\n",
      "=====\n",
      "href\n",
      "https://export.arxiv.org/api/query?search_query=agent%20workflows%20for%20ai%20powered%20applications&start=0&max_results=5\n",
      "=====\n",
      "status\n",
      "301\n",
      "=====\n",
      "encoding\n",
      "UTF-8\n",
      "=====\n",
      "version\n",
      "atom10\n",
      "=====\n",
      "namespaces\n",
      "{'': 'http://www.w3.org/2005/Atom', 'opensearch': 'http://a9.com/-/spec/opensearch/1.1/', 'arxiv': 'http://arxiv.org/schemas/atom'}\n",
      "=====\n"
     ]
    }
   ],
   "source": [
    "for i,j in feed.items():\n",
    "    print(i)\n",
    "    print(j)\n",
    "    print(5*'=')"
   ]
  },
  {
   "cell_type": "code",
   "execution_count": 9,
   "id": "4fdc92e0-5d31-4bd1-9498-3be167df141f",
   "metadata": {},
   "outputs": [
    {
     "name": "stdout",
     "output_type": "stream",
     "text": [
      "{'id': 'http://arxiv.org/abs/2412.17149v1', 'guidislink': True, 'link': 'http://arxiv.org/abs/2412.17149v1', 'updated': '2024-12-22T20:08:04Z', 'updated_parsed': time.struct_time(tm_year=2024, tm_mon=12, tm_mday=22, tm_hour=20, tm_min=8, tm_sec=4, tm_wday=6, tm_yday=357, tm_isdst=0), 'published': '2024-12-22T20:08:04Z', 'published_parsed': time.struct_time(tm_year=2024, tm_mon=12, tm_mday=22, tm_hour=20, tm_min=8, tm_sec=4, tm_wday=6, tm_yday=357, tm_isdst=0), 'title': 'A Multi-AI Agent System for Autonomous Optimization of Agentic AI\\n  Solutions via Iterative Refinement and LLM-Driven Feedback Loops', 'title_detail': {'type': 'text/plain', 'language': None, 'base': 'https://export.arxiv.org/api/query?search_query=agent%20workflows%20for%20ai%20powered%20applications&start=0&max_results=5', 'value': 'A Multi-AI Agent System for Autonomous Optimization of Agentic AI\\n  Solutions via Iterative Refinement and LLM-Driven Feedback Loops'}, 'summary': 'Agentic AI systems use specialized agents to handle tasks within complex\\nworkflows, enabling automation and efficiency. However, optimizing these\\nsystems often requires labor-intensive, manual adjustments to refine roles,\\ntasks, and interactions. This paper introduces a framework for autonomously\\noptimizing Agentic AI solutions across industries, such as NLP-driven\\nenterprise applications. The system employs agents for Refinement, Execution,\\nEvaluation, Modification, and Documentation, leveraging iterative feedback\\nloops powered by an LLM (Llama 3.2-3B). The framework achieves optimal\\nperformance without human input by autonomously generating and testing\\nhypotheses to improve system configurations. This approach enhances scalability\\nand adaptability, offering a robust solution for real-world applications in\\ndynamic environments. Case studies across diverse domains illustrate the\\ntransformative impact of this framework, showcasing significant improvements in\\noutput quality, relevance, and actionability. All data for these case studies,\\nincluding original and evolved agent codes, along with their outputs, are here:\\nhttps://anonymous.4open.science/r/evolver-1D11/', 'summary_detail': {'type': 'text/plain', 'language': None, 'base': 'https://export.arxiv.org/api/query?search_query=agent%20workflows%20for%20ai%20powered%20applications&start=0&max_results=5', 'value': 'Agentic AI systems use specialized agents to handle tasks within complex\\nworkflows, enabling automation and efficiency. However, optimizing these\\nsystems often requires labor-intensive, manual adjustments to refine roles,\\ntasks, and interactions. This paper introduces a framework for autonomously\\noptimizing Agentic AI solutions across industries, such as NLP-driven\\nenterprise applications. The system employs agents for Refinement, Execution,\\nEvaluation, Modification, and Documentation, leveraging iterative feedback\\nloops powered by an LLM (Llama 3.2-3B). The framework achieves optimal\\nperformance without human input by autonomously generating and testing\\nhypotheses to improve system configurations. This approach enhances scalability\\nand adaptability, offering a robust solution for real-world applications in\\ndynamic environments. Case studies across diverse domains illustrate the\\ntransformative impact of this framework, showcasing significant improvements in\\noutput quality, relevance, and actionability. All data for these case studies,\\nincluding original and evolved agent codes, along with their outputs, are here:\\nhttps://anonymous.4open.science/r/evolver-1D11/'}, 'authors': [{'name': 'Kamer Ali Yuksel'}, {'name': 'Hassan Sawaf'}], 'author_detail': {'name': 'Hassan Sawaf'}, 'author': 'Hassan Sawaf', 'links': [{'href': 'http://arxiv.org/abs/2412.17149v1', 'rel': 'alternate', 'type': 'text/html'}, {'title': 'pdf', 'href': 'http://arxiv.org/pdf/2412.17149v1', 'rel': 'related', 'type': 'application/pdf'}], 'arxiv_primary_category': {'term': 'cs.CL', 'scheme': 'http://arxiv.org/schemas/atom'}, 'tags': [{'term': 'cs.CL', 'scheme': 'http://arxiv.org/schemas/atom', 'label': None}, {'term': 'cs.AI', 'scheme': 'http://arxiv.org/schemas/atom', 'label': None}, {'term': 'cs.ET', 'scheme': 'http://arxiv.org/schemas/atom', 'label': None}, {'term': 'cs.MA', 'scheme': 'http://arxiv.org/schemas/atom', 'label': None}, {'term': 'cs.NE', 'scheme': 'http://arxiv.org/schemas/atom', 'label': None}]}\n"
     ]
    }
   ],
   "source": [
    "for i in feed['entries']:\n",
    "    print(i)\n",
    "    break\n",
    "    print(5*'=')"
   ]
  },
  {
   "cell_type": "code",
   "execution_count": 10,
   "id": "beea1b0d-c33a-4876-9bbb-dabdba4ea70c",
   "metadata": {},
   "outputs": [],
   "source": [
    "def download_arxiv_paper(link, save_folder=os.getcwd()):\n",
    "    output = link.split('/')[-1]\n",
    "    save_name = os.path.join(save_folder, f'{output}.pdf')\n",
    "    subprocess.run([\"wget\", link, \"-O\", save_name])"
   ]
  },
  {
   "cell_type": "code",
   "execution_count": 11,
   "id": "ba51fad0-274f-437d-a63d-e4134e6d3867",
   "metadata": {},
   "outputs": [
    {
     "name": "stderr",
     "output_type": "stream",
     "text": [
      "--2025-07-15 09:21:54--  http://arxiv.org/pdf/2412.17149v1\n",
      "Resolving arxiv.org (arxiv.org)... 151.101.195.42, 151.101.3.42, 151.101.131.42, ...\n",
      "Connecting to arxiv.org (arxiv.org)|151.101.195.42|:80... connected.\n",
      "HTTP request sent, awaiting response... 200 OK\n",
      "Length: 3143704 (3.0M) [application/pdf]\n",
      "Saving to: ‘/mnt/f/chatbot_ui_v5/notebooks/2412.17149v1.pdf’\n",
      "\n",
      "     0K .......... .......... .......... .......... ..........  1% 2.71M 1s\n",
      "    50K .......... .......... .......... .......... ..........  3% 8.89M 1s\n",
      "   100K .......... .......... .......... .......... ..........  4% 4.30M 1s\n",
      "   150K .......... .......... .......... .......... ..........  6% 15.6M 1s\n",
      "   200K .......... .......... .......... .......... ..........  8% 4.92M 1s\n",
      "   250K .......... .......... .......... .......... ..........  9% 14.0M 0s\n",
      "   300K .......... .......... .......... .......... .......... 11% 23.9M 0s\n",
      "   350K .......... .......... .......... .......... .......... 13% 38.0M 0s\n",
      "   400K .......... .......... .......... .......... .......... 14% 37.6M 0s\n",
      "   450K .......... .......... .......... .......... .......... 16% 22.1M 0s\n",
      "   500K .......... .......... .......... .......... .......... 17% 9.27M 0s\n",
      "   550K .......... .......... .......... .......... .......... 19% 19.6M 0s\n",
      "   600K .......... .......... .......... .......... .......... 21% 19.7M 0s\n",
      "   650K .......... .......... .......... .......... .......... 22% 17.4M 0s\n",
      "   700K .......... .......... .......... .......... .......... 24% 41.0M 0s\n",
      "   750K .......... .......... .......... .......... .......... 26% 35.6M 0s\n",
      "   800K .......... .......... .......... .......... .......... 27% 27.2M 0s\n",
      "   850K .......... .......... .......... .......... .......... 29% 26.8M 0s\n",
      "   900K .......... .......... .......... .......... .......... 30% 35.0M 0s\n",
      "   950K .......... .......... .......... .......... .......... 32% 20.6M 0s\n",
      "  1000K .......... .......... .......... .......... .......... 34% 28.1M 0s\n",
      "  1050K .......... .......... .......... .......... .......... 35% 27.7M 0s\n",
      "  1100K .......... .......... .......... .......... .......... 37% 21.1M 0s\n",
      "  1150K .......... .......... .......... .......... .......... 39% 36.8M 0s\n",
      "  1200K .......... .......... .......... .......... .......... 40% 42.2M 0s\n",
      "  1250K .......... .......... .......... .......... .......... 42% 36.9M 0s\n",
      "  1300K .......... .......... .......... .......... .......... 43% 39.2M 0s\n",
      "  1350K .......... .......... .......... .......... .......... 45% 32.5M 0s\n",
      "  1400K .......... .......... .......... .......... .......... 47% 28.0M 0s\n",
      "  1450K .......... .......... .......... .......... .......... 48% 38.1M 0s\n",
      "  1500K .......... .......... .......... .......... .......... 50% 27.4M 0s\n",
      "  1550K .......... .......... .......... .......... .......... 52% 28.5M 0s\n",
      "  1600K .......... .......... .......... .......... .......... 53% 49.1M 0s\n",
      "  1650K .......... .......... .......... .......... .......... 55% 19.8M 0s\n",
      "  1700K .......... .......... .......... .......... .......... 57% 36.0M 0s\n",
      "  1750K .......... .......... .......... .......... .......... 58% 28.4M 0s\n",
      "  1800K .......... .......... .......... .......... .......... 60% 30.1M 0s\n",
      "  1850K .......... .......... .......... .......... .......... 61% 33.8M 0s\n",
      "  1900K .......... .......... .......... .......... .......... 63% 37.2M 0s\n",
      "  1950K .......... .......... .......... .......... .......... 65% 3.22M 0s\n",
      "  2000K .......... .......... .......... .......... .......... 66% 26.6M 0s\n",
      "  2050K .......... .......... .......... .......... .......... 68% 22.0M 0s\n",
      "  2100K .......... .......... .......... .......... .......... 70% 27.8M 0s\n",
      "  2150K .......... .......... .......... .......... .......... 71% 46.3M 0s\n",
      "  2200K .......... .......... .......... .......... .......... 73% 26.2M 0s\n",
      "  2250K .......... .......... .......... .......... .......... 74% 45.5M 0s\n",
      "  2300K .......... .......... .......... .......... .......... 76% 23.3M 0s\n",
      "  2350K .......... .......... .......... .......... .......... 78% 23.4M 0s\n",
      "  2400K .......... .......... .......... .......... .......... 79% 36.4M 0s\n",
      "  2450K .......... .......... .......... .......... .......... 81% 26.9M 0s\n",
      "  2500K .......... .......... .......... .......... .......... 83% 27.0M 0s\n",
      "  2550K .......... .......... .......... .......... .......... 84% 25.4M 0s\n",
      "  2600K .......... .......... .......... .......... .......... 86% 46.7M 0s\n",
      "  2650K .......... .......... .......... .......... .......... 87% 25.1M 0s\n",
      "  2700K .......... .......... .......... .......... .......... 89% 52.2M 0s\n",
      "  2750K .......... .......... .......... .......... .......... 91% 23.4M 0s\n",
      "  2800K .......... .......... .......... .......... .......... 92% 16.8M 0s\n",
      "  2850K .......... .......... .......... .......... .......... 94% 39.0M 0s\n",
      "  2900K .......... .......... .......... .......... .......... 96% 33.8M 0s\n",
      "  2950K .......... .......... .......... .......... .......... 97% 24.2M 0s\n",
      "  3000K .......... .......... .......... .......... .......... 99% 45.9M 0s\n",
      "  3050K .......... ..........                                 100% 42.5M=0.2s\n",
      "\n",
      "2025-07-15 09:21:54 (18.5 MB/s) - ‘/mnt/f/chatbot_ui_v5/notebooks/2412.17149v1.pdf’ saved [3143704/3143704]\n",
      "\n",
      "--2025-07-15 09:21:54--  http://arxiv.org/pdf/2504.12891v1\n",
      "Resolving arxiv.org (arxiv.org)... 151.101.131.42, 151.101.67.42, 151.101.195.42, ...\n",
      "Connecting to arxiv.org (arxiv.org)|151.101.131.42|:80... "
     ]
    },
    {
     "name": "stdout",
     "output_type": "stream",
     "text": [
      "http://arxiv.org/abs/2412.17149v1 http://arxiv.org/pdf/2412.17149v1 None\n",
      "http://arxiv.org/abs/2504.12891v1 http://arxiv.org/pdf/2504.12891v1 None\n"
     ]
    },
    {
     "name": "stderr",
     "output_type": "stream",
     "text": [
      "connected.\n",
      "HTTP request sent, awaiting response... 200 OK\n",
      "Length: 579954 (566K) [application/pdf]\n",
      "Saving to: ‘/mnt/f/chatbot_ui_v5/notebooks/2504.12891v1.pdf’\n",
      "\n",
      "     0K .......... .......... .......... .......... ..........  8% 3.08M 0s\n",
      "    50K .......... .......... .......... .......... .......... 17% 9.48M 0s\n",
      "   100K .......... .......... .......... .......... .......... 26% 4.42M 0s\n",
      "   150K .......... .......... .......... .......... .......... 35% 9.44M 0s\n",
      "   200K .......... .......... .......... .......... .......... 44% 22.3M 0s\n",
      "   250K .......... .......... .......... .......... .......... 52% 5.85M 0s\n",
      "   300K .......... .......... .......... .......... .......... 61% 8.91M 0s\n",
      "   350K .......... .......... .......... .......... .......... 70% 16.9M 0s\n",
      "   400K .......... .......... .......... .......... .......... 79% 44.7M 0s\n",
      "   450K .......... .......... .......... .......... .......... 88% 25.0M 0s\n",
      "   500K .......... .......... .......... .......... .......... 97% 22.1M 0s\n",
      "   550K .......... ......                                     100% 20.5M=0.06s\n",
      "\n",
      "2025-07-15 09:21:54 (8.90 MB/s) - ‘/mnt/f/chatbot_ui_v5/notebooks/2504.12891v1.pdf’ saved [579954/579954]\n",
      "\n",
      "--2025-07-15 09:21:54--  http://arxiv.org/pdf/2506.04301v1\n",
      "Resolving arxiv.org (arxiv.org)... 151.101.3.42, 151.101.131.42, 151.101.67.42, ...\n",
      "Connecting to arxiv.org (arxiv.org)|151.101.3.42|:80... connected.\n",
      "HTTP request sent, awaiting response... 200 OK\n",
      "Length: 3233057 (3.1M) [application/pdf]\n",
      "Saving to: ‘/mnt/f/chatbot_ui_v5/notebooks/2506.04301v1.pdf’\n",
      "\n",
      "     0K .......... .......... .......... .......... ..........  1% 2.76M 1s\n",
      "    50K .......... .......... .......... .......... ..........  3% 5.59M 1s\n",
      "   100K .......... .......... .......... .......... ..........  4% 7.13M 1s\n",
      "   150K .......... .......... .......... .......... ..........  6% 13.6M 1s\n",
      "   200K .......... .......... .......... .......... ..........  7% 9.08M 0s\n",
      "   250K .......... .......... .......... .......... ..........  9% 10.8M 0s\n",
      "   300K .......... .......... .......... .......... .......... 11% 18.3M 0s\n",
      "   350K .......... .......... .......... .......... .......... 12% 12.3M 0s\n",
      "   400K .......... .......... .......... .......... .......... 14% 41.9M 0s\n",
      "   450K .......... .......... .......... .......... .......... 15% 16.5M 0s\n",
      "   500K .......... .......... .......... .......... .......... 17% 40.4M 0s\n",
      "   550K .......... .......... .......... .......... .......... 19% 13.7M 0s\n",
      "   600K .......... .......... .......... .......... .......... 20% 15.5M 0s\n",
      "   650K .......... .......... .......... .......... .......... 22% 45.9M 0s\n",
      "   700K .......... .......... .......... .......... .......... 23% 28.4M 0s\n",
      "   750K .......... .......... .......... .......... .......... 25% 31.3M 0s\n",
      "   800K .......... .......... .......... .......... .......... 26% 28.7M 0s\n",
      "   850K .......... .......... .......... .......... .......... 28% 22.6M 0s\n",
      "   900K .......... .......... .......... .......... .......... 30% 31.0M 0s\n",
      "   950K .......... .......... .......... .......... .......... 31% 24.8M 0s\n",
      "  1000K .......... .......... .......... .......... .......... 33% 35.6M 0s\n",
      "  1050K .......... .......... .......... .......... .......... 34% 27.8M 0s\n",
      "  1100K .......... .......... .......... .......... .......... 36% 34.1M 0s\n",
      "  1150K .......... .......... .......... .......... .......... 38% 42.3M 0s\n",
      "  1200K .......... .......... .......... .......... .......... 39% 8.18M 0s\n",
      "  1250K .......... .......... .......... .......... .......... 41% 18.2M 0s\n",
      "  1300K .......... .......... .......... .......... .......... 42% 28.0M 0s\n",
      "  1350K .......... .......... .......... .......... .......... 44% 33.8M 0s\n",
      "  1400K .......... .......... .......... .......... .......... 45% 34.8M 0s\n",
      "  1450K .......... .......... .......... .......... .......... 47% 34.8M 0s\n",
      "  1500K .......... .......... .......... .......... .......... 49% 40.9M 0s\n",
      "  1550K .......... .......... .......... .......... .......... 50% 34.8M 0s\n",
      "  1600K .......... .......... .......... .......... .......... 52% 49.9M 0s\n",
      "  1650K .......... .......... .......... .......... .......... 53% 27.3M 0s\n",
      "  1700K .......... .......... .......... .......... .......... 55% 49.5M 0s\n",
      "  1750K .......... .......... .......... .......... .......... 57% 30.7M 0s\n",
      "  1800K .......... .......... .......... .......... .......... 58% 21.9M 0s\n",
      "  1850K .......... .......... .......... .......... .......... 60% 42.2M 0s\n",
      "  1900K .......... .......... .......... .......... .......... 61% 21.8M 0s\n",
      "  1950K .......... .......... .......... .......... .......... 63% 28.8M 0s\n",
      "  2000K .......... .......... .......... .......... .......... 64% 52.5M 0s\n",
      "  2050K .......... .......... .......... .......... .......... 66% 21.0M 0s\n",
      "  2100K .......... .......... .......... .......... .......... 68% 41.0M 0s\n",
      "  2150K .......... .......... .......... .......... .......... 69% 40.8M 0s\n",
      "  2200K .......... .......... .......... .......... .......... 71% 23.3M 0s\n",
      "  2250K .......... .......... .......... .......... .......... 72% 48.5M 0s\n",
      "  2300K .......... .......... .......... .......... .......... 74% 27.9M 0s\n",
      "  2350K .......... .......... .......... .......... .......... 76% 30.1M 0s\n",
      "  2400K .......... .......... .......... .......... .......... 77% 46.3M 0s\n",
      "  2450K .......... .......... .......... .......... .......... 79% 40.8M 0s\n",
      "  2500K .......... .......... .......... .......... .......... 80% 31.6M 0s\n",
      "  2550K .......... .......... .......... .......... .......... 82% 49.0M 0s\n",
      "  2600K .......... .......... .......... .......... .......... 83% 29.6M 0s\n",
      "  2650K .......... .......... .......... .......... .......... 85% 29.3M 0s\n",
      "  2700K .......... .......... .......... .......... .......... 87% 29.0M 0s\n",
      "  2750K .......... .......... .......... .......... .......... 88% 26.1M 0s\n",
      "  2800K .......... .......... .......... .......... .......... 90% 27.5M 0s\n",
      "  2850K .......... .......... .......... .......... .......... 91% 23.5M 0s\n",
      "  2900K .......... .......... .......... .......... .......... 93% 26.1M 0s\n",
      "  2950K .......... .......... .......... .......... .......... 95% 27.6M 0s\n",
      "  3000K .......... .......... .......... .......... .......... 96% 32.0M 0s\n",
      "  3050K .......... .......... .......... .......... .......... 98% 40.6M 0s\n",
      "  3100K .......... .......... .......... .......... .......... 99% 35.6M 0s\n",
      "  3150K .......                                               100% 47.9M=0.1s\n",
      "\n",
      "2025-07-15 09:21:55 (20.8 MB/s) - ‘/mnt/f/chatbot_ui_v5/notebooks/2506.04301v1.pdf’ saved [3233057/3233057]\n",
      "\n",
      "--2025-07-15 09:21:55--  http://arxiv.org/pdf/2504.08148v1\n",
      "Resolving arxiv.org (arxiv.org)... 151.101.131.42, 151.101.67.42, 151.101.195.42, ...\n",
      "Connecting to arxiv.org (arxiv.org)|151.101.131.42|:80... connected.\n",
      "HTTP request sent, awaiting response... "
     ]
    },
    {
     "name": "stdout",
     "output_type": "stream",
     "text": [
      "http://arxiv.org/abs/2506.04301v1 http://arxiv.org/pdf/2506.04301v1 None\n"
     ]
    },
    {
     "name": "stderr",
     "output_type": "stream",
     "text": [
      "200 OK\n",
      "Length: 950877 (929K) [application/pdf]\n",
      "Saving to: ‘/mnt/f/chatbot_ui_v5/notebooks/2504.08148v1.pdf’\n",
      "\n",
      "     0K .......... .......... .......... .......... ..........  5% 3.05M 0s\n",
      "    50K .......... .......... .......... .......... .......... 10% 3.80M 0s\n",
      "   100K .......... .......... .......... .......... .......... 16% 10.5M 0s\n",
      "   150K .......... .......... .......... .......... .......... 21% 6.84M 0s\n",
      "   200K .......... .......... .......... .......... .......... 26% 10.2M 0s\n",
      "   250K .......... .......... .......... .......... .......... 32% 20.3M 0s\n",
      "   300K .......... .......... .......... .......... .......... 37% 11.1M 0s\n",
      "   350K .......... .......... .......... .......... .......... 43% 39.9M 0s\n",
      "   400K .......... .......... .......... .......... .......... 48% 19.0M 0s\n",
      "   450K .......... .......... .......... .......... .......... 53% 18.3M 0s\n",
      "   500K .......... .......... .......... .......... .......... 59% 34.3M 0s\n",
      "   550K .......... .......... .......... .......... .......... 64% 11.9M 0s\n",
      "   600K .......... .......... .......... .......... .......... 69% 47.6M 0s\n",
      "   650K .......... .......... .......... .......... .......... 75% 14.3M 0s\n",
      "   700K .......... .......... .......... .......... .......... 80% 26.0M 0s\n",
      "   750K .......... .......... .......... .......... .......... 86% 21.8M 0s\n",
      "   800K .......... .......... .......... .......... .......... 91% 20.2M 0s\n",
      "   850K .......... .......... .......... .......... .......... 96% 42.3M 0s\n",
      "   900K .......... .......... ........                        100% 44.3M=0.08s\n",
      "\n",
      "2025-07-15 09:21:56 (11.8 MB/s) - ‘/mnt/f/chatbot_ui_v5/notebooks/2504.08148v1.pdf’ saved [950877/950877]\n",
      "\n",
      "--2025-07-15 09:21:56--  http://arxiv.org/pdf/2407.12821v1\n",
      "Resolving arxiv.org (arxiv.org)... 151.101.131.42, 151.101.67.42, 151.101.195.42, ...\n",
      "Connecting to arxiv.org (arxiv.org)|151.101.131.42|:80... connected.\n",
      "HTTP request sent, awaiting response... "
     ]
    },
    {
     "name": "stdout",
     "output_type": "stream",
     "text": [
      "http://arxiv.org/abs/2504.08148v1 http://arxiv.org/pdf/2504.08148v1 None\n",
      "http://arxiv.org/abs/2407.12821v1 http://arxiv.org/pdf/2407.12821v1 None\n"
     ]
    },
    {
     "name": "stderr",
     "output_type": "stream",
     "text": [
      "200 OK\n",
      "Length: 558397 (545K) [application/pdf]\n",
      "Saving to: ‘/mnt/f/chatbot_ui_v5/notebooks/2407.12821v1.pdf’\n",
      "\n",
      "     0K .......... .......... .......... .......... ..........  9% 3.30M 0s\n",
      "    50K .......... .......... .......... .......... .......... 18% 9.91M 0s\n",
      "   100K .......... .......... .......... .......... .......... 27% 4.27M 0s\n",
      "   150K .......... .......... .......... .......... .......... 36% 15.9M 0s\n",
      "   200K .......... .......... .......... .......... .......... 45% 6.67M 0s\n",
      "   250K .......... .......... .......... .......... .......... 55% 11.9M 0s\n",
      "   300K .......... .......... .......... .......... .......... 64% 11.7M 0s\n",
      "   350K .......... .......... .......... .......... .......... 73% 36.1M 0s\n",
      "   400K .......... .......... .......... .......... .......... 82% 42.3M 0s\n",
      "   450K .......... .......... .......... .......... .......... 91% 46.1M 0s\n",
      "   500K .......... .......... .......... .......... .....     100% 28.7M=0.05s\n",
      "\n",
      "2025-07-15 09:21:57 (9.70 MB/s) - ‘/mnt/f/chatbot_ui_v5/notebooks/2407.12821v1.pdf’ saved [558397/558397]\n",
      "\n"
     ]
    }
   ],
   "source": [
    "for i in feed['entries']:\n",
    "    link = i['link']\n",
    "    download_link = link.replace('/abs/', '/pdf/')\n",
    "    print(link, download_link, download_arxiv_paper(download_link))"
   ]
  },
  {
   "cell_type": "code",
   "execution_count": 12,
   "id": "3e542c74-137f-4007-abd5-ffe9e578dc53",
   "metadata": {},
   "outputs": [
    {
     "data": {
      "text/plain": [
       "'/mnt/f/chatbot_ui_v5/notebooks'"
      ]
     },
     "execution_count": 12,
     "metadata": {},
     "output_type": "execute_result"
    }
   ],
   "source": [
    "os.getcwd()"
   ]
  },
  {
   "cell_type": "code",
   "execution_count": 13,
   "id": "e7c9b221-23af-4fe1-a992-be8a84df2af0",
   "metadata": {},
   "outputs": [],
   "source": [
    "from IPython.display import Markdown, display"
   ]
  },
  {
   "cell_type": "code",
   "execution_count": 14,
   "id": "3144bd62-7a04-48c1-b96c-434458f8267d",
   "metadata": {},
   "outputs": [
    {
     "name": "stdout",
     "output_type": "stream",
     "text": [
      "# Header\n",
      "\n",
      "__Bold text__\n"
     ]
    }
   ],
   "source": [
    "from html2markdown import convert\n",
    "\n",
    "html = \"<h1>Header</h1><p><b>Bold text</b></p>\"\n",
    "markdown = convert(html)\n",
    "print(markdown)"
   ]
  },
  {
   "cell_type": "code",
   "execution_count": 15,
   "id": "936a176a-81e5-46d4-8b57-adad00b2b865",
   "metadata": {},
   "outputs": [
    {
     "data": {
      "text/markdown": [
       "# Header\n",
       "\n",
       "__Bold text__"
      ],
      "text/plain": [
       "<IPython.core.display.Markdown object>"
      ]
     },
     "metadata": {},
     "output_type": "display_data"
    }
   ],
   "source": [
    "display(Markdown(markdown))\n"
   ]
  },
  {
   "cell_type": "code",
   "execution_count": 16,
   "id": "d8e3aba5-a247-4bd8-8500-161e9500a8c4",
   "metadata": {},
   "outputs": [
    {
     "data": {
      "text/plain": [
       "'# Header\\n\\n__Bold text__'"
      ]
     },
     "execution_count": 16,
     "metadata": {},
     "output_type": "execute_result"
    }
   ],
   "source": [
    "markdown"
   ]
  }
 ],
 "metadata": {
  "kernelspec": {
   "display_name": "Python 3 (ipykernel)",
   "language": "python",
   "name": "python3"
  },
  "language_info": {
   "codemirror_mode": {
    "name": "ipython",
    "version": 3
   },
   "file_extension": ".py",
   "mimetype": "text/x-python",
   "name": "python",
   "nbconvert_exporter": "python",
   "pygments_lexer": "ipython3",
   "version": "3.10.12"
  }
 },
 "nbformat": 4,
 "nbformat_minor": 5
}
