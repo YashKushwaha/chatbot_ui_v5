{
 "cells": [
  {
   "cell_type": "code",
   "execution_count": 5,
   "id": "4cf2ff6d-d413-469e-9c15-03d3ff182eb9",
   "metadata": {},
   "outputs": [],
   "source": [
    "import feedparser\n",
    "from urllib.parse import quote"
   ]
  },
  {
   "cell_type": "code",
   "execution_count": 11,
   "id": "9328e85e-4141-4f57-a9f1-c9b036f58b47",
   "metadata": {},
   "outputs": [],
   "source": [
    "def search_arxiv(query: str, max_results: int = 5):\n",
    "    base_url = \"http://export.arxiv.org/api/query?\"\n",
    "    encoded_query = quote(query)  # e.g. \"llama index\" -> \"llama%20index\"\n",
    "    query_url = f\"{base_url}search_query={encoded_query}&start=0&max_results={max_results}\"\n",
    "    print(query_url)\n",
    "    feed = feedparser.parse(query_url)\n",
    "    return feed"
   ]
  },
  {
   "cell_type": "code",
   "execution_count": 21,
   "id": "2ab703ca-6398-4857-b923-5c22c016bf3c",
   "metadata": {},
   "outputs": [],
   "source": [
    "query = 'agent workflows for ai powered applications'"
   ]
  },
  {
   "cell_type": "code",
   "execution_count": 22,
   "id": "66a24604-e940-494b-aff4-8e6a6b5fd533",
   "metadata": {},
   "outputs": [
    {
     "name": "stdout",
     "output_type": "stream",
     "text": [
      "http://export.arxiv.org/api/query?search_query=agent%20workflows%20for%20ai%20powered%20applications&start=0&max_results=5\n"
     ]
    }
   ],
   "source": [
    "feed = search_arxiv(query)"
   ]
  },
  {
   "cell_type": "code",
   "execution_count": 23,
   "id": "556d404e-9de6-454e-b8d3-b82e42d04051",
   "metadata": {},
   "outputs": [
    {
     "data": {
      "text/plain": [
       "feedparser.util.FeedParserDict"
      ]
     },
     "execution_count": 23,
     "metadata": {},
     "output_type": "execute_result"
    }
   ],
   "source": [
    "type(feed)"
   ]
  },
  {
   "cell_type": "code",
   "execution_count": 24,
   "id": "9813d18d-97d2-492d-a80c-df2d24dced61",
   "metadata": {
    "scrolled": true
   },
   "outputs": [
    {
     "data": {
      "text/plain": [
       "['__class__',\n",
       " '__class_getitem__',\n",
       " '__contains__',\n",
       " '__delattr__',\n",
       " '__delitem__',\n",
       " '__dict__',\n",
       " '__dir__',\n",
       " '__doc__',\n",
       " '__eq__',\n",
       " '__format__',\n",
       " '__ge__',\n",
       " '__getattr__',\n",
       " '__getattribute__',\n",
       " '__getitem__',\n",
       " '__gt__',\n",
       " '__hash__',\n",
       " '__init__',\n",
       " '__init_subclass__',\n",
       " '__ior__',\n",
       " '__iter__',\n",
       " '__le__',\n",
       " '__len__',\n",
       " '__lt__',\n",
       " '__module__',\n",
       " '__ne__',\n",
       " '__new__',\n",
       " '__or__',\n",
       " '__reduce__',\n",
       " '__reduce_ex__',\n",
       " '__repr__',\n",
       " '__reversed__',\n",
       " '__ror__',\n",
       " '__setattr__',\n",
       " '__setitem__',\n",
       " '__sizeof__',\n",
       " '__slotnames__',\n",
       " '__str__',\n",
       " '__subclasshook__',\n",
       " '__weakref__',\n",
       " 'clear',\n",
       " 'copy',\n",
       " 'fromkeys',\n",
       " 'get',\n",
       " 'has_key',\n",
       " 'items',\n",
       " 'keymap',\n",
       " 'keys',\n",
       " 'pop',\n",
       " 'popitem',\n",
       " 'setdefault',\n",
       " 'update',\n",
       " 'values']"
      ]
     },
     "execution_count": 24,
     "metadata": {},
     "output_type": "execute_result"
    }
   ],
   "source": [
    "dir(feed)"
   ]
  },
  {
   "cell_type": "code",
   "execution_count": 25,
   "id": "8ef1463c-4548-44e6-8a97-9667ad95d06f",
   "metadata": {},
   "outputs": [
    {
     "data": {
      "text/plain": [
       "{'bozo': False,\n",
       " 'entries': [{'id': 'http://arxiv.org/abs/2412.17149v1',\n",
       "   'guidislink': True,\n",
       "   'link': 'http://arxiv.org/abs/2412.17149v1',\n",
       "   'updated': '2024-12-22T20:08:04Z',\n",
       "   'updated_parsed': time.struct_time(tm_year=2024, tm_mon=12, tm_mday=22, tm_hour=20, tm_min=8, tm_sec=4, tm_wday=6, tm_yday=357, tm_isdst=0),\n",
       "   'published': '2024-12-22T20:08:04Z',\n",
       "   'published_parsed': time.struct_time(tm_year=2024, tm_mon=12, tm_mday=22, tm_hour=20, tm_min=8, tm_sec=4, tm_wday=6, tm_yday=357, tm_isdst=0),\n",
       "   'title': 'A Multi-AI Agent System for Autonomous Optimization of Agentic AI\\n  Solutions via Iterative Refinement and LLM-Driven Feedback Loops',\n",
       "   'title_detail': {'type': 'text/plain',\n",
       "    'language': None,\n",
       "    'base': 'https://export.arxiv.org/api/query?search_query=agent%20workflows%20for%20ai%20powered%20applications&start=0&max_results=5',\n",
       "    'value': 'A Multi-AI Agent System for Autonomous Optimization of Agentic AI\\n  Solutions via Iterative Refinement and LLM-Driven Feedback Loops'},\n",
       "   'summary': 'Agentic AI systems use specialized agents to handle tasks within complex\\nworkflows, enabling automation and efficiency. However, optimizing these\\nsystems often requires labor-intensive, manual adjustments to refine roles,\\ntasks, and interactions. This paper introduces a framework for autonomously\\noptimizing Agentic AI solutions across industries, such as NLP-driven\\nenterprise applications. The system employs agents for Refinement, Execution,\\nEvaluation, Modification, and Documentation, leveraging iterative feedback\\nloops powered by an LLM (Llama 3.2-3B). The framework achieves optimal\\nperformance without human input by autonomously generating and testing\\nhypotheses to improve system configurations. This approach enhances scalability\\nand adaptability, offering a robust solution for real-world applications in\\ndynamic environments. Case studies across diverse domains illustrate the\\ntransformative impact of this framework, showcasing significant improvements in\\noutput quality, relevance, and actionability. All data for these case studies,\\nincluding original and evolved agent codes, along with their outputs, are here:\\nhttps://anonymous.4open.science/r/evolver-1D11/',\n",
       "   'summary_detail': {'type': 'text/plain',\n",
       "    'language': None,\n",
       "    'base': 'https://export.arxiv.org/api/query?search_query=agent%20workflows%20for%20ai%20powered%20applications&start=0&max_results=5',\n",
       "    'value': 'Agentic AI systems use specialized agents to handle tasks within complex\\nworkflows, enabling automation and efficiency. However, optimizing these\\nsystems often requires labor-intensive, manual adjustments to refine roles,\\ntasks, and interactions. This paper introduces a framework for autonomously\\noptimizing Agentic AI solutions across industries, such as NLP-driven\\nenterprise applications. The system employs agents for Refinement, Execution,\\nEvaluation, Modification, and Documentation, leveraging iterative feedback\\nloops powered by an LLM (Llama 3.2-3B). The framework achieves optimal\\nperformance without human input by autonomously generating and testing\\nhypotheses to improve system configurations. This approach enhances scalability\\nand adaptability, offering a robust solution for real-world applications in\\ndynamic environments. Case studies across diverse domains illustrate the\\ntransformative impact of this framework, showcasing significant improvements in\\noutput quality, relevance, and actionability. All data for these case studies,\\nincluding original and evolved agent codes, along with their outputs, are here:\\nhttps://anonymous.4open.science/r/evolver-1D11/'},\n",
       "   'authors': [{'name': 'Kamer Ali Yuksel'}, {'name': 'Hassan Sawaf'}],\n",
       "   'author_detail': {'name': 'Hassan Sawaf'},\n",
       "   'author': 'Hassan Sawaf',\n",
       "   'links': [{'href': 'http://arxiv.org/abs/2412.17149v1',\n",
       "     'rel': 'alternate',\n",
       "     'type': 'text/html'},\n",
       "    {'title': 'pdf',\n",
       "     'href': 'http://arxiv.org/pdf/2412.17149v1',\n",
       "     'rel': 'related',\n",
       "     'type': 'application/pdf'}],\n",
       "   'arxiv_primary_category': {'term': 'cs.CL',\n",
       "    'scheme': 'http://arxiv.org/schemas/atom'},\n",
       "   'tags': [{'term': 'cs.CL',\n",
       "     'scheme': 'http://arxiv.org/schemas/atom',\n",
       "     'label': None},\n",
       "    {'term': 'cs.AI',\n",
       "     'scheme': 'http://arxiv.org/schemas/atom',\n",
       "     'label': None},\n",
       "    {'term': 'cs.ET',\n",
       "     'scheme': 'http://arxiv.org/schemas/atom',\n",
       "     'label': None},\n",
       "    {'term': 'cs.MA',\n",
       "     'scheme': 'http://arxiv.org/schemas/atom',\n",
       "     'label': None},\n",
       "    {'term': 'cs.NE',\n",
       "     'scheme': 'http://arxiv.org/schemas/atom',\n",
       "     'label': None}]},\n",
       "  {'id': 'http://arxiv.org/abs/2504.12891v1',\n",
       "   'guidislink': True,\n",
       "   'link': 'http://arxiv.org/abs/2504.12891v1',\n",
       "   'updated': '2025-04-17T12:32:18Z',\n",
       "   'updated_parsed': time.struct_time(tm_year=2025, tm_mon=4, tm_mday=17, tm_hour=12, tm_min=32, tm_sec=18, tm_wday=3, tm_yday=107, tm_isdst=0),\n",
       "   'published': '2025-04-17T12:32:18Z',\n",
       "   'published_parsed': time.struct_time(tm_year=2025, tm_mon=4, tm_mday=17, tm_hour=12, tm_min=32, tm_sec=18, tm_wday=3, tm_yday=107, tm_isdst=0),\n",
       "   'title': 'Are AI agents the new machine translation frontier? Challenges and\\n  opportunities of single- and multi-agent systems for multilingual digital\\n  communication',\n",
       "   'title_detail': {'type': 'text/plain',\n",
       "    'language': None,\n",
       "    'base': 'https://export.arxiv.org/api/query?search_query=agent%20workflows%20for%20ai%20powered%20applications&start=0&max_results=5',\n",
       "    'value': 'Are AI agents the new machine translation frontier? Challenges and\\n  opportunities of single- and multi-agent systems for multilingual digital\\n  communication'},\n",
       "   'summary': 'The rapid evolution of artificial intelligence (AI) has introduced AI agents\\nas a disruptive paradigm across various industries, yet their application in\\nmachine translation (MT) remains underexplored. This paper describes and\\nanalyses the potential of single- and multi-agent systems for MT, reflecting on\\nhow they could enhance multilingual digital communication. While single-agent\\nsystems are well-suited for simpler translation tasks, multi-agent systems,\\nwhich involve multiple specialized AI agents collaborating in a structured\\nmanner, may offer a promising solution for complex scenarios requiring high\\naccuracy, domain-specific knowledge, and contextual awareness. To demonstrate\\nthe feasibility of multi-agent workflows in MT, we are conducting a pilot study\\nin legal MT. The study employs a multi-agent system involving four specialized\\nAI agents for (i) translation, (ii) adequacy review, (iii) fluency review, and\\n(iv) final editing. Our findings suggest that multi-agent systems may have the\\npotential to significantly improve domain-adaptability and contextual\\nawareness, with superior translation quality to traditional MT or single-agent\\nsystems. This paper also sets the stage for future research into multi-agent\\napplications in MT, integration into professional translation workflows, and\\nshares a demo of the system analyzed in the paper.',\n",
       "   'summary_detail': {'type': 'text/plain',\n",
       "    'language': None,\n",
       "    'base': 'https://export.arxiv.org/api/query?search_query=agent%20workflows%20for%20ai%20powered%20applications&start=0&max_results=5',\n",
       "    'value': 'The rapid evolution of artificial intelligence (AI) has introduced AI agents\\nas a disruptive paradigm across various industries, yet their application in\\nmachine translation (MT) remains underexplored. This paper describes and\\nanalyses the potential of single- and multi-agent systems for MT, reflecting on\\nhow they could enhance multilingual digital communication. While single-agent\\nsystems are well-suited for simpler translation tasks, multi-agent systems,\\nwhich involve multiple specialized AI agents collaborating in a structured\\nmanner, may offer a promising solution for complex scenarios requiring high\\naccuracy, domain-specific knowledge, and contextual awareness. To demonstrate\\nthe feasibility of multi-agent workflows in MT, we are conducting a pilot study\\nin legal MT. The study employs a multi-agent system involving four specialized\\nAI agents for (i) translation, (ii) adequacy review, (iii) fluency review, and\\n(iv) final editing. Our findings suggest that multi-agent systems may have the\\npotential to significantly improve domain-adaptability and contextual\\nawareness, with superior translation quality to traditional MT or single-agent\\nsystems. This paper also sets the stage for future research into multi-agent\\napplications in MT, integration into professional translation workflows, and\\nshares a demo of the system analyzed in the paper.'},\n",
       "   'authors': [{'name': 'Vicent Briva-Iglesias'}],\n",
       "   'author_detail': {'name': 'Vicent Briva-Iglesias'},\n",
       "   'author': 'Vicent Briva-Iglesias',\n",
       "   'links': [{'href': 'http://arxiv.org/abs/2504.12891v1',\n",
       "     'rel': 'alternate',\n",
       "     'type': 'text/html'},\n",
       "    {'title': 'pdf',\n",
       "     'href': 'http://arxiv.org/pdf/2504.12891v1',\n",
       "     'rel': 'related',\n",
       "     'type': 'application/pdf'}],\n",
       "   'arxiv_primary_category': {'term': 'cs.CL',\n",
       "    'scheme': 'http://arxiv.org/schemas/atom'},\n",
       "   'tags': [{'term': 'cs.CL',\n",
       "     'scheme': 'http://arxiv.org/schemas/atom',\n",
       "     'label': None},\n",
       "    {'term': 'cs.AI',\n",
       "     'scheme': 'http://arxiv.org/schemas/atom',\n",
       "     'label': None},\n",
       "    {'term': 'cs.ET',\n",
       "     'scheme': 'http://arxiv.org/schemas/atom',\n",
       "     'label': None},\n",
       "    {'term': 'cs.HC',\n",
       "     'scheme': 'http://arxiv.org/schemas/atom',\n",
       "     'label': None}]},\n",
       "  {'id': 'http://arxiv.org/abs/2506.04301v1',\n",
       "   'guidislink': True,\n",
       "   'link': 'http://arxiv.org/abs/2506.04301v1',\n",
       "   'updated': '2025-06-04T14:37:54Z',\n",
       "   'updated_parsed': time.struct_time(tm_year=2025, tm_mon=6, tm_mday=4, tm_hour=14, tm_min=37, tm_sec=54, tm_wday=2, tm_yday=155, tm_isdst=0),\n",
       "   'published': '2025-06-04T14:37:54Z',\n",
       "   'published_parsed': time.struct_time(tm_year=2025, tm_mon=6, tm_mday=4, tm_hour=14, tm_min=37, tm_sec=54, tm_wday=2, tm_yday=155, tm_isdst=0),\n",
       "   'title': 'The Cost of Dynamic Reasoning: Demystifying AI Agents and Test-Time\\n  Scaling from an AI Infrastructure Perspective',\n",
       "   'title_detail': {'type': 'text/plain',\n",
       "    'language': None,\n",
       "    'base': 'https://export.arxiv.org/api/query?search_query=agent%20workflows%20for%20ai%20powered%20applications&start=0&max_results=5',\n",
       "    'value': 'The Cost of Dynamic Reasoning: Demystifying AI Agents and Test-Time\\n  Scaling from an AI Infrastructure Perspective'},\n",
       "   'summary': 'Large-language-model (LLM)-based AI agents have recently showcased impressive\\nversatility by employing dynamic reasoning, an adaptive, multi-step process\\nthat coordinates with external tools. This shift from static, single-turn\\ninference to agentic, multi-turn workflows broadens task generalization and\\nbehavioral flexibility, but it also introduces serious concerns about\\nsystem-level cost, efficiency, and sustainability. This paper presents the\\nfirst comprehensive system-level analysis of AI agents, quantifying their\\nresource usage, latency behavior, energy consumption, and datacenter-wide power\\nconsumption demands across diverse agent designs and test-time scaling\\nstrategies. We further characterize how AI agent design choices, such as\\nfew-shot prompting, reflection depth, and parallel reasoning, impact\\naccuracy-cost tradeoffs. Our findings reveal that while agents improve accuracy\\nwith increased compute, they suffer from rapidly diminishing returns, widening\\nlatency variance, and unsustainable infrastructure costs. Through detailed\\nevaluation of representative agents, we highlight the profound computational\\ndemands introduced by AI agent workflows, uncovering a looming sustainability\\ncrisis. These results call for a paradigm shift in agent design toward\\ncompute-efficient reasoning, balancing performance with deployability under\\nreal-world constraints.',\n",
       "   'summary_detail': {'type': 'text/plain',\n",
       "    'language': None,\n",
       "    'base': 'https://export.arxiv.org/api/query?search_query=agent%20workflows%20for%20ai%20powered%20applications&start=0&max_results=5',\n",
       "    'value': 'Large-language-model (LLM)-based AI agents have recently showcased impressive\\nversatility by employing dynamic reasoning, an adaptive, multi-step process\\nthat coordinates with external tools. This shift from static, single-turn\\ninference to agentic, multi-turn workflows broadens task generalization and\\nbehavioral flexibility, but it also introduces serious concerns about\\nsystem-level cost, efficiency, and sustainability. This paper presents the\\nfirst comprehensive system-level analysis of AI agents, quantifying their\\nresource usage, latency behavior, energy consumption, and datacenter-wide power\\nconsumption demands across diverse agent designs and test-time scaling\\nstrategies. We further characterize how AI agent design choices, such as\\nfew-shot prompting, reflection depth, and parallel reasoning, impact\\naccuracy-cost tradeoffs. Our findings reveal that while agents improve accuracy\\nwith increased compute, they suffer from rapidly diminishing returns, widening\\nlatency variance, and unsustainable infrastructure costs. Through detailed\\nevaluation of representative agents, we highlight the profound computational\\ndemands introduced by AI agent workflows, uncovering a looming sustainability\\ncrisis. These results call for a paradigm shift in agent design toward\\ncompute-efficient reasoning, balancing performance with deployability under\\nreal-world constraints.'},\n",
       "   'authors': [{'name': 'Jiin Kim'},\n",
       "    {'name': 'Byeongjun Shin'},\n",
       "    {'name': 'Jinha Chung'},\n",
       "    {'name': 'Minsoo Rhu'}],\n",
       "   'author_detail': {'name': 'Minsoo Rhu'},\n",
       "   'author': 'Minsoo Rhu',\n",
       "   'links': [{'href': 'http://arxiv.org/abs/2506.04301v1',\n",
       "     'rel': 'alternate',\n",
       "     'type': 'text/html'},\n",
       "    {'title': 'pdf',\n",
       "     'href': 'http://arxiv.org/pdf/2506.04301v1',\n",
       "     'rel': 'related',\n",
       "     'type': 'application/pdf'}],\n",
       "   'arxiv_primary_category': {'term': 'cs.LG',\n",
       "    'scheme': 'http://arxiv.org/schemas/atom'},\n",
       "   'tags': [{'term': 'cs.LG',\n",
       "     'scheme': 'http://arxiv.org/schemas/atom',\n",
       "     'label': None},\n",
       "    {'term': 'cs.AR',\n",
       "     'scheme': 'http://arxiv.org/schemas/atom',\n",
       "     'label': None}]},\n",
       "  {'id': 'http://arxiv.org/abs/2504.08148v1',\n",
       "   'guidislink': True,\n",
       "   'link': 'http://arxiv.org/abs/2504.08148v1',\n",
       "   'updated': '2025-04-10T22:19:41Z',\n",
       "   'updated_parsed': time.struct_time(tm_year=2025, tm_mon=4, tm_mday=10, tm_hour=22, tm_min=19, tm_sec=41, tm_wday=3, tm_yday=100, tm_isdst=0),\n",
       "   'published': '2025-04-10T22:19:41Z',\n",
       "   'published_parsed': time.struct_time(tm_year=2025, tm_mon=4, tm_mday=10, tm_hour=22, tm_min=19, tm_sec=41, tm_wday=3, tm_yday=100, tm_isdst=0),\n",
       "   'title': 'Orchestrating Agents and Data for Enterprise: A Blueprint Architecture\\n  for Compound AI',\n",
       "   'title_detail': {'type': 'text/plain',\n",
       "    'language': None,\n",
       "    'base': 'https://export.arxiv.org/api/query?search_query=agent%20workflows%20for%20ai%20powered%20applications&start=0&max_results=5',\n",
       "    'value': 'Orchestrating Agents and Data for Enterprise: A Blueprint Architecture\\n  for Compound AI'},\n",
       "   'summary': \"Large language models (LLMs) have gained significant interest in industry due\\nto their impressive capabilities across a wide range of tasks. However, the\\nwidespread adoption of LLMs presents several challenges, such as integration\\ninto existing applications and infrastructure, utilization of company\\nproprietary data, models, and APIs, and meeting cost, quality, responsiveness,\\nand other requirements. To address these challenges, there is a notable shift\\nfrom monolithic models to compound AI systems, with the premise of more\\npowerful, versatile, and reliable applications. However, progress thus far has\\nbeen piecemeal, with proposals for agentic workflows, programming models, and\\nextended LLM capabilities, without a clear vision of an overall architecture.\\nIn this paper, we propose a 'blueprint architecture' for compound AI systems\\nfor orchestrating agents and data for enterprise applications. In our proposed\\narchitecture the key orchestration concept is 'streams' to coordinate the flow\\nof data and instructions among agents. Existing proprietary models and APIs in\\nthe enterprise are mapped to 'agents', defined in an 'agent registry' that\\nserves agent metadata and learned representations for search and planning.\\nAgents can utilize proprietary data through a 'data registry' that similarly\\nregisters enterprise data of various modalities. Tying it all together, data\\nand task 'planners' break down, map, and optimize tasks and queries for given\\nquality of service (QoS) requirements such as cost, accuracy, and latency. We\\nillustrate an implementation of the architecture for a use-case in the HR\\ndomain and discuss opportunities and challenges for 'agentic AI' in the\\nenterprise.\",\n",
       "   'summary_detail': {'type': 'text/plain',\n",
       "    'language': None,\n",
       "    'base': 'https://export.arxiv.org/api/query?search_query=agent%20workflows%20for%20ai%20powered%20applications&start=0&max_results=5',\n",
       "    'value': \"Large language models (LLMs) have gained significant interest in industry due\\nto their impressive capabilities across a wide range of tasks. However, the\\nwidespread adoption of LLMs presents several challenges, such as integration\\ninto existing applications and infrastructure, utilization of company\\nproprietary data, models, and APIs, and meeting cost, quality, responsiveness,\\nand other requirements. To address these challenges, there is a notable shift\\nfrom monolithic models to compound AI systems, with the premise of more\\npowerful, versatile, and reliable applications. However, progress thus far has\\nbeen piecemeal, with proposals for agentic workflows, programming models, and\\nextended LLM capabilities, without a clear vision of an overall architecture.\\nIn this paper, we propose a 'blueprint architecture' for compound AI systems\\nfor orchestrating agents and data for enterprise applications. In our proposed\\narchitecture the key orchestration concept is 'streams' to coordinate the flow\\nof data and instructions among agents. Existing proprietary models and APIs in\\nthe enterprise are mapped to 'agents', defined in an 'agent registry' that\\nserves agent metadata and learned representations for search and planning.\\nAgents can utilize proprietary data through a 'data registry' that similarly\\nregisters enterprise data of various modalities. Tying it all together, data\\nand task 'planners' break down, map, and optimize tasks and queries for given\\nquality of service (QoS) requirements such as cost, accuracy, and latency. We\\nillustrate an implementation of the architecture for a use-case in the HR\\ndomain and discuss opportunities and challenges for 'agentic AI' in the\\nenterprise.\"},\n",
       "   'authors': [{'name': 'Eser Kandogan'},\n",
       "    {'name': 'Nikita Bhutani'},\n",
       "    {'name': 'Dan Zhang'},\n",
       "    {'name': 'Rafael Li Chen'},\n",
       "    {'name': 'Sairam Gurajada'},\n",
       "    {'name': 'Estevam Hruschka'}],\n",
       "   'author_detail': {'name': 'Estevam Hruschka'},\n",
       "   'author': 'Estevam Hruschka',\n",
       "   'arxiv_journal_ref': 'First Workshop on Data-AI Systems (DAIS), ICDE 2025',\n",
       "   'links': [{'href': 'http://arxiv.org/abs/2504.08148v1',\n",
       "     'rel': 'alternate',\n",
       "     'type': 'text/html'},\n",
       "    {'title': 'pdf',\n",
       "     'href': 'http://arxiv.org/pdf/2504.08148v1',\n",
       "     'rel': 'related',\n",
       "     'type': 'application/pdf'}],\n",
       "   'arxiv_primary_category': {'term': 'cs.AI',\n",
       "    'scheme': 'http://arxiv.org/schemas/atom'},\n",
       "   'tags': [{'term': 'cs.AI',\n",
       "     'scheme': 'http://arxiv.org/schemas/atom',\n",
       "     'label': None},\n",
       "    {'term': 'cs.DB',\n",
       "     'scheme': 'http://arxiv.org/schemas/atom',\n",
       "     'label': None},\n",
       "    {'term': 'cs.DC',\n",
       "     'scheme': 'http://arxiv.org/schemas/atom',\n",
       "     'label': None},\n",
       "    {'term': 'cs.LG',\n",
       "     'scheme': 'http://arxiv.org/schemas/atom',\n",
       "     'label': None}]},\n",
       "  {'id': 'http://arxiv.org/abs/2407.12821v1',\n",
       "   'guidislink': True,\n",
       "   'link': 'http://arxiv.org/abs/2407.12821v1',\n",
       "   'updated': '2024-07-01T21:05:02Z',\n",
       "   'updated_parsed': time.struct_time(tm_year=2024, tm_mon=7, tm_mday=1, tm_hour=21, tm_min=5, tm_sec=2, tm_wday=0, tm_yday=183, tm_isdst=0),\n",
       "   'published': '2024-07-01T21:05:02Z',\n",
       "   'published_parsed': time.struct_time(tm_year=2024, tm_mon=7, tm_mday=1, tm_hour=21, tm_min=5, tm_sec=2, tm_wday=0, tm_yday=183, tm_isdst=0),\n",
       "   'title': 'AutoFlow: Automated Workflow Generation for Large Language Model Agents',\n",
       "   'title_detail': {'type': 'text/plain',\n",
       "    'language': None,\n",
       "    'base': 'https://export.arxiv.org/api/query?search_query=agent%20workflows%20for%20ai%20powered%20applications&start=0&max_results=5',\n",
       "    'value': 'AutoFlow: Automated Workflow Generation for Large Language Model Agents'},\n",
       "   'summary': 'Recent advancements in Large Language Models (LLMs) have shown significant\\nprogress in understanding complex natural language. One important application\\nof LLM is LLM-based AI Agent, which leverages the ability of LLM as well as\\nexternal tools for complex-task solving. To make sure LLM Agents follow an\\neffective and reliable procedure to solve the given task, manually designed\\nworkflows are usually used to guide the working mechanism of agents. However,\\nmanually designing the workflows requires considerable efforts and domain\\nknowledge, making it difficult to develop and deploy agents on massive scales.\\nTo address these issues, we propose AutoFlow, a framework designed to\\nautomatically generate workflows for agents to solve complex tasks. AutoFlow\\ntakes natural language program as the format of agent workflow and employs a\\nworkflow optimization procedure to iteratively optimize the workflow quality.\\nBesides, this work offers two workflow generation methods: fine-tuning-based\\nand in-context-based methods, making the AutoFlow framework applicable to both\\nopen-source and closed-source LLMs. Experimental results show that our\\nframework can produce robust and reliable agent workflows. We believe that the\\nautomatic generation and interpretation of workflows in natural language\\nrepresent a promising paradigm for solving complex tasks, particularly with the\\nrapid development of LLMs. The source code of this work is available at\\nhttps://github.com/agiresearch/AutoFlow.',\n",
       "   'summary_detail': {'type': 'text/plain',\n",
       "    'language': None,\n",
       "    'base': 'https://export.arxiv.org/api/query?search_query=agent%20workflows%20for%20ai%20powered%20applications&start=0&max_results=5',\n",
       "    'value': 'Recent advancements in Large Language Models (LLMs) have shown significant\\nprogress in understanding complex natural language. One important application\\nof LLM is LLM-based AI Agent, which leverages the ability of LLM as well as\\nexternal tools for complex-task solving. To make sure LLM Agents follow an\\neffective and reliable procedure to solve the given task, manually designed\\nworkflows are usually used to guide the working mechanism of agents. However,\\nmanually designing the workflows requires considerable efforts and domain\\nknowledge, making it difficult to develop and deploy agents on massive scales.\\nTo address these issues, we propose AutoFlow, a framework designed to\\nautomatically generate workflows for agents to solve complex tasks. AutoFlow\\ntakes natural language program as the format of agent workflow and employs a\\nworkflow optimization procedure to iteratively optimize the workflow quality.\\nBesides, this work offers two workflow generation methods: fine-tuning-based\\nand in-context-based methods, making the AutoFlow framework applicable to both\\nopen-source and closed-source LLMs. Experimental results show that our\\nframework can produce robust and reliable agent workflows. We believe that the\\nautomatic generation and interpretation of workflows in natural language\\nrepresent a promising paradigm for solving complex tasks, particularly with the\\nrapid development of LLMs. The source code of this work is available at\\nhttps://github.com/agiresearch/AutoFlow.'},\n",
       "   'authors': [{'name': 'Zelong Li'},\n",
       "    {'name': 'Shuyuan Xu'},\n",
       "    {'name': 'Kai Mei'},\n",
       "    {'name': 'Wenyue Hua'},\n",
       "    {'name': 'Balaji Rama'},\n",
       "    {'name': 'Om Raheja'},\n",
       "    {'name': 'Hao Wang'},\n",
       "    {'name': 'He Zhu'},\n",
       "    {'name': 'Yongfeng Zhang'}],\n",
       "   'author_detail': {'name': 'Yongfeng Zhang'},\n",
       "   'author': 'Yongfeng Zhang',\n",
       "   'arxiv_comment': 'Open source code available at https://github.com/agiresearch/AutoFlow',\n",
       "   'links': [{'href': 'http://arxiv.org/abs/2407.12821v1',\n",
       "     'rel': 'alternate',\n",
       "     'type': 'text/html'},\n",
       "    {'title': 'pdf',\n",
       "     'href': 'http://arxiv.org/pdf/2407.12821v1',\n",
       "     'rel': 'related',\n",
       "     'type': 'application/pdf'}],\n",
       "   'arxiv_primary_category': {'term': 'cs.CL',\n",
       "    'scheme': 'http://arxiv.org/schemas/atom'},\n",
       "   'tags': [{'term': 'cs.CL',\n",
       "     'scheme': 'http://arxiv.org/schemas/atom',\n",
       "     'label': None},\n",
       "    {'term': 'cs.AI',\n",
       "     'scheme': 'http://arxiv.org/schemas/atom',\n",
       "     'label': None},\n",
       "    {'term': 'cs.LG',\n",
       "     'scheme': 'http://arxiv.org/schemas/atom',\n",
       "     'label': None}]}],\n",
       " 'feed': {'links': [{'href': 'http://arxiv.org/api/query?search_query%3Dagent%20workflows%20for%20ai%20powered%20applications%26id_list%3D%26start%3D0%26max_results%3D5',\n",
       "    'rel': 'self',\n",
       "    'type': 'application/atom+xml'}],\n",
       "  'title': 'ArXiv Query: search_query=agent workflows for ai powered applications&amp;id_list=&amp;start=0&amp;max_results=5',\n",
       "  'title_detail': {'type': 'text/html',\n",
       "   'language': None,\n",
       "   'base': 'https://export.arxiv.org/api/query?search_query=agent%20workflows%20for%20ai%20powered%20applications&start=0&max_results=5',\n",
       "   'value': 'ArXiv Query: search_query=agent workflows for ai powered applications&amp;id_list=&amp;start=0&amp;max_results=5'},\n",
       "  'id': 'http://arxiv.org/api/45GAXvvVq3C9GiI7cnmzYba0q1Y',\n",
       "  'guidislink': True,\n",
       "  'link': 'http://arxiv.org/api/45GAXvvVq3C9GiI7cnmzYba0q1Y',\n",
       "  'updated': '2025-07-12T00:00:00-04:00',\n",
       "  'updated_parsed': time.struct_time(tm_year=2025, tm_mon=7, tm_mday=12, tm_hour=4, tm_min=0, tm_sec=0, tm_wday=5, tm_yday=193, tm_isdst=0),\n",
       "  'opensearch_totalresults': '2306983',\n",
       "  'opensearch_startindex': '0',\n",
       "  'opensearch_itemsperpage': '5'},\n",
       " 'headers': {'connection': 'close',\n",
       "  'content-length': '4568',\n",
       "  'access-control-allow-origin': '*',\n",
       "  'content-encoding': 'gzip',\n",
       "  'server': 'Apache',\n",
       "  'content-type': 'application/atom+xml; charset=UTF-8',\n",
       "  'via': '1.1 varnish, 1.1 varnish, 1.1 varnish',\n",
       "  'accept-ranges': 'bytes',\n",
       "  'age': '0',\n",
       "  'date': 'Sat, 12 Jul 2025 13:50:27 GMT',\n",
       "  'x-served-by': 'cache-lga21966-LGA, cache-lga21966-LGA, cache-hyd1100029-HYD',\n",
       "  'x-cache': 'MISS, MISS, MISS',\n",
       "  'x-cache-hits': '0, 0, 0',\n",
       "  'x-timer': 'S1752328226.469027,VS0,VE841',\n",
       "  'vary': 'Accept-Encoding',\n",
       "  'strict-transport-security': 'max-age=300'},\n",
       " 'href': 'https://export.arxiv.org/api/query?search_query=agent%20workflows%20for%20ai%20powered%20applications&start=0&max_results=5',\n",
       " 'status': 301,\n",
       " 'encoding': 'UTF-8',\n",
       " 'version': 'atom10',\n",
       " 'namespaces': {'': 'http://www.w3.org/2005/Atom',\n",
       "  'opensearch': 'http://a9.com/-/spec/opensearch/1.1/',\n",
       "  'arxiv': 'http://arxiv.org/schemas/atom'}}"
      ]
     },
     "execution_count": 25,
     "metadata": {},
     "output_type": "execute_result"
    }
   ],
   "source": [
    "feed"
   ]
  },
  {
   "cell_type": "code",
   "execution_count": 18,
   "id": "e7c9b221-23af-4fe1-a992-be8a84df2af0",
   "metadata": {},
   "outputs": [],
   "source": [
    "from IPython.display import Markdown, display"
   ]
  },
  {
   "cell_type": "code",
   "execution_count": 15,
   "id": "3144bd62-7a04-48c1-b96c-434458f8267d",
   "metadata": {},
   "outputs": [
    {
     "name": "stdout",
     "output_type": "stream",
     "text": [
      "# Header\n",
      "\n",
      "__Bold text__\n"
     ]
    }
   ],
   "source": [
    "from html2markdown import convert\n",
    "\n",
    "html = \"<h1>Header</h1><p><b>Bold text</b></p>\"\n",
    "markdown = convert(html)\n",
    "print(markdown)"
   ]
  },
  {
   "cell_type": "code",
   "execution_count": 19,
   "id": "936a176a-81e5-46d4-8b57-adad00b2b865",
   "metadata": {},
   "outputs": [
    {
     "data": {
      "text/markdown": [
       "# Header\n",
       "\n",
       "__Bold text__"
      ],
      "text/plain": [
       "<IPython.core.display.Markdown object>"
      ]
     },
     "metadata": {},
     "output_type": "display_data"
    }
   ],
   "source": [
    "display(Markdown(markdown))\n"
   ]
  },
  {
   "cell_type": "code",
   "execution_count": 20,
   "id": "d8e3aba5-a247-4bd8-8500-161e9500a8c4",
   "metadata": {},
   "outputs": [
    {
     "data": {
      "text/plain": [
       "'# Header\\n\\n__Bold text__'"
      ]
     },
     "execution_count": 20,
     "metadata": {},
     "output_type": "execute_result"
    }
   ],
   "source": [
    "markdown"
   ]
  }
 ],
 "metadata": {
  "kernelspec": {
   "display_name": "Python 3 (ipykernel)",
   "language": "python",
   "name": "python3"
  },
  "language_info": {
   "codemirror_mode": {
    "name": "ipython",
    "version": 3
   },
   "file_extension": ".py",
   "mimetype": "text/x-python",
   "name": "python",
   "nbconvert_exporter": "python",
   "pygments_lexer": "ipython3",
   "version": "3.10.12"
  }
 },
 "nbformat": 4,
 "nbformat_minor": 5
}
