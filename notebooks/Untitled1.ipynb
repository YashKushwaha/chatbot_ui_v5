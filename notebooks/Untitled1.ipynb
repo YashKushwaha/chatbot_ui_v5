{
 "cells": [
  {
   "cell_type": "code",
   "execution_count": 3,
   "id": "5d0e2b19-b499-4c06-930c-f0f5e4b756e3",
   "metadata": {},
   "outputs": [],
   "source": [
    "from pathlib import Path\n",
    "import os"
   ]
  },
  {
   "cell_type": "code",
   "execution_count": 5,
   "id": "772dd573-676c-4ffd-b0a2-8977dd4568eb",
   "metadata": {},
   "outputs": [],
   "source": [
    "PROJECT_ROOT = Path(os.getcwd()).resolve().parents[0]"
   ]
  },
  {
   "cell_type": "code",
   "execution_count": 8,
   "id": "7663b6a1-bad3-4a80-9fd4-84d2f3d393fa",
   "metadata": {},
   "outputs": [],
   "source": [
    "md_location = os.path.join(PROJECT_ROOT, 'docs')\n",
    "md_files = [i for i in os.listdir(md_location) if i.endswith('.md')]"
   ]
  },
  {
   "cell_type": "code",
   "execution_count": 9,
   "id": "6f9e75f0-e0de-44fa-8aeb-b9d1c02b9a8b",
   "metadata": {},
   "outputs": [
    {
     "data": {
      "text/plain": [
       "['2412.17149v1.md']"
      ]
     },
     "execution_count": 9,
     "metadata": {},
     "output_type": "execute_result"
    }
   ],
   "source": [
    "md_files"
   ]
  },
  {
   "cell_type": "code",
   "execution_count": 11,
   "id": "629d0877-e2b3-4dc8-b448-2462cf99f22e",
   "metadata": {},
   "outputs": [],
   "source": [
    "from llama_index.readers.file import MarkdownReader\n",
    "from llama_index.core.node_parser.file.markdown import MarkdownNodeParser"
   ]
  },
  {
   "cell_type": "code",
   "execution_count": 12,
   "id": "60d5dc33-bcdf-4acc-bccd-4cf3fd64001d",
   "metadata": {},
   "outputs": [],
   "source": [
    "reader = MarkdownReader()\n",
    "file_name = os.path.join(md_location, md_files[0])\n",
    "documents = reader.load_data(file_name)"
   ]
  },
  {
   "cell_type": "code",
   "execution_count": 35,
   "id": "48a7c92d-57b2-41f9-a6ed-80392a3d4a1f",
   "metadata": {},
   "outputs": [
    {
     "name": "stdout",
     "output_type": "stream",
     "text": [
      "Help on method load_data in module llama_index.readers.file.markdown.base:\n",
      "\n",
      "load_data(file: str, extra_info: Optional[Dict] = None, fs: Optional[fsspec.spec.AbstractFileSystem] = None) -> List[llama_index.core.schema.Document] method of llama_index.readers.file.markdown.base.MarkdownReader instance\n",
      "    Parse file into string.\n",
      "\n"
     ]
    }
   ],
   "source": [
    "help(reader.load_data)"
   ]
  },
  {
   "cell_type": "code",
   "execution_count": 42,
   "id": "7d285168-348b-42ee-b3ae-450505fd3ea0",
   "metadata": {},
   "outputs": [
    {
     "name": "stdout",
     "output_type": "stream",
     "text": [
      "[1408, 2062, 4039, 389, 692, 284, 5036, 1312, 4320, 1362, 1297, 1162, 1026, 1096, 1055, 1053, 1796, 1505, 1428, 986, 2566, 212, 906, 563, 958, 820, 434, 177, 170, 549, 472, 165, 543, 610, 764, 186, 992, 360, 775]\n"
     ]
    }
   ],
   "source": [
    "doc_lengths = [len(i.text_resource.text) for i in documents ]\n",
    "print(doc_lengths)"
   ]
  },
  {
   "cell_type": "code",
   "execution_count": 25,
   "id": "05a504cb-d481-4fee-935e-1f109069f7ea",
   "metadata": {
    "scrolled": true
   },
   "outputs": [
    {
     "name": "stdout",
     "output_type": "stream",
     "text": [
      "id_  =>  66f9893d-6486-45c8-8532-4ab2ac66679d\n",
      "-----\n",
      "embedding  =>  None\n",
      "-----\n",
      "metadata  =>  {}\n",
      "-----\n",
      "excluded_embed_metadata_keys  =>  []\n",
      "-----\n",
      "excluded_llm_metadata_keys  =>  []\n",
      "-----\n",
      "relationships  =>  {}\n",
      "-----\n",
      "metadata_template  =>  {key}: {value}\n",
      "-----\n",
      "metadata_separator  =>  \n",
      "\n",
      "-----\n",
      "text_resource  =>  embeddings=None data=None text='\\n\\nA Multi-AI Agent System for Autonomous Optimization of Agentic AI Solutions via Iterative Refinement and LLM-Driven Feedback Loops 1: Input: 6: Output:\\n- 2: C0: Initial code\\n- 3: criteria: Qualitative evaluation criteria\\n- 4: ϵ: Improvement threshold\\n- 5: max\\\\_iterations: Maximum number of iterations\\n- 7: Cbest: Best-known code variant\\n- 8: Obest: Output of the best-known code variant' path=None url=None mimetype=None\n",
      "-----\n",
      "image_resource  =>  None\n",
      "-----\n",
      "audio_resource  =>  None\n",
      "-----\n",
      "video_resource  =>  None\n",
      "-----\n",
      "text_template  =>  {metadata_str}\n",
      "\n",
      "{content}\n",
      "-----\n"
     ]
    }
   ],
   "source": [
    "for i in documents[3:4]:\n",
    "    for i,j in i.__dict__.items():\n",
    "        print(i, ' => ', j)\n",
    "        print(5*'-')"
   ]
  },
  {
   "cell_type": "code",
   "execution_count": 38,
   "id": "6874a559-8c5f-4e5c-afcc-bfc1d5260211",
   "metadata": {},
   "outputs": [
    {
     "data": {
      "text/plain": [
       "Document(id_='d376bce2-7366-4581-b1b7-fb5cceaed100', embedding=None, metadata={}, excluded_embed_metadata_keys=[], excluded_llm_metadata_keys=[], relationships={}, metadata_template='{key}: {value}', metadata_separator='\\n', text_resource=MediaResource(embeddings=None, data=None, text='\\n\\nA Multi-AI Agent System for Autonomous Optimization of Agentic AI Solutions via Iterative Refinement and LLM-Driven Feedback Loops 26: end if\\n- 27: if |Si+1 − Sbest| < ϵ then\\n- 28: break ▷ Stop if improvement is below threshold\\n- 29: end if\\n- 30: end while\\n- 31: Return Cbest, Obest', path=None, url=None, mimetype=None), image_resource=None, audio_resource=None, video_resource=None, text_template='{metadata_str}\\n\\n{content}')"
      ]
     },
     "execution_count": 38,
     "metadata": {},
     "output_type": "execute_result"
    }
   ],
   "source": [
    "documents[5]"
   ]
  },
  {
   "cell_type": "code",
   "execution_count": 44,
   "id": "16055a8f-e01b-42d3-9cb2-ea80a9b5fd95",
   "metadata": {
    "scrolled": true
   },
   "outputs": [
    {
     "name": "stdout",
     "output_type": "stream",
     "text": [
      "embeddings  =>  None\n",
      "-----\n",
      "data  =>  None\n",
      "-----\n",
      "text  =>  \n",
      "\n",
      "A Multi-AI Agent System for Autonomous Optimization of Agentic AI Solutions via Iterative Refinement and LLM-Driven Feedback Loops 26: end if\n",
      "- 27: if |Si+1 − Sbest| < ϵ then\n",
      "- 28: break ▷ Stop if improvement is below threshold\n",
      "- 29: end if\n",
      "- 30: end while\n",
      "- 31: Return Cbest, Obest\n",
      "-----\n",
      "path  =>  None\n",
      "-----\n",
      "url  =>  None\n",
      "-----\n",
      "mimetype  =>  None\n",
      "-----\n"
     ]
    }
   ],
   "source": [
    "for doc in documents[5:6]:\n",
    "    k = doc.__dict__.get('text_resource')\n",
    "    for i,j in k.__dict__.items():\n",
    "        print(i, ' => ', j)\n",
    "        print(5*'-')"
   ]
  },
  {
   "cell_type": "code",
   "execution_count": 26,
   "id": "efa3fcae-0c25-4d9f-8ffb-2421031c7c96",
   "metadata": {},
   "outputs": [
    {
     "data": {
      "text/plain": [
       "39"
      ]
     },
     "execution_count": 26,
     "metadata": {},
     "output_type": "execute_result"
    }
   ],
   "source": [
    "len(documents)"
   ]
  },
  {
   "cell_type": "code",
   "execution_count": 46,
   "id": "bb999e71-acd3-4dec-8ac9-f1827cb1b50e",
   "metadata": {
    "scrolled": true
   },
   "outputs": [
    {
     "name": "stdout",
     "output_type": "stream",
     "text": [
      "1406\n",
      "-----\n",
      "2060\n",
      "-----\n",
      "4037\n",
      "-----\n",
      "387\n",
      "-----\n",
      "690\n",
      "-----\n",
      "282\n",
      "-----\n",
      "5034\n",
      "-----\n",
      "1310\n",
      "-----\n",
      "4318\n",
      "-----\n",
      "1360\n",
      "-----\n",
      "1295\n",
      "-----\n",
      "1160\n",
      "-----\n",
      "1024\n",
      "-----\n",
      "1094\n",
      "-----\n",
      "1053\n",
      "-----\n",
      "1051\n",
      "-----\n",
      "1794\n",
      "-----\n",
      "1503\n",
      "-----\n",
      "1426\n",
      "-----\n",
      "984\n",
      "-----\n",
      "2564\n",
      "-----\n",
      "209\n",
      "-----\n",
      "904\n",
      "-----\n",
      "561\n",
      "-----\n",
      "956\n",
      "-----\n",
      "818\n",
      "-----\n",
      "432\n",
      "-----\n",
      "174\n",
      "-----\n",
      "167\n",
      "-----\n",
      "547\n",
      "-----\n",
      "470\n",
      "-----\n",
      "162\n",
      "-----\n",
      "541\n",
      "-----\n",
      "608\n",
      "-----\n",
      "762\n",
      "-----\n",
      "183\n",
      "-----\n",
      "990\n",
      "-----\n",
      "358\n",
      "-----\n",
      "773\n",
      "-----\n"
     ]
    }
   ],
   "source": [
    "# Parse into nodes (chunks)\n",
    "parser = MarkdownNodeParser()\n",
    "nodes = parser.get_nodes_from_documents(documents)\n",
    "\n",
    "# Each `node` contains the chunked text and optionally the metadata (like heading)\n",
    "for node in nodes[:]:\n",
    "    print(len(node.text))\n",
    "    print(5*'-')\n"
   ]
  },
  {
   "cell_type": "code",
   "execution_count": 47,
   "id": "8499c91c-54d0-4342-b66e-57531f2182af",
   "metadata": {},
   "outputs": [],
   "source": [
    "from llama_index.core.node_parser.text.token import TokenTextSplitter"
   ]
  },
  {
   "cell_type": "code",
   "execution_count": 49,
   "id": "55d047c5-a33f-4c4e-a549-338020927594",
   "metadata": {},
   "outputs": [],
   "source": [
    "# Step 2: Second-stage uniform splitting\n",
    "splitter = TokenTextSplitter(chunk_size=512, chunk_overlap=50)\n",
    "\n",
    "uniform_chunks = []\n",
    "for node in nodes:\n",
    "    splits = splitter.split_text(node.text)\n",
    "    for chunk_text in splits:\n",
    "        # Optionally: retain original metadata (like header)\n",
    "        chunk = node.model_copy()\n",
    "        chunk.text = chunk_text\n",
    "        uniform_chunks.append(chunk)"
   ]
  },
  {
   "cell_type": "code",
   "execution_count": 51,
   "id": "2991ffee-4ffe-47b1-bce7-49434685fe43",
   "metadata": {},
   "outputs": [
    {
     "data": {
      "text/plain": [
       "{'id_': '494e653f-345d-419d-ab84-d5bd1191da18',\n",
       " 'embedding': None,\n",
       " 'metadata': {'header_path': '/'},\n",
       " 'excluded_embed_metadata_keys': [],\n",
       " 'excluded_llm_metadata_keys': [],\n",
       " 'relationships': {<NodeRelationship.SOURCE: '1'>: RelatedNodeInfo(node_id='50dd86e5-dc6f-485b-bab7-8b20b0df0ceb', node_type=<ObjectType.DOCUMENT: '4'>, metadata={}, hash='75c82b5da2bccf9aef965726d5ef031e003625d22d7512ccd2d6c08445f6451d')},\n",
       " 'metadata_template': '{key}: {value}',\n",
       " 'metadata_separator': '\\n',\n",
       " 'text': 'A Multi-AI Agent System for Autonomous Optimization of Agentic AI Solutions via Iterative Refinement and LLM-Driven Feedback Loops Abstract\\nKamer Ali Yuksel and Hassan Sawaf\\naiXplain Inc., San Jose, CA, USA {kamer, hassan}@aixplain.com\\nAgentic AI systems use specialized agents to handle tasks within complex workflows, enabling automation and efficiency. However, optimizing these systems often requires laborintensive, manual adjustments to refine roles, tasks, and interactions. This paper introduces a framework for autonomously optimizing Agentic AI solutions across industries, such as NLPdriven enterprise applications. The system employs agents for Refinement, Execution, Evaluation, Modification, and Documentation, leveraging iterative feedback loops powered by an LLM (*Llama 3.2-3B*). The framework achieves optimal performance without human input by autonomously generating and testing hypotheses to improve system configurations. This approach enhances scalability and adaptability, offering a robust solution for real-world applications in dynamic environments. Case studies across diverse domains illustrate the transformative impact of this framework, showcasing significant improvements in output quality, relevance, and actionability. All data for these case studies, including original and evolved agent codes, along with their outputs, are here: anonymous.4open.science/r/evolver-1D11/',\n",
       " 'mimetype': 'text/plain',\n",
       " 'start_char_idx': 2,\n",
       " 'end_char_idx': 1408,\n",
       " 'metadata_seperator': '\\n',\n",
       " 'text_template': '{metadata_str}\\n\\n{content}'}"
      ]
     },
     "execution_count": 51,
     "metadata": {},
     "output_type": "execute_result"
    }
   ],
   "source": [
    "uniform_chunks[0].__dict__"
   ]
  },
  {
   "cell_type": "code",
   "execution_count": 52,
   "id": "64026300-a143-448b-81ab-b4340a830154",
   "metadata": {},
   "outputs": [
    {
     "data": {
      "text/plain": [
       "{'id_': '638fb6d6-83ed-4046-9fc5-432a4ff883b8',\n",
       " 'embedding': None,\n",
       " 'metadata': {'header_path': '/'},\n",
       " 'excluded_embed_metadata_keys': [],\n",
       " 'excluded_llm_metadata_keys': [],\n",
       " 'relationships': {<NodeRelationship.SOURCE: '1'>: RelatedNodeInfo(node_id='2efb388c-1408-4b62-ba3b-e022805dfd50', node_type=<ObjectType.DOCUMENT: '4'>, metadata={}, hash='26508fbb5a14bca9e645d3425277dcdc8dd53c2937c2360a6b3a8ef8aff2385e')},\n",
       " 'metadata_template': '{key}: {value}',\n",
       " 'metadata_separator': '\\n',\n",
       " 'text': \"A Multi-AI Agent System for Autonomous Optimization of Agentic AI Solutions via Iterative Refinement and LLM-Driven Feedback Loops 1 Introduction\\nAgentic AI systems, composed of specialized agents working collaboratively to achieve complex objectives, have transformed industries such as market research, business process optimization, and product recommendation. These systems excel in automating decision-making and streamlining workflows. However, their optimization remains challenging due to the complexity of agent interactions and reliance on manual configurations.\\nRecent advancements in large language models (LLMs) provide a solution by enabling automated refinement of Agentic AI systems. LLMs can autonomously generate and evaluate complex hypotheses, facilitating iterative improvements in\\nagent roles and workflows with minimal human oversight. Case studies conducted demonstrate how these advancements address domain-specific challenges. These examples highlight the framework's scalability and adaptability, making it particularly effective for dynamic, evolving environments.\\nThis paper presents a framework for autonomous optimization of Agentic AI systems using LLMpowered feedback loops. The framework improves efficiency and scalability by refining agent configurations based on qualitative and quantitative metrics. Several case studies across various domains provide evidence of the framework's ability to overcome domain-specific challenges. Designed for deployment in enterprise systems, this framework addresses persistent challenges in optimizing complex workflows in real-world settings.\\nThis work establishes a scalable, autonomous system for optimizing Agentic AI with broad applicability across industries. Key contributions:\\n- Evolutionary Optimization: Evolving agent configurations without manual intervention.\\n- Autonomous Refinement: Fully automated optimization through iterative feedback loops.\\n- Validation Case Studies: Empirical results from case studies in diverse domains, demonstrating significant performance gains.\",\n",
       " 'mimetype': 'text/plain',\n",
       " 'start_char_idx': 2,\n",
       " 'end_char_idx': 2062,\n",
       " 'metadata_seperator': '\\n',\n",
       " 'text_template': '{metadata_str}\\n\\n{content}'}"
      ]
     },
     "execution_count": 52,
     "metadata": {},
     "output_type": "execute_result"
    }
   ],
   "source": [
    "uniform_chunks[1].__dict__"
   ]
  },
  {
   "cell_type": "code",
   "execution_count": 55,
   "id": "ce416d65-c24c-49a8-8497-71200a4310be",
   "metadata": {},
   "outputs": [
    {
     "data": {
      "text/plain": [
       "{'id_': '328aaee0-fe8e-414a-9a78-2d551985b701',\n",
       " 'embedding': None,\n",
       " 'metadata': {'header_path': '/'},\n",
       " 'excluded_embed_metadata_keys': [],\n",
       " 'excluded_llm_metadata_keys': [],\n",
       " 'relationships': {<NodeRelationship.SOURCE: '1'>: RelatedNodeInfo(node_id='db58bbb1-9870-44b4-a2a3-f3420f2720d8', node_type=<ObjectType.DOCUMENT: '4'>, metadata={}, hash='5626e18fe92881df669c75207903e22b2d65ce87f74ee922f01c71d467e003d2')},\n",
       " 'metadata_template': '{key}: {value}',\n",
       " 'metadata_separator': '\\n',\n",
       " 'text': 'A Multi-AI Agent System for Autonomous Optimization of Agentic AI Solutions via Iterative Refinement and LLM-Driven Feedback Loops • Completeness and Coherence:\\n- Best-Known Output: Completes essential steps for two markets.\\n- New Output: Completes essential steps for seven markets.\\n- Evaluation: The new output is more complete.\\nConclusion: The new output is superior to the best-known output as it provides:\\n- 1. A broader and clearer identification of potential markets.\\n- 2. A more comprehensive and structured consumer needs analysis.\\n- 3. More actionable insights and recommendations for product development.\\n- 4. Greater completeness and coherence in the market research process.\\nThus, the new variant (its code and output) has been saved as the best-known variant.',\n",
       " 'mimetype': 'text/plain',\n",
       " 'start_char_idx': 2,\n",
       " 'end_char_idx': 775,\n",
       " 'metadata_seperator': '\\n',\n",
       " 'text_template': '{metadata_str}\\n\\n{content}'}"
      ]
     },
     "execution_count": 55,
     "metadata": {},
     "output_type": "execute_result"
    }
   ],
   "source": [
    "node.model_copy().__dict__"
   ]
  },
  {
   "cell_type": "code",
   "execution_count": null,
   "id": "1f143c50-e318-44cc-8afb-6364256534b0",
   "metadata": {},
   "outputs": [],
   "source": []
  },
  {
   "cell_type": "code",
   "execution_count": null,
   "id": "68c64ff9-d4d4-4b2d-93fb-315422a5bc0b",
   "metadata": {},
   "outputs": [],
   "source": []
  },
  {
   "cell_type": "code",
   "execution_count": null,
   "id": "00e7aeb1-ab9f-4b83-a6f8-f5206d50b5c9",
   "metadata": {},
   "outputs": [],
   "source": []
  }
 ],
 "metadata": {
  "kernelspec": {
   "display_name": "Python 3 (ipykernel)",
   "language": "python",
   "name": "python3"
  },
  "language_info": {
   "codemirror_mode": {
    "name": "ipython",
    "version": 3
   },
   "file_extension": ".py",
   "mimetype": "text/x-python",
   "name": "python",
   "nbconvert_exporter": "python",
   "pygments_lexer": "ipython3",
   "version": "3.10.12"
  }
 },
 "nbformat": 4,
 "nbformat_minor": 5
}
