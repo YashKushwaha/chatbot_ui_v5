{
 "cells": [
  {
   "cell_type": "code",
   "execution_count": 1,
   "id": "34bce6a6-889c-42c3-b8b3-37ede10cb2a9",
   "metadata": {},
   "outputs": [],
   "source": [
    "from pathlib import Path\n",
    "import os"
   ]
  },
  {
   "cell_type": "code",
   "execution_count": 2,
   "id": "ae023d96-45d2-4db1-bd28-b40cd76e2ad3",
   "metadata": {},
   "outputs": [],
   "source": [
    "PROJECT_ROOT = Path(os.getcwd()).resolve().parents[0]\n",
    "\n",
    "paper_folder = os.path.join(PROJECT_ROOT, 'docs')"
   ]
  },
  {
   "cell_type": "code",
   "execution_count": 3,
   "id": "2a87e9a1-71bf-4d7a-8a21-fdd14376a424",
   "metadata": {},
   "outputs": [
    {
     "data": {
      "text/plain": [
       "['2412.17149v1.pdf']"
      ]
     },
     "execution_count": 3,
     "metadata": {},
     "output_type": "execute_result"
    }
   ],
   "source": [
    "files = [i for i in os.listdir(paper_folder) if i.endswith('.pdf')]\n",
    "files"
   ]
  },
  {
   "cell_type": "code",
   "execution_count": 4,
   "id": "7edc425f-8423-4e00-9d65-9feece6d1bad",
   "metadata": {},
   "outputs": [],
   "source": [
    "from marker.converters.pdf import PdfConverter\n",
    "from marker.models import create_model_dict\n",
    "from marker.output import text_from_rendered"
   ]
  },
  {
   "cell_type": "code",
   "execution_count": 5,
   "id": "aff5ff65-c391-466e-9d13-286d66ef8d33",
   "metadata": {},
   "outputs": [
    {
     "name": "stderr",
     "output_type": "stream",
     "text": [
      "Recognizing layout: 100%|███████████████████████████████████████████████████████████████| 1/1 [00:01<00:00,  1.45s/it]\n",
      "Running OCR Error Detection: 100%|██████████████████████████████████████████████████████| 1/1 [00:00<00:00, 25.62it/s]\n",
      "Detecting bboxes: 0it [00:00, ?it/s]\n",
      "Recognizing Text: 100%|█████████████████████████████████████████████████████████████████| 3/3 [00:00<00:00,  4.58it/s]\n",
      "Detecting bboxes: 0it [00:00, ?it/s]\n",
      "Recognizing tables: 100%|███████████████████████████████████████████████████████████████| 1/1 [00:00<00:00,  7.88it/s]\n"
     ]
    }
   ],
   "source": [
    "# Load PDF and render\n",
    "pdf_file = os.path.join(paper_folder, files[0])\n",
    "\n",
    "converter = PdfConverter(artifact_dict=create_model_dict())\n",
    "rendered = converter(pdf_file)  # replace with your PDF path"
   ]
  },
  {
   "cell_type": "code",
   "execution_count": 6,
   "id": "8aa64ada-8fc8-43bb-8c55-8b8774b91fb7",
   "metadata": {},
   "outputs": [
    {
     "data": {
      "text/plain": [
       "['__annotations__',\n",
       " '__call__',\n",
       " '__class__',\n",
       " '__delattr__',\n",
       " '__dict__',\n",
       " '__dir__',\n",
       " '__doc__',\n",
       " '__eq__',\n",
       " '__format__',\n",
       " '__ge__',\n",
       " '__getattribute__',\n",
       " '__gt__',\n",
       " '__hash__',\n",
       " '__init__',\n",
       " '__init_subclass__',\n",
       " '__le__',\n",
       " '__lt__',\n",
       " '__module__',\n",
       " '__ne__',\n",
       " '__new__',\n",
       " '__reduce__',\n",
       " '__reduce_ex__',\n",
       " '__repr__',\n",
       " '__setattr__',\n",
       " '__sizeof__',\n",
       " '__str__',\n",
       " '__subclasshook__',\n",
       " '__weakref__',\n",
       " 'artifact_dict',\n",
       " 'build_document',\n",
       " 'config',\n",
       " 'default_llm_service',\n",
       " 'default_processors',\n",
       " 'filepath_to_str',\n",
       " 'initialize_processors',\n",
       " 'layout_builder_class',\n",
       " 'llm_service',\n",
       " 'override_map',\n",
       " 'page_count',\n",
       " 'processor_list',\n",
       " 'renderer',\n",
       " 'resolve_dependencies',\n",
       " 'use_llm']"
      ]
     },
     "execution_count": 6,
     "metadata": {},
     "output_type": "execute_result"
    }
   ],
   "source": [
    "dir(converter)"
   ]
  },
  {
   "cell_type": "code",
   "execution_count": 7,
   "id": "df54db97-51e0-40f6-9a00-91fedda36077",
   "metadata": {
    "scrolled": true
   },
   "outputs": [
    {
     "name": "stderr",
     "output_type": "stream",
     "text": [
      "Recognizing layout: 100%|███████████████████████████████████████████████████████████████| 1/1 [00:01<00:00,  1.52s/it]\n",
      "Running OCR Error Detection: 100%|██████████████████████████████████████████████████████| 1/1 [00:00<00:00, 25.40it/s]\n",
      "Detecting bboxes: 0it [00:00, ?it/s]\n",
      "Recognizing Text: 100%|█████████████████████████████████████████████████████████████████| 3/3 [00:00<00:00,  6.39it/s]\n",
      "Detecting bboxes: 0it [00:00, ?it/s]\n",
      "Recognizing tables: 100%|███████████████████████████████████████████████████████████████| 1/1 [00:00<00:00,  8.85it/s]\n"
     ]
    }
   ],
   "source": [
    "doc = converter.build_document(pdf_file)  # Use .render()"
   ]
  },
  {
   "cell_type": "code",
   "execution_count": 8,
   "id": "e0874e09-16ea-4d69-8a57-1c285f019690",
   "metadata": {},
   "outputs": [],
   "source": [
    "#from marker.schema.block import TitleBlock, TextBlock, TableBlock\n",
    "blocks = list(doc.contained_blocks())"
   ]
  },
  {
   "cell_type": "code",
   "execution_count": 9,
   "id": "9c8056f2-44a5-4fce-a3cd-f445d7d81bb1",
   "metadata": {},
   "outputs": [
    {
     "data": {
      "text/plain": [
       "3667"
      ]
     },
     "execution_count": 9,
     "metadata": {},
     "output_type": "execute_result"
    }
   ],
   "source": [
    "len(blocks)"
   ]
  },
  {
   "cell_type": "code",
   "execution_count": 10,
   "id": "cc4e5fee-bf3b-4ca6-8c3b-2b7420e472f1",
   "metadata": {},
   "outputs": [
    {
     "data": {
      "text/plain": [
       "{'polygon': PolygonBox(polygon=[[87.09500122070312, 94.7900390625], [508.1847229003906, 94.7900390625], [508.1847229003906, 109.13623046875], [87.09500122070312, 109.13623046875]], bbox=[87.09500122070312, 94.7900390625, 508.1847229003906, 109.13623046875]),\n",
       " 'block_description': 'A line of text.',\n",
       " 'block_type': <BlockTypes.Line: '1'>,\n",
       " 'block_id': 22,\n",
       " 'page_id': 0,\n",
       " 'text_extraction_method': 'pdftext',\n",
       " 'structure': [/page/0/Span/23, /page/0/Span/24],\n",
       " 'ignore_for_output': False,\n",
       " 'replace_output_newlines': False,\n",
       " 'source': 'layout',\n",
       " 'top_k': None,\n",
       " 'metadata': None,\n",
       " 'lowres_image': None,\n",
       " 'highres_image': None,\n",
       " 'removed': False,\n",
       " 'formats': None}"
      ]
     },
     "execution_count": 10,
     "metadata": {},
     "output_type": "execute_result"
    }
   ],
   "source": [
    "blocks[8].__dict__"
   ]
  },
  {
   "cell_type": "code",
   "execution_count": 11,
   "id": "194de2c4-7e32-428b-a880-11e00f08865d",
   "metadata": {},
   "outputs": [],
   "source": [
    "block_types = {str(i.__dict__.get('block_type')) for i in blocks}"
   ]
  },
  {
   "cell_type": "code",
   "execution_count": 12,
   "id": "ab816fd1-280a-48f7-9d70-b49fd404817d",
   "metadata": {},
   "outputs": [
    {
     "data": {
      "text/plain": [
       "{'Caption',\n",
       " 'Equation',\n",
       " 'Figure',\n",
       " 'FigureGroup',\n",
       " 'Line',\n",
       " 'ListGroup',\n",
       " 'ListItem',\n",
       " 'PageFooter',\n",
       " 'PageHeader',\n",
       " 'Reference',\n",
       " 'SectionHeader',\n",
       " 'Span',\n",
       " 'Table',\n",
       " 'TableCell',\n",
       " 'Text',\n",
       " 'TextInlineMath'}"
      ]
     },
     "execution_count": 12,
     "metadata": {},
     "output_type": "execute_result"
    }
   ],
   "source": [
    "block_types"
   ]
  },
  {
   "cell_type": "code",
   "execution_count": 13,
   "id": "6c4310b5-6c08-47c6-a62f-97c23c1ae760",
   "metadata": {},
   "outputs": [],
   "source": [
    "from dataclasses import dataclass\n",
    "\n",
    "@dataclass\n",
    "class MarkdownChunk:\n",
    "    content: str\n",
    "    type: str\n",
    "    page: int\n",
    "    metadata: dict\n"
   ]
  },
  {
   "cell_type": "code",
   "execution_count": 14,
   "id": "98934576-9ff0-47ce-b16d-d8d4ca2b95bb",
   "metadata": {},
   "outputs": [],
   "source": [
    "from collections import Counter"
   ]
  },
  {
   "cell_type": "code",
   "execution_count": 31,
   "id": "28541cff-2064-4416-9cac-b601106e95f0",
   "metadata": {},
   "outputs": [],
   "source": [
    "chunks = []\n",
    "block_counter = 0\n",
    "block_types = []\n",
    "\n",
    "relevant_blocks = []\n",
    "\n",
    "for page in doc.pages:\n",
    "    for block in page.contained_blocks(doc):\n",
    "        \n",
    "        block_types.append(str(block.block_type))\n",
    "        \n",
    "        if str(block.block_type) in {\"Text\", \"SectionHeader\", \"Caption\"}:\n",
    "            relevant_blocks.append(block)\n",
    "            block_counter += 1\n"
   ]
  },
  {
   "cell_type": "code",
   "execution_count": 32,
   "id": "e480a2c8-c4e5-44e9-9ff6-e5632cd0a2d5",
   "metadata": {},
   "outputs": [],
   "source": [
    "chunks = []\n",
    "\n",
    "for block in relevant_blocks:\n",
    "    text = getattr(block, \"text\", None)\n",
    "    if text and text.strip():\n",
    "        chunk = MarkdownChunk(\n",
    "            content=text.strip(),\n",
    "            type=str(block.block_type),\n",
    "            page=block.page_num,\n",
    "            metadata={\n",
    "                \"block_type\": str(block.block_type),\n",
    "                \"page_num\": block.page_num\n",
    "            }\n",
    "        )\n",
    "        chunks.append(chunk)\n"
   ]
  },
  {
   "cell_type": "code",
   "execution_count": 45,
   "id": "482c80f9-4cbc-4bb2-9bc6-3ec9cb1d3a4b",
   "metadata": {},
   "outputs": [
    {
     "data": {
      "text/plain": [
       "'Agentic AI systems use specialized agents to\\nhandle tasks within complex workflows, en-\\nabling automation and efficiency. However,\\noptimizing these systems often requires labor-\\nintensive, manual adjustments to refine roles,\\ntasks, and interactions. This paper introduces a\\nframework for autonomously optimizing Agen-\\ntic AI solutions across industries, such as NLP-\\ndriven enterprise applications. The system em-\\nploys agents for Refinement, Execution, Evalu-\\nation, Modification, and Documentation, lever-\\naging iterative feedback loops powered by an\\nLLM (Llama 3.2-3B). The framework achieves\\noptimal performance without human input by\\nautonomously generating and testing hypothe-\\nses to improve system configurations. This\\napproach enhances scalability and adaptability,\\noffering a robust solution for real-world appli-\\ncations in dynamic environments. Case studies\\nacross diverse domains illustrate the transfor-\\nmative impact of this framework, showcasing\\nsignificant improvements in output quality, rel-\\nevance, and actionability. All data for these\\ncase studies, including original and evolved\\nagent codes, along with their outputs, are here:\\nanonymous.4open.science/r/evolver-1D11/\\n'"
      ]
     },
     "execution_count": 45,
     "metadata": {},
     "output_type": "execute_result"
    }
   ],
   "source": [
    "block.raw_text(doc)"
   ]
  },
  {
   "cell_type": "code",
   "execution_count": 49,
   "id": "818e5867-0bc5-4905-889c-37b9296b10b4",
   "metadata": {},
   "outputs": [
    {
     "name": "stdout",
     "output_type": "stream",
     "text": [
      "0\n",
      "1\n",
      "2\n",
      "3\n",
      "4\n",
      "5\n",
      "6\n",
      "7\n",
      "8\n",
      "9\n",
      "10\n"
     ]
    }
   ],
   "source": [
    "for page in doc.pages:\n",
    "    print(page.page_id)"
   ]
  },
  {
   "cell_type": "code",
   "execution_count": 51,
   "id": "71b33581-369a-4f2e-9d67-9bd16b835072",
   "metadata": {},
   "outputs": [],
   "source": [
    "chunks = []\n",
    "\n",
    "for page in doc.pages:\n",
    "    for block in page.contained_blocks(doc):\n",
    "        block_type_str = str(block.block_type)\n",
    "\n",
    "        if block_type_str in {\"Text\", \"SectionHeader\", \"Caption\"}:\n",
    "            content = block.raw_text(doc)\n",
    "\n",
    "            if content and content.strip():\n",
    "                chunks.append(MarkdownChunk(\n",
    "                    content=content.strip(),\n",
    "                    type=block_type_str,\n",
    "                    page=page.page_id,\n",
    "                    metadata={\n",
    "                        \"block_type\": block_type_str,\n",
    "                        \"page_num\": page.page_id\n",
    "                    }\n",
    "                ))\n"
   ]
  },
  {
   "cell_type": "code",
   "execution_count": 52,
   "id": "4fef6c89-05e0-46f9-8b3a-021805b3f03a",
   "metadata": {},
   "outputs": [
    {
     "data": {
      "text/plain": [
       "106"
      ]
     },
     "execution_count": 52,
     "metadata": {},
     "output_type": "execute_result"
    }
   ],
   "source": [
    "len(chunks)"
   ]
  },
  {
   "cell_type": "code",
   "execution_count": 58,
   "id": "38fd1a88-4fd7-4b9e-9295-59d39b14d8d6",
   "metadata": {},
   "outputs": [
    {
     "data": {
      "text/plain": [
       "MarkdownChunk(content='Abstract', type='SectionHeader', page=0, metadata={'block_type': 'SectionHeader', 'page_num': 0})"
      ]
     },
     "execution_count": 58,
     "metadata": {},
     "output_type": "execute_result"
    }
   ],
   "source": [
    "chunks[3]"
   ]
  },
  {
   "cell_type": "code",
   "execution_count": 57,
   "id": "8184640e-3da4-40b2-9119-5972c7672e0e",
   "metadata": {
    "scrolled": true
   },
   "outputs": [
    {
     "name": "stdout",
     "output_type": "stream",
     "text": [
      "130\n",
      "33\n",
      "61\n",
      "8\n",
      "1190\n",
      "14\n",
      "430\n",
      "233\n",
      "291\n",
      "530\n",
      "142\n",
      "12\n",
      "500\n",
      "1\n",
      "394\n",
      "693\n",
      "835\n",
      "649\n",
      "36\n",
      "638\n",
      "9\n",
      "10\n",
      "18\n",
      "38\n",
      "10\n",
      "14\n",
      "1057\n",
      "956\n",
      "444\n",
      "780\n",
      "23\n",
      "889\n",
      "779\n",
      "24\n",
      "1157\n",
      "22\n",
      "1683\n",
      "14\n",
      "501\n",
      "490\n",
      "25\n",
      "1150\n",
      "42\n",
      "30\n",
      "1079\n",
      "39\n",
      "27\n",
      "494\n",
      "443\n",
      "44\n",
      "18\n",
      "852\n",
      "18\n",
      "244\n",
      "35\n",
      "601\n",
      "35\n",
      "17\n",
      "849\n",
      "34\n",
      "25\n",
      "641\n",
      "185\n",
      "42\n",
      "22\n",
      "355\n",
      "244\n",
      "451\n",
      "12\n",
      "1350\n",
      "12\n",
      "599\n",
      "685\n",
      "13\n",
      "838\n",
      "10\n",
      "35\n",
      "41\n",
      "36\n",
      "147\n",
      "186\n",
      "22\n",
      "187\n",
      "168\n",
      "31\n",
      "144\n",
      "166\n",
      "54\n",
      "147\n",
      "208\n",
      "20\n",
      "84\n",
      "43\n",
      "36\n",
      "40\n",
      "30\n",
      "31\n",
      "28\n",
      "30\n",
      "54\n",
      "52\n",
      "35\n",
      "38\n",
      "29\n",
      "79\n",
      "85\n"
     ]
    }
   ],
   "source": [
    "for i in chunks:\n",
    "    print(len(i.content))"
   ]
  },
  {
   "cell_type": "code",
   "execution_count": 74,
   "id": "0decb2f3-0264-44ac-bde9-aa24b2f16fd7",
   "metadata": {},
   "outputs": [],
   "source": [
    "chunks = []\n",
    "current_section = None\n",
    "for page in doc.pages:\n",
    "    for block in page.contained_blocks(doc):\n",
    "        if str(block.block_type) == \"SectionHeader\":\n",
    "            current_section = block.raw_text(doc).strip()\n",
    "    \n",
    "        if str(block.block_type) == \"Text\":\n",
    "            content = block.raw_text(doc)\n",
    "            bbox = block.polygon.bbox if block.polygon else None\n",
    "            chunks.append({\n",
    "                \"content\": content,\n",
    "                \"section\": current_section,\n",
    "                \"page\": page.page_id,\n",
    "                \"bbox\": bbox \n",
    "            })\n"
   ]
  },
  {
   "cell_type": "code",
   "execution_count": 75,
   "id": "ce5ca027-86ef-48aa-9572-880d0a60d3ff",
   "metadata": {},
   "outputs": [
    {
     "data": {
      "text/plain": [
       "54"
      ]
     },
     "execution_count": 75,
     "metadata": {},
     "output_type": "execute_result"
    }
   ],
   "source": [
    "len(chunks)"
   ]
  },
  {
   "cell_type": "code",
   "execution_count": 86,
   "id": "c74cb39d-adb0-4a2b-8ff5-16cea070bd07",
   "metadata": {},
   "outputs": [
    {
     "data": {
      "text/plain": [
       "{'content': 'Agentic AI systems, composed of specialized\\nagents working collaboratively to achieve com-\\nplex objectives, have transformed industries such\\nas market research, business process optimization,\\nand product recommendation. These systems excel\\nin automating decision-making and streamlining\\nworkflows. However, their optimization remains\\nchallenging due to the complexity of agent interac-\\ntions and reliance on manual configurations.\\n',\n",
       " 'section': '1 Introduction',\n",
       " 'page': 0,\n",
       " 'bbox': [69.26171875,\n",
       "  588.3491973876953,\n",
       "  290.9458923339844,\n",
       "  707.8177642822266]}"
      ]
     },
     "execution_count": 86,
     "metadata": {},
     "output_type": "execute_result"
    }
   ],
   "source": [
    "chunks[3]"
   ]
  },
  {
   "cell_type": "code",
   "execution_count": 76,
   "id": "aa053fad-5655-440f-ae60-9e968627628a",
   "metadata": {},
   "outputs": [
    {
     "name": "stdout",
     "output_type": "stream",
     "text": [
      "A Multi-AI Agent System for Autonomous Optimization of Agentic AI\n",
      "Solutions via Iterative Refinement and LLM-Driven Feedback Loops\n",
      "-----\n",
      "A Multi-AI Agent System for Autonomous Optimization of Agentic AI\n",
      "Solutions via Iterative Refinement and LLM-Driven Feedback Loops\n",
      "-----\n",
      "Abstract\n",
      "-----\n",
      "1 Introduction\n",
      "-----\n",
      "1 Introduction\n",
      "-----\n",
      "1 Introduction\n",
      "-----\n",
      "1 Introduction\n",
      "-----\n",
      "1 Introduction\n",
      "-----\n",
      "2 Background\n",
      "-----\n",
      "2 Background\n",
      "-----\n",
      "2 Background\n",
      "-----\n",
      "2 Background\n",
      "-----\n",
      "2 Background\n",
      "-----\n",
      "2 Background\n",
      "-----\n",
      "2 Background\n",
      "-----\n",
      "2 Background\n",
      "-----\n",
      "9: Initialization:\n",
      "-----\n",
      "3 Architecture\n",
      "-----\n",
      "3 Architecture\n",
      "-----\n",
      "3 Architecture\n",
      "-----\n",
      "3 Architecture\n",
      "-----\n",
      "3.1 Synthesis Framework\n",
      "-----\n",
      "3.1 Synthesis Framework\n",
      "-----\n",
      "3.2 Evaluation Framework\n",
      "-----\n",
      "3.3 Refinement Process\n",
      "-----\n",
      "4 Case Studies\n",
      "-----\n",
      "4 Case Studies\n",
      "-----\n",
      "4.1 Market Research Agent\n",
      "-----\n",
      "4.2 Medical AI Architect Agent\n",
      "-----\n",
      "4.3 Career Transition Agent\n",
      "-----\n",
      "4.3 Career Transition Agent\n",
      "-----\n",
      "4.4 Outreach Agent\n",
      "-----\n",
      "4.5 LinkedIn Agent\n",
      "-----\n",
      "4.5 LinkedIn Agent\n",
      "-----\n",
      "4.6 Meeting Agent\n",
      "-----\n",
      "4.7 Lead Generation Agent\n",
      "-----\n",
      "4.7 Lead Generation Agent\n",
      "-----\n",
      "4.8 Evaluation Results\n",
      "-----\n",
      "4.8 Evaluation Results\n",
      "-----\n",
      "5 Discussion\n",
      "-----\n",
      "6 Conclusion\n",
      "-----\n",
      "6 Conclusion\n",
      "-----\n",
      "7 Limitations\n",
      "-----\n",
      "A.1.1 Introducing Specialized Agents\n",
      "-----\n",
      "A.1.1 Introducing Specialized Agents\n",
      "-----\n",
      "A.1.2 Tool Integration\n",
      "-----\n",
      "A.1.2 Tool Integration\n",
      "-----\n",
      "A.1.3 Redefining Existing Tasks\n",
      "-----\n",
      "A.1.3 Redefining Existing Tasks\n",
      "-----\n",
      "A.1.4 Creating a New Task for\n",
      "Comprehensive Validation\n",
      "-----\n",
      "A.1.4 Creating a New Task for\n",
      "Comprehensive Validation\n",
      "-----\n",
      "A.2 Revised Workflow\n",
      "-----\n",
      "• Completeness and Coherence:\n",
      "-----\n",
      "• Completeness and Coherence:\n",
      "-----\n"
     ]
    }
   ],
   "source": [
    "for i in chunks:\n",
    "    print(i['section'])\n",
    "    print(5*'-')"
   ]
  },
  {
   "cell_type": "code",
   "execution_count": 78,
   "id": "fd4f2736-1a18-4048-bd8f-01e9d75b939c",
   "metadata": {},
   "outputs": [
    {
     "name": "stdout",
     "output_type": "stream",
     "text": [
      "Page 0: width=596.0, height=842.0\n",
      "Page 1: width=596.0, height=842.0\n",
      "Page 2: width=596.0, height=842.0\n",
      "Page 3: width=596.0, height=842.0\n",
      "Page 4: width=596.0, height=842.0\n",
      "Page 5: width=596.0, height=842.0\n",
      "Page 6: width=596.0, height=842.0\n",
      "Page 7: width=596.0, height=842.0\n",
      "Page 8: width=596.0, height=842.0\n",
      "Page 9: width=596.0, height=842.0\n",
      "Page 10: width=596.0, height=842.0\n"
     ]
    }
   ],
   "source": [
    "for page in doc.pages:\n",
    "    bbox = page.polygon.bbox  # [x0, y0, x1, y1]\n",
    "    width = bbox[2] - bbox[0]\n",
    "    height = bbox[3] - bbox[1]\n",
    "    print(f\"Page {page.page_id}: width={width}, height={height}\")\n"
   ]
  },
  {
   "cell_type": "code",
   "execution_count": 87,
   "id": "d7503d8b-0867-44ca-8d0b-3bfe6f3c37eb",
   "metadata": {},
   "outputs": [
    {
     "name": "stdout",
     "output_type": "stream",
     "text": [
      "<module 'fastapi.responses' from '/root/.cache/pypoetry/virtualenvs/chat-bot-ui-v5-xwCijAw3-py3.10/lib/python3.10/site-packages/fastapi/responses.py'>\n"
     ]
    }
   ],
   "source": [
    "import fastapi.responses as m\n",
    "print(m)"
   ]
  },
  {
   "cell_type": "code",
   "execution_count": 88,
   "id": "965d3c01-c420-4a9d-9d39-2d4f6ef882ba",
   "metadata": {},
   "outputs": [
    {
     "data": {
      "text/plain": [
       "['Any',\n",
       " 'FileResponse',\n",
       " 'HTMLResponse',\n",
       " 'JSONResponse',\n",
       " 'ORJSONResponse',\n",
       " 'PlainTextResponse',\n",
       " 'RedirectResponse',\n",
       " 'Response',\n",
       " 'StreamingResponse',\n",
       " 'UJSONResponse',\n",
       " '__builtins__',\n",
       " '__cached__',\n",
       " '__doc__',\n",
       " '__file__',\n",
       " '__loader__',\n",
       " '__name__',\n",
       " '__package__',\n",
       " '__spec__',\n",
       " 'orjson',\n",
       " 'ujson']"
      ]
     },
     "execution_count": 88,
     "metadata": {},
     "output_type": "execute_result"
    }
   ],
   "source": [
    "dir(m)"
   ]
  },
  {
   "cell_type": "code",
   "execution_count": null,
   "id": "ce5a9069-543f-40c3-bec0-2ccae2626b47",
   "metadata": {},
   "outputs": [],
   "source": []
  }
 ],
 "metadata": {
  "kernelspec": {
   "display_name": "Python 3 (ipykernel)",
   "language": "python",
   "name": "python3"
  },
  "language_info": {
   "codemirror_mode": {
    "name": "ipython",
    "version": 3
   },
   "file_extension": ".py",
   "mimetype": "text/x-python",
   "name": "python",
   "nbconvert_exporter": "python",
   "pygments_lexer": "ipython3",
   "version": "3.10.12"
  }
 },
 "nbformat": 4,
 "nbformat_minor": 5
}
